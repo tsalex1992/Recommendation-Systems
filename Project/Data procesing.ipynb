{
 "cells": [
  {
   "cell_type": "code",
   "execution_count": 1,
   "metadata": {},
   "outputs": [],
   "source": [
    "import pandas as pd\n",
    "import datetime\n",
    "import time\n",
    "import re\n",
    "import collections\n",
    "import warnings\n",
    "import sklearn\n",
    "import pickle\n",
    "import numpy as np\n",
    "import json\n",
    "warnings.simplefilter(action='ignore', category=FutureWarning)\n",
    "from sklearn.model_selection import KFold,train_test_split\n",
    "\n"
   ]
  },
  {
   "cell_type": "code",
   "execution_count": 32,
   "metadata": {},
   "outputs": [
    {
     "name": "stderr",
     "output_type": "stream",
     "text": [
      "C:\\Users\\oferinbar\\AppData\\Local\\Temp\\ipykernel_19900\\758899751.py:9: DtypeWarning: Columns (10) have mixed types. Specify dtype option on import or set low_memory=False.\n",
      "  movies_MD_df = pd.read_csv(path + \"movies_metadata.csv\")\n"
     ]
    }
   ],
   "source": [
    "# load the data\n",
    "onDrive= False\n",
    "if onDrive == True:\n",
    "    path= \"/content/drive/MyDrive/School/IDC/RS/Project/data/\"\n",
    "    from google.colab import drive\n",
    "    drive.mount('/content/drive')\n",
    "else:\n",
    "    path= \"data\\\\\"\n",
    "movies_MD_df = pd.read_csv(path + \"movies_metadata.csv\")\n",
    "credits_df = pd.read_csv(path + \"credits.csv\")\n",
    "ratings_df = pd.read_csv(path + \"ratings.csv\")\n",
    "links_df = pd.read_csv(path + \"links.csv\")"
   ]
  },
  {
   "cell_type": "code",
   "execution_count": 34,
   "metadata": {},
   "outputs": [
    {
     "name": "stdout",
     "output_type": "stream",
     "text": [
      "Number of items:  44488\n"
     ]
    }
   ],
   "source": [
    "# drop unnecessary columns\n",
    "movies_MD_df = movies_MD_df.drop(\n",
    "    columns=[\n",
    "        \"adult\",\n",
    "        \"belongs_to_collection\",\n",
    "        \"homepage\",\n",
    "        \"poster_path\",\n",
    "        \"production_companies\",\n",
    "        \"production_countries\",\n",
    "        \"spoken_languages\",\n",
    "        \"status\",\n",
    "        \"tagline\",\n",
    "        \"video\",\n",
    "        \"budget\",\n",
    "        \"revenue\",\n",
    "        \"vote_average\",\n",
    "        \"popularity\",\n",
    "    ]\n",
    ", errors=\"ignore\")\n",
    "# Remove rows which have NaN values\n",
    "movies_MD_df = movies_MD_df.dropna()\n",
    "credits_df = credits_df.dropna()\n",
    "links_df = links_df.dropna()\n",
    "# change the id data type to int\n",
    "movies_MD_df[\"id\"] = movies_MD_df[\"id\"].astype(int)\n",
    "# merge on the id column\n",
    "movies_creds_df = movies_MD_df.merge(credits_df, on=\"id\")\n",
    "# print how many items we have\n",
    "print(\"Number of items: \", len(movies_creds_df))\n",
    "links_df[\"tmdbId\"] = links_df[\"tmdbId\"].fillna(method=\"backfill\").astype(\"int64\")\n",
    "links_df[\"movieId\"]= links_df[\"movieId\"].astype(\"int64\")\n",
    "columnMappings= {}"
   ]
  },
  {
   "cell_type": "code",
   "execution_count": 35,
   "metadata": {},
   "outputs": [
    {
     "name": "stdout",
     "output_type": "stream",
     "text": [
      "Number of items:  44618\n"
     ]
    },
    {
     "data": {
      "text/html": [
       "<div>\n",
       "<style scoped>\n",
       "    .dataframe tbody tr th:only-of-type {\n",
       "        vertical-align: middle;\n",
       "    }\n",
       "\n",
       "    .dataframe tbody tr th {\n",
       "        vertical-align: top;\n",
       "    }\n",
       "\n",
       "    .dataframe thead th {\n",
       "        text-align: right;\n",
       "    }\n",
       "</style>\n",
       "<table border=\"1\" class=\"dataframe\">\n",
       "  <thead>\n",
       "    <tr style=\"text-align: right;\">\n",
       "      <th></th>\n",
       "      <th>genres</th>\n",
       "      <th>id</th>\n",
       "      <th>imdb_id</th>\n",
       "      <th>original_language</th>\n",
       "      <th>original_title</th>\n",
       "      <th>overview</th>\n",
       "      <th>release_date</th>\n",
       "      <th>runtime</th>\n",
       "      <th>title</th>\n",
       "      <th>vote_count</th>\n",
       "      <th>cast</th>\n",
       "      <th>crew</th>\n",
       "      <th>movieId</th>\n",
       "      <th>imdbId</th>\n",
       "      <th>tmdbId</th>\n",
       "    </tr>\n",
       "  </thead>\n",
       "  <tbody>\n",
       "    <tr>\n",
       "      <th>0</th>\n",
       "      <td>[{'id': 16, 'name': 'Animation'}, {'id': 35, '...</td>\n",
       "      <td>862</td>\n",
       "      <td>tt0114709</td>\n",
       "      <td>en</td>\n",
       "      <td>Toy Story</td>\n",
       "      <td>Led by Woody, Andy's toys live happily in his ...</td>\n",
       "      <td>1995-10-30</td>\n",
       "      <td>81.0</td>\n",
       "      <td>Toy Story</td>\n",
       "      <td>5415.0</td>\n",
       "      <td>[{'cast_id': 14, 'character': 'Woody (voice)',...</td>\n",
       "      <td>[{'credit_id': '52fe4284c3a36847f8024f49', 'de...</td>\n",
       "      <td>1</td>\n",
       "      <td>114709</td>\n",
       "      <td>862</td>\n",
       "    </tr>\n",
       "    <tr>\n",
       "      <th>1</th>\n",
       "      <td>[{'id': 12, 'name': 'Adventure'}, {'id': 14, '...</td>\n",
       "      <td>8844</td>\n",
       "      <td>tt0113497</td>\n",
       "      <td>en</td>\n",
       "      <td>Jumanji</td>\n",
       "      <td>When siblings Judy and Peter discover an encha...</td>\n",
       "      <td>1995-12-15</td>\n",
       "      <td>104.0</td>\n",
       "      <td>Jumanji</td>\n",
       "      <td>2413.0</td>\n",
       "      <td>[{'cast_id': 1, 'character': 'Alan Parrish', '...</td>\n",
       "      <td>[{'credit_id': '52fe44bfc3a36847f80a7cd1', 'de...</td>\n",
       "      <td>2</td>\n",
       "      <td>113497</td>\n",
       "      <td>8844</td>\n",
       "    </tr>\n",
       "    <tr>\n",
       "      <th>2</th>\n",
       "      <td>[{'id': 10749, 'name': 'Romance'}, {'id': 35, ...</td>\n",
       "      <td>15602</td>\n",
       "      <td>tt0113228</td>\n",
       "      <td>en</td>\n",
       "      <td>Grumpier Old Men</td>\n",
       "      <td>A family wedding reignites the ancient feud be...</td>\n",
       "      <td>1995-12-22</td>\n",
       "      <td>101.0</td>\n",
       "      <td>Grumpier Old Men</td>\n",
       "      <td>92.0</td>\n",
       "      <td>[{'cast_id': 2, 'character': 'Max Goldman', 'c...</td>\n",
       "      <td>[{'credit_id': '52fe466a9251416c75077a89', 'de...</td>\n",
       "      <td>3</td>\n",
       "      <td>113228</td>\n",
       "      <td>15602</td>\n",
       "    </tr>\n",
       "    <tr>\n",
       "      <th>3</th>\n",
       "      <td>[{'id': 35, 'name': 'Comedy'}, {'id': 18, 'nam...</td>\n",
       "      <td>31357</td>\n",
       "      <td>tt0114885</td>\n",
       "      <td>en</td>\n",
       "      <td>Waiting to Exhale</td>\n",
       "      <td>Cheated on, mistreated and stepped on, the wom...</td>\n",
       "      <td>1995-12-22</td>\n",
       "      <td>127.0</td>\n",
       "      <td>Waiting to Exhale</td>\n",
       "      <td>34.0</td>\n",
       "      <td>[{'cast_id': 1, 'character': \"Savannah 'Vannah...</td>\n",
       "      <td>[{'credit_id': '52fe44779251416c91011acb', 'de...</td>\n",
       "      <td>4</td>\n",
       "      <td>114885</td>\n",
       "      <td>31357</td>\n",
       "    </tr>\n",
       "    <tr>\n",
       "      <th>4</th>\n",
       "      <td>[{'id': 35, 'name': 'Comedy'}]</td>\n",
       "      <td>11862</td>\n",
       "      <td>tt0113041</td>\n",
       "      <td>en</td>\n",
       "      <td>Father of the Bride Part II</td>\n",
       "      <td>Just when George Banks has recovered from his ...</td>\n",
       "      <td>1995-02-10</td>\n",
       "      <td>106.0</td>\n",
       "      <td>Father of the Bride Part II</td>\n",
       "      <td>173.0</td>\n",
       "      <td>[{'cast_id': 1, 'character': 'George Banks', '...</td>\n",
       "      <td>[{'credit_id': '52fe44959251416c75039ed7', 'de...</td>\n",
       "      <td>5</td>\n",
       "      <td>113041</td>\n",
       "      <td>11862</td>\n",
       "    </tr>\n",
       "  </tbody>\n",
       "</table>\n",
       "</div>"
      ],
      "text/plain": [
       "                                              genres     id    imdb_id  \\\n",
       "0  [{'id': 16, 'name': 'Animation'}, {'id': 35, '...    862  tt0114709   \n",
       "1  [{'id': 12, 'name': 'Adventure'}, {'id': 14, '...   8844  tt0113497   \n",
       "2  [{'id': 10749, 'name': 'Romance'}, {'id': 35, ...  15602  tt0113228   \n",
       "3  [{'id': 35, 'name': 'Comedy'}, {'id': 18, 'nam...  31357  tt0114885   \n",
       "4                     [{'id': 35, 'name': 'Comedy'}]  11862  tt0113041   \n",
       "\n",
       "  original_language               original_title  \\\n",
       "0                en                    Toy Story   \n",
       "1                en                      Jumanji   \n",
       "2                en             Grumpier Old Men   \n",
       "3                en            Waiting to Exhale   \n",
       "4                en  Father of the Bride Part II   \n",
       "\n",
       "                                            overview release_date  runtime  \\\n",
       "0  Led by Woody, Andy's toys live happily in his ...   1995-10-30     81.0   \n",
       "1  When siblings Judy and Peter discover an encha...   1995-12-15    104.0   \n",
       "2  A family wedding reignites the ancient feud be...   1995-12-22    101.0   \n",
       "3  Cheated on, mistreated and stepped on, the wom...   1995-12-22    127.0   \n",
       "4  Just when George Banks has recovered from his ...   1995-02-10    106.0   \n",
       "\n",
       "                         title  vote_count  \\\n",
       "0                    Toy Story      5415.0   \n",
       "1                      Jumanji      2413.0   \n",
       "2             Grumpier Old Men        92.0   \n",
       "3            Waiting to Exhale        34.0   \n",
       "4  Father of the Bride Part II       173.0   \n",
       "\n",
       "                                                cast  \\\n",
       "0  [{'cast_id': 14, 'character': 'Woody (voice)',...   \n",
       "1  [{'cast_id': 1, 'character': 'Alan Parrish', '...   \n",
       "2  [{'cast_id': 2, 'character': 'Max Goldman', 'c...   \n",
       "3  [{'cast_id': 1, 'character': \"Savannah 'Vannah...   \n",
       "4  [{'cast_id': 1, 'character': 'George Banks', '...   \n",
       "\n",
       "                                                crew  movieId  imdbId  tmdbId  \n",
       "0  [{'credit_id': '52fe4284c3a36847f8024f49', 'de...        1  114709     862  \n",
       "1  [{'credit_id': '52fe44bfc3a36847f80a7cd1', 'de...        2  113497    8844  \n",
       "2  [{'credit_id': '52fe466a9251416c75077a89', 'de...        3  113228   15602  \n",
       "3  [{'credit_id': '52fe44779251416c91011acb', 'de...        4  114885   31357  \n",
       "4  [{'credit_id': '52fe44959251416c75039ed7', 'de...        5  113041   11862  "
      ]
     },
     "execution_count": 35,
     "metadata": {},
     "output_type": "execute_result"
    }
   ],
   "source": [
    "movies_creds_df = movies_creds_df.merge(links_df, left_on=\"id\", right_on=\"tmdbId\", how=\"left\")\n",
    "print(\"Number of items: \", len(movies_creds_df))\n",
    "#  drop duplicate movieIds\n",
    "movies_creds_df = movies_creds_df.drop_duplicates(subset=[\"movieId\"])\n",
    "movies_creds_df.head()\n"
   ]
  },
  {
   "cell_type": "code",
   "execution_count": 36,
   "metadata": {},
   "outputs": [],
   "source": [
    "# data preparation inspired by https://www.kaggle.com/code/surenj/movielens-eda\n",
    "df= movies_creds_df.copy(deep=True)\n",
    "df[\"release_date\"] = (pd.to_datetime(df[\"release_date\"], yearfirst= True )  - pd.Timestamp(\"1970-01-01\")) // pd.Timedelta('1s')\n",
    "genreRegex = re.compile(r\": '(.*?)'\")\n",
    "df[\"genres\"] = df[\"genres\"].apply(lambda x: ', '.join(genreRegex.findall(x)))\n",
    "castRegex = re.compile(r\"'name': '(.*?)'\")\n",
    "df[\"cast\"] = df[\"cast\"].apply(lambda x: ', '.join(castRegex.findall(x)))\n",
    "#  fill df[\"cast\"] with \"Unknown\" if it is empty\n",
    "df[\"cast\"] = df[\"cast\"].apply(lambda x: \"Unknown\" if x == \"\" else x)\n",
    "directorRegex = re.compile(r\"'Director', 'name': '(.*?)'\")\n",
    "df[\"director\"] = df[\"crew\"].apply(lambda x: ', '.join(directorRegex.findall(x)))\n",
    "# writingRegex= re.compile(r\"'writing', 'name': '(.*?)'\")\n",
    "# df[\"writing\"] = df[\"crew\"].apply(lambda x: ', '.join(writingRegex.findall(x)))\n",
    "ScreenplayRegex= re.compile(r\"'Screenplay', 'name': '(.*?)'\")\n",
    "df[\"Screenplay\"] = df[\"crew\"].apply(lambda x: ', '.join(ScreenplayRegex.findall(x)))\n",
    "producerRegex= re.compile(r\"'Producer', 'name': '(.*?)'\")\n",
    "df[\"producer\"] = df[\"crew\"].apply(lambda x: ', '.join(producerRegex.findall(x)))\n",
    "genreCols= df.genres.str.get_dummies(sep=', ') #Creating dummy variables for genres\n",
    "columnMappings[\"genres\"]= genreCols.columns.to_list()"
   ]
  },
  {
   "cell_type": "code",
   "execution_count": 37,
   "metadata": {},
   "outputs": [
    {
     "name": "stdout",
     "output_type": "stream",
     "text": [
      " count of movies in ratings_df that are missing from movies_MD_df: 1408\n",
      " count of movies in movies_MD_df that are missing from ratings_df: 705\n",
      " count of movies that are in both ratings_df and movies_MD_df: 43707\n",
      " count of ratings after removing movies that are missing from movies_MD_df: 25976672\n",
      " count of movies in movies_MD_df after removing movies that are missing from ratings_df: 43707\n"
     ]
    }
   ],
   "source": [
    "#  find number of movies in ratings_df that are missing from movies_MD_df\n",
    "movies_MD_df_ids = set(df[\"movieId\"])\n",
    "ratings_df_ids = set(ratings_df[\"movieId\"])\n",
    "print(f' count of movies in ratings_df that are missing from movies_MD_df: {len(ratings_df_ids - movies_MD_df_ids)}')\n",
    "print(f' count of movies in movies_MD_df that are missing from ratings_df: {len(movies_MD_df_ids - ratings_df_ids)}')\n",
    "print(f' count of movies that are in both ratings_df and movies_MD_df: {len(ratings_df_ids & movies_MD_df_ids)}')\n",
    "# only keep movies that are in both ratings_df and movies_MD_df\n",
    "ratings_df = ratings_df[ratings_df[\"movieId\"].isin(movies_MD_df_ids)]\n",
    "print(f' count of ratings after removing movies that are missing from movies_MD_df: {len(ratings_df)}')\n",
    "# only keep movies that are in both ratings_df and movies_MD_df\n",
    "df = df[df[\"movieId\"].isin(ratings_df_ids)]\n",
    "print(f' count of movies in movies_MD_df after removing movies that are missing from ratings_df: {len(df)}')\n",
    "# set ratings higher than 3.5 as 1, the rest as 0\n",
    "ratings_df[\"rating\"] = ratings_df[\"rating\"].apply(lambda x: 1 if x > 3.5 else 0)"
   ]
  },
  {
   "cell_type": "code",
   "execution_count": 38,
   "metadata": {},
   "outputs": [
    {
     "name": "stdout",
     "output_type": "stream",
     "text": [
      "top directors are directors with more than 5 movies\n",
      "found 1521 top directors\n",
      "shape of directorCols: (43707, 1521)\n"
     ]
    }
   ],
   "source": [
    "# make a colun for each director- only keep the top x directors\n",
    "directorValueCounts= df[\"director\"].dropna().value_counts()\n",
    "directors = directorValueCounts.index.to_list()\n",
    "print('top directors are directors with more than 5 movies')\n",
    "topDirectors = [director for director in directors if directorValueCounts[director] > 5]\n",
    "print(f'found {len(topDirectors)} top directors')\n",
    "directorCols= pd.get_dummies(df[\"director\"])\n",
    "directorCols= directorCols.loc[::,topDirectors].copy()\n",
    "print(f'shape of directorCols: {directorCols.shape}')\n",
    "columnMappings[\"director\"]= topDirectors\n"
   ]
  },
  {
   "cell_type": "code",
   "execution_count": 39,
   "metadata": {},
   "outputs": [
    {
     "name": "stdout",
     "output_type": "stream",
     "text": [
      "top cast members are cast members with more than 10 movies\n",
      "found 3267 top cast members\n",
      "shape of castCols: (43707, 3267)\n"
     ]
    }
   ],
   "source": [
    "# make a colun for each cast member- only keep the top 5 cast members per movie\n",
    "cast= df[\"cast\"].apply(lambda x: x.split(\", \")[:5]).to_list()\n",
    "castFlatList= [item for sublist in cast for item in sublist]\n",
    "# keep only the top x cast members\n",
    "castValueCounts= pd.Series(castFlatList).value_counts()\n",
    "print('top cast members are cast members with more than 10 movies')\n",
    "topCast = castValueCounts[castValueCounts > 10].index.to_list()\n",
    "topCast.remove(\"Unknown\")\n",
    "print(f'found {len(topCast)} top cast members')\n",
    "castCols= df[\"cast\"].apply(lambda x: x.split(\", \")[:5])\n",
    "castCols= castCols.apply(pd.Series).stack(dropna=False)\n",
    "castCols= castCols.apply(lambda x: x if x in topCast else \"Other\")\n",
    "castCols= pd.get_dummies(castCols.apply(pd.Series).stack(), sparse=False).sum(level=0)\n",
    "castCols= castCols.drop(\"Other\", axis=1)\n",
    "print(f'shape of castCols: {castCols.shape}')\n",
    "columnMappings[\"cast\"]= castCols.columns.to_list()\n"
   ]
  },
  {
   "cell_type": "code",
   "execution_count": 40,
   "metadata": {},
   "outputs": [
    {
     "name": "stdout",
     "output_type": "stream",
     "text": [
      "shape of languageCols: (43707, 89)\n"
     ]
    }
   ],
   "source": [
    "languageCols= pd.get_dummies(df[\"original_language\"])\n",
    "print(f'shape of languageCols: {languageCols.shape}')\n",
    "columnMappings[\"original_language\"]= languageCols.columns.to_list()"
   ]
  },
  {
   "cell_type": "code",
   "execution_count": 41,
   "metadata": {},
   "outputs": [],
   "source": [
    "dfCols2Keep= ['id', 'imdb_id','original_title',\n",
    "       'overview', 'release_date', 'runtime', 'title', 'movieId', 'imdbId', 'tmdbId']\n",
    "df= df[dfCols2Keep].copy()\n",
    "columnMappings[\"dfCols\"]= dfCols2Keep"
   ]
  },
  {
   "cell_type": "code",
   "execution_count": 57,
   "metadata": {},
   "outputs": [
    {
     "name": "stdout",
     "output_type": "stream",
     "text": [
      "Shape User-Ratings unfiltered:\t(25976672, 4)\n",
      "number of movies in ratings_df: 43707\n",
      "number of users in ratings_df: 270882\n",
      "number of movies in ratings_df2: 9903\n",
      "number of users in ratings_df2: 127924\n",
      "Shape User-Ratings filtered:\t(23386512, 4)\n"
     ]
    }
   ],
   "source": [
    "# filter sparse movies, inspired by https://www.kaggle.com/code/morrisb/how-to-recommend-anything-deep-recommender\n",
    "min_movie_ratings = 100\n",
    "filtered_movies = (ratings_df.movieId.value_counts()>min_movie_ratings)\n",
    "filtered_movies = filtered_movies[filtered_movies].index.tolist()\n",
    "\n",
    "# Filter sparse users\n",
    "min_user_ratings = 33\n",
    "filtered_users = (ratings_df.userId.value_counts()>min_user_ratings)\n",
    "filtered_users = filtered_users[filtered_users].index.tolist()\n",
    "\n",
    "# Actual filtering\n",
    "ratings_df2= ratings_df[(ratings_df.movieId.isin(filtered_movies)) & (ratings_df.userId.isin(filtered_users))]\n",
    "print('Shape User-Ratings unfiltered:\\t{}'.format(ratings_df.shape))\n",
    "#  print number of movies and users\n",
    "print(f'number of movies in ratings_df: {len(ratings_df[\"movieId\"].unique())}')\n",
    "print(f'number of users in ratings_df: {len(ratings_df[\"userId\"].unique())}')\n",
    "print(f'number of movies in ratings_df2: {len(ratings_df2[\"movieId\"].unique())}')\n",
    "print(f'number of users in ratings_df2: {len(ratings_df2[\"userId\"].unique())}')\n",
    "print('Shape User-Ratings filtered:\\t{}'.format(ratings_df2.shape))"
   ]
  },
  {
   "cell_type": "code",
   "execution_count": 69,
   "metadata": {},
   "outputs": [
    {
     "name": "stdout",
     "output_type": "stream",
     "text": [
      "shapes of train_users, test_users: ((102339,), (25585,))\n",
      "shapes of train_movies, test_movies: ((8912,), (991,))\n"
     ]
    }
   ],
   "source": [
    "# randomly asign filtered_users to test and train sets\n",
    "train_users, test_users = train_test_split(ratings_df2.userId.value_counts().index, test_size=0.2, random_state=42)\n",
    "print(f'shapes of train_users, test_users: {train_users.shape, test_users.shape}')\n",
    "#  dump train_users and test_users to disk\n",
    "with open(path2Keep +'train_users.pkl', 'wb') as f:\n",
    "    pickle.dump(train_users, f)\n",
    "with open(path2Keep +'test_users.pkl', 'wb') as f:\n",
    "    pickle.dump(test_users, f)\n",
    "# randomly asign filtered_movies to test and train sets    \n",
    "train_movies, test_movies = train_test_split(ratings_df2.movieId.value_counts().index, test_size=0.1, random_state=42)\n",
    "#  dump train_movies and test_movies to disk\n",
    "print(f'shapes of train_movies, test_movies: {train_movies.shape, test_movies.shape}')\n",
    "with open(path2Keep +'train_movies.pkl', 'wb') as f:\n",
    "    pickle.dump(train_movies, f)\n",
    "with open(path2Keep +'test_movies.pkl', 'wb') as f:\n",
    "    pickle.dump(test_movies, f)"
   ]
  },
  {
   "cell_type": "code",
   "execution_count": 59,
   "metadata": {},
   "outputs": [],
   "source": [
    "#  get the last rating for each user in the test set\n",
    "lastX= 3\n",
    "lastXRatingsIndex= ratings_df2.groupby('userId')['timestamp'].nlargest(lastX)\n",
    "#  get the ratings from ratings_df2 that are in lastXRatings\n",
    "lastXRatings= ratings_df2[ratings_df2.index.isin(lastXRatingsIndex.index.get_level_values(1))]\n",
    "# last2Ratings.head()"
   ]
  },
  {
   "cell_type": "code",
   "execution_count": 60,
   "metadata": {},
   "outputs": [
    {
     "name": "stdout",
     "output_type": "stream",
     "text": [
      "last 5 ratings of user #4 : \n",
      "     userId  movieId  rating   timestamp\n",
      "76        4     2338       0  1042674886\n",
      "66        4     1422       1  1042674861\n",
      "70        4     1644       0  1042674845\n",
      "117       4     4238       1  1042674819\n",
      "61        4      648       1  1042674800\n",
      "derived last X ratings of user #4:\n",
      "    userId  movieId  rating   timestamp\n",
      "76       4     2338       0  1042674886\n",
      "66       4     1422       1  1042674861\n",
      "70       4     1644       0  1042674845\n",
      "the items before the last X: \n",
      "     userId  movieId  rating   timestamp\n",
      "117       4     4238       1  1042674819\n",
      "61        4      648       1  1042674800\n",
      "68        4     1597       0  1042674787\n",
      "shape of beforelastXRatings: (23002740, 4)\n",
      "shape of lastXRatings: (383772, 4)\n"
     ]
    }
   ],
   "source": [
    "# sort last2Ratings by userId and timestamp\n",
    "lastXRatings= lastXRatings.sort_values(by=['userId', 'timestamp'])\n",
    "print(\"last 5 ratings of user #4 : \")\n",
    "print(ratings_df2[ratings_df2.userId == 4].sort_values(by='timestamp', ascending=False).head(5))\n",
    "print(\"derived last X ratings of user #4:\")\n",
    "print(lastXRatings[lastXRatings.userId == 4].sort_values(by='timestamp', ascending=False))\n",
    "#  get all ratings from ratings_df2 that are not in the lastXRatings\n",
    "beforelastXRatings= ratings_df2[~ratings_df2.index.isin(lastXRatingsIndex.index.get_level_values(1))]\n",
    "print(\"the items before the last X: \")\n",
    "print(beforelastXRatings[beforelastXRatings.userId == 4].sort_values(by='timestamp', ascending=False).head(3))\n",
    "print(f'shape of beforelastXRatings: {beforelastXRatings.shape}')\n",
    "print(f'shape of lastXRatings: {lastXRatings.shape}')"
   ]
  },
  {
   "cell_type": "code",
   "execution_count": 65,
   "metadata": {},
   "outputs": [
    {
     "name": "stdout",
     "output_type": "stream",
     "text": [
      "shape of movies_df: (9903, 4907)\n"
     ]
    }
   ],
   "source": [
    "#  pickle the last2Ratings and beforelast2Ratings to path2keep\n",
    "# path2Keep= r\"data2Keep\\\\\" # path to save the data to\n",
    "if onDrive == True:\n",
    "    path2Keep= path.replace(\"/data\", \"\") +  r\"data2Keep/\" # path to save the data to\n",
    "else:\n",
    "    path2Keep= r\"data2Keep\\\\\"\n",
    "\n",
    "dfS= [df, genreCols, directorCols, castCols, languageCols]\n",
    "movies_df= pd.concat(dfS, axis=1)\n",
    "# only keep movies that are in the ratings_df2\n",
    "movies_df= movies_df[movies_df.movieId.isin(ratings_df2.movieId)]\n",
    "print(f'shape of movies_df: {movies_df.shape}')\n",
    "# dump movies_df  to pickle\n",
    "movies_df.to_pickle(path2Keep + \"movies_df.pkl\", compression='gzip')\n",
    "lastXRatings.to_pickle(path2Keep + \"lastXRatings.pkl\", compression='gzip')\n",
    "beforelastXRatings.to_pickle(path2Keep + \"beforelastXRatings.pkl\", compression='gzip')\n",
    "# dump the column mappings to json\n",
    "with open(path2Keep + \"columnMappings.json\", \"w\") as f:\n",
    "    json.dump(columnMappings, f)"
   ]
  },
  {
   "cell_type": "code",
   "execution_count": 67,
   "metadata": {},
   "outputs": [
    {
     "data": {
      "text/plain": [
       "26471  id                                                          140607.0\n",
       "       imdb_id                                                    tt2488496\n",
       "       original_title                          Star Wars: The Force Awakens\n",
       "       overview           Thirty years after defeating the Galactic Empi...\n",
       "       release_date                                            1450137600.0\n",
       "       runtime                                                        136.0\n",
       "       title                                   Star Wars: The Force Awakens\n",
       "       movieId                                                     122886.0\n",
       "       imdbId                                                     2488496.0\n",
       "       tmdbId                                                      140607.0\n",
       "       Action                                                             1\n",
       "       Adventure                                                          1\n",
       "       Fantasy                                                            1\n",
       "       Science Fiction                                                    1\n",
       "       Adam Driver                                                      1.0\n",
       "       Harrison Ford                                                    1.0\n",
       "       Oscar Isaac                                                      1.0\n",
       "       en                                                               1.0\n",
       "dtype: object"
      ]
     },
     "execution_count": 67,
     "metadata": {},
     "output_type": "execute_result"
    }
   ],
   "source": [
    "# check the attributes of 122886 Star Wars: The Force Awakens\n",
    "stacked= movies_df[movies_df.movieId == 122886].stack()\n",
    "stacked[stacked!=0]"
   ]
  },
  {
   "cell_type": "code",
   "execution_count": null,
   "metadata": {},
   "outputs": [],
   "source": []
  }
 ],
 "metadata": {
  "kernelspec": {
   "display_name": "DeepLearning",
   "language": "python",
   "name": "python3"
  },
  "language_info": {
   "codemirror_mode": {
    "name": "ipython",
    "version": 3
   },
   "file_extension": ".py",
   "mimetype": "text/x-python",
   "name": "python",
   "nbconvert_exporter": "python",
   "pygments_lexer": "ipython3",
   "version": "3.9.16"
  },
  "orig_nbformat": 4,
  "vscode": {
   "interpreter": {
    "hash": "e943d2018298612db1aa7368ae647ad9484a49632c4bb0a57ea66e47046d99d1"
   }
  }
 },
 "nbformat": 4,
 "nbformat_minor": 2
}
