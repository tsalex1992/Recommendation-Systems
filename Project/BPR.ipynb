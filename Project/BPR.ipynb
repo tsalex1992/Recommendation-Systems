{
 "cells": [
  {
   "cell_type": "code",
   "execution_count": 11,
   "metadata": {},
   "outputs": [
    {
     "name": "stdout",
     "output_type": "stream",
     "text": [
      "Requirement already satisfied: lightfm in c:\\users\\oferinbar\\appdata\\roaming\\python\\python39\\site-packages (1.16)\n",
      "Requirement already satisfied: requests in c:\\users\\oferinbar\\.conda\\envs\\deeplearning\\lib\\site-packages (from lightfm) (2.28.2)\n",
      "Requirement already satisfied: scipy>=0.17.0 in c:\\users\\oferinbar\\.conda\\envs\\deeplearning\\lib\\site-packages (from lightfm) (1.10.0)\n",
      "Requirement already satisfied: scikit-learn in c:\\users\\oferinbar\\.conda\\envs\\deeplearning\\lib\\site-packages (from lightfm) (1.2.0)\n",
      "Requirement already satisfied: numpy in c:\\users\\oferinbar\\.conda\\envs\\deeplearning\\lib\\site-packages (from lightfm) (1.23.5)\n",
      "Requirement already satisfied: charset-normalizer<4,>=2 in c:\\users\\oferinbar\\.conda\\envs\\deeplearning\\lib\\site-packages (from requests->lightfm) (2.1.1)\n",
      "Requirement already satisfied: certifi>=2017.4.17 in c:\\users\\oferinbar\\.conda\\envs\\deeplearning\\lib\\site-packages (from requests->lightfm) (2022.12.7)\n",
      "Requirement already satisfied: urllib3<1.27,>=1.21.1 in c:\\users\\oferinbar\\.conda\\envs\\deeplearning\\lib\\site-packages (from requests->lightfm) (1.26.14)\n",
      "Requirement already satisfied: idna<4,>=2.5 in c:\\users\\oferinbar\\.conda\\envs\\deeplearning\\lib\\site-packages (from requests->lightfm) (3.4)\n",
      "Requirement already satisfied: threadpoolctl>=2.0.0 in c:\\users\\oferinbar\\.conda\\envs\\deeplearning\\lib\\site-packages (from scikit-learn->lightfm) (3.1.0)\n",
      "Requirement already satisfied: joblib>=1.1.1 in c:\\users\\oferinbar\\.conda\\envs\\deeplearning\\lib\\site-packages (from scikit-learn->lightfm) (1.2.0)\n",
      "Note: you may need to restart the kernel to use updated packages.\n"
     ]
    }
   ],
   "source": [
    "# %pip install lightfm\n",
    "from lightfm import LightFM\n",
    "from lightfm.evaluation import precision_at_k\n",
    "from lightfm.evaluation import auc_score\n",
    "import pandas as pd\n",
    "from sklearn.model_selection import train_test_split\n",
    "from scipy import sparse as spr\n",
    "from scipy.sparse import csr_matrix\n",
    "from sklearn import preprocessing\n",
    "import tqdm\n",
    "import os\n",
    "import pickle\n",
    "# %matplotlib inline"
   ]
  },
  {
   "cell_type": "code",
   "execution_count": 20,
   "metadata": {},
   "outputs": [
    {
     "name": "stdout",
     "output_type": "stream",
     "text": [
      "shape of ratings_df: (20251813, 4)\n"
     ]
    }
   ],
   "source": [
    "path2Keep= r\"data2Keep\\\\\" # path to load data\n",
    "# load the data\n",
    "onDrive= False\n",
    "if onDrive == True:\n",
    "    path= \"/content/drive/MyDrive/School/IDC/RS/Project/data/\"\n",
    "    path2Keep= path.replace(\"/data\", \"\") +  r\"data2Keep/\" # path to save the data to\n",
    "    from google.colab import drive\n",
    "    drive.mount('/content/drive')\n",
    "else:\n",
    "    path= r\"data\\\\\"\n",
    "    path2Keep= r\"data2Keep\"\n",
    "\n",
    "# load the beforelastXRatings.pkl into a dataframe\n",
    "b4Ratings_df= pd.read_pickle(path2Keep+ r\"\\beforelastXRatings.pkl\")\n",
    "# load the lastXRatings.pkl into a dataframe\n",
    "lastRatings_df= pd.read_pickle(path2Keep+ r\"\\lastXRatings.pkl\")\n",
    "# combine the two dataframes\n",
    "ratings_df= pd.concat([b4Ratings_df, lastRatings_df], axis=0)\n",
    "print(f'shape of ratings_df: {ratings_df.shape}')"
   ]
  },
  {
   "cell_type": "code",
   "execution_count": 21,
   "metadata": {},
   "outputs": [
    {
     "name": "stdout",
     "output_type": "stream",
     "text": [
      "shape of train: (16201450, 4)\n",
      "shape of test: (4050363, 4)\n"
     ]
    }
   ],
   "source": [
    "# ratings4andOver= ratings_df[ratings_df['rating']>=4]\n",
    "# ratings4andOver.rating= ratings4andOver.rating.astype\n",
    "(train, test) = train_test_split(ratings_df, test_size=0.2, random_state=42)\n",
    "print(f'shape of train: {train.shape}')\n",
    "print(f'shape of test: {test.shape}')\n"
   ]
  },
  {
   "cell_type": "code",
   "execution_count": 22,
   "metadata": {},
   "outputs": [
    {
     "name": "stdout",
     "output_type": "stream",
     "text": [
      " shape of csrMatrixTrain.shape (270897, 168253)\n",
      " shape of csrMatrixTest.shape (270897, 168253)\n"
     ]
    }
   ],
   "source": [
    "#  create a sparse matrix from the dataframe using the csr_matrix function\n",
    "csrMatrixTrain = spr.csr_matrix((train[\"rating\"] ,(train[\"userId\"], train[\"movieId\"])), shape=(train[\"userId\"].max()+1, train[\"movieId\"].max()+1))\n",
    "csrMatrixTest = spr.csr_matrix((test[\"rating\"] ,(test[\"userId\"], test[\"movieId\"])), shape=(test[\"userId\"].max()+1, test[\"movieId\"].max()+1))\n",
    "print(f' shape of csrMatrixTrain.shape {csrMatrixTrain.shape}')\n",
    "print(f' shape of csrMatrixTest.shape {csrMatrixTest.shape}')"
   ]
  },
  {
   "cell_type": "code",
   "execution_count": 8,
   "metadata": {},
   "outputs": [
    {
     "name": "stdout",
     "output_type": "stream",
     "text": [
      "Epoch 0\n",
      "Epoch 1\n",
      "Epoch 2\n",
      "Epoch 3\n",
      "Epoch 4\n"
     ]
    }
   ],
   "source": [
    "# The BPR models (for both movies and apps) were trained for 100 epochs with a target dimension n = 40\n",
    "#  check if the model is already at path2Keep+\"bprModel.pkl\"\n",
    "if os.path.exists(path2Keep+\"bprModel.pkl\"):\n",
    "    print(\"model already exists\")\n",
    "    with open(path2Keep+\"bprModel.pkl\", \"rb\") as f:\n",
    "        model = pickle.load(f)\n",
    "else:\n",
    "    model = LightFM(learning_rate=0.05, loss='bpr')\n",
    "    model.fit(csrMatrixTrain, epochs=5, verbose=True, num_threads=4)\n",
    "    #  drop the model from memory into file\n",
    "    with open(path2Keep+\"bprModel.pkl\", \"wb\") as f:\n",
    "        pickle.dump(model, f, protocol=pickle.HIGHEST_PROTOCOL)\n",
    "\n",
    "train_precision = precision_at_k(model, csrMatrixTrain, k=5, num_threads=4, ).mean()\n",
    "test_precision = precision_at_k(model, csrMatrixTest, k=5, num_threads= 4).mean()\n",
    "\n",
    "train_auc = auc_score(model, csrMatrixTrain).mean()\n",
    "test_auc = auc_score(model, csrMatrixTest).mean()\n",
    "\n",
    "print('Precision: train %.2f, test %.2f.' % (train_precision, test_precision))\n",
    "print('AUC: train %.2f, test %.2f.' % (train_auc, test_auc))"
   ]
  },
  {
   "cell_type": "code",
   "execution_count": null,
   "metadata": {},
   "outputs": [
    {
     "name": "stdout",
     "output_type": "stream",
     "text": [
      "item_embeddings.shape: (168253, 10)\n",
      "user_embeddings.shape: (270897, 10)\n"
     ]
    }
   ],
   "source": [
    "#  get model's embeddings\n",
    "item_embeddings = model.get_item_representations()[1]\n",
    "user_embeddings = model.get_user_representations()[1]\n",
    "print(f'item_embeddings.shape: {item_embeddings.shape}')\n",
    "print(f'user_embeddings.shape: {user_embeddings.shape}')\n",
    "# item_embeddings.shape"
   ]
  },
  {
   "cell_type": "code",
   "execution_count": null,
   "metadata": {},
   "outputs": [
    {
     "data": {
      "text/plain": [
       "array([[-0.33071688,  1.4424202 , -1.9702144 ,  0.35360897,  0.14243674,\n",
       "        -0.25969762,  1.1330045 ,  0.40967655, -1.8347144 ,  1.3147914 ],\n",
       "       [ 1.2617768 , -0.22005434, -1.0865386 ,  0.6351669 ,  0.8004641 ,\n",
       "        -0.8241127 ,  0.00281958,  0.16676608, -1.5117749 ,  0.80185324]],\n",
       "      dtype=float32)"
      ]
     },
     "execution_count": 7,
     "metadata": {},
     "output_type": "execute_result"
    }
   ],
   "source": []
  },
  {
   "cell_type": "code",
   "execution_count": null,
   "metadata": {},
   "outputs": [
    {
     "name": "stdout",
     "output_type": "stream",
     "text": [
      "                                                  genres     id    imdb_id  \\\n",
      "255                   Adventure, Action, Science Fiction     11  tt0076759   \n",
      "2502                  Adventure, Action, Science Fiction   1893  tt0120915   \n",
      "5239                  Adventure, Action, Science Fiction   1894  tt0121765   \n",
      "10069                 Science Fiction, Adventure, Action   1895  tt0121766   \n",
      "12889  Thriller, Animation, Action, Science Fiction, ...  12180  tt1185834   \n",
      "\n",
      "      original_language                                original_title  \\\n",
      "255                  en                                     Star Wars   \n",
      "2502                 en     Star Wars: Episode I - The Phantom Menace   \n",
      "5239                 en  Star Wars: Episode II - Attack of the Clones   \n",
      "10069                en  Star Wars: Episode III - Revenge of the Sith   \n",
      "12889                en                     Star Wars: The Clone Wars   \n",
      "\n",
      "                                                overview  release_date  \\\n",
      "255    Princess Leia is captured and held hostage by ...     233366400   \n",
      "2502   Anakin Skywalker, a young slave strong with th...     927072000   \n",
      "5239   Ten years after the invasion of Naboo, the gal...    1021420800   \n",
      "10069  Years after the onset of the Clone Wars, the n...    1116288000   \n",
      "12889  Set between Episode II and III the Clone Wars ...    1217894400   \n",
      "\n",
      "       runtime                                         title  vote_count  ...  \\\n",
      "255      121.0                                     Star Wars      6778.0  ...   \n",
      "2502     136.0     Star Wars: Episode I - The Phantom Menace      4526.0  ...   \n",
      "5239     142.0  Star Wars: Episode II - Attack of the Clones      4074.0  ...   \n",
      "10069    140.0  Star Wars: Episode III - Revenge of the Sith      4200.0  ...   \n",
      "12889     98.0                     Star Wars: The Clone Wars       434.0  ...   \n",
      "\n",
      "       Winston Miller  Wolf Mankowitz  Wong Kar-wai  Woody Allen  \\\n",
      "255               0.0             0.0           0.0          0.0   \n",
      "2502              0.0             0.0           0.0          0.0   \n",
      "5239              0.0             0.0           0.0          0.0   \n",
      "10069             0.0             0.0           0.0          0.0   \n",
      "12889             NaN             NaN           NaN          NaN   \n",
      "\n",
      "       Yasujirō Ozu  Yusuke Watanabe  Zdeněk Svěrák  Álex de la Iglesia  \\\n",
      "255             0.0              0.0            0.0                 0.0   \n",
      "2502            0.0              0.0            0.0                 0.0   \n",
      "5239            0.0              0.0            0.0                 0.0   \n",
      "10069           0.0              0.0            0.0                 0.0   \n",
      "12889           NaN              NaN            NaN                 NaN   \n",
      "\n",
      "       Æneas MacKenzie  Éric Rohmer  \n",
      "255                0.0          0.0  \n",
      "2502               0.0          0.0  \n",
      "5239               0.0          0.0  \n",
      "10069              0.0          0.0  \n",
      "12889              NaN          NaN  \n",
      "\n",
      "[5 rows x 4385 columns]\n"
     ]
    },
    {
     "ename": "IndexError",
     "evalue": "only integers, slices (`:`), ellipsis (`...`), numpy.newaxis (`None`) and integer or boolean arrays are valid indices",
     "output_type": "error",
     "traceback": [
      "\u001b[1;31m---------------------------------------------------------------------------\u001b[0m",
      "\u001b[1;31mIndexError\u001b[0m                                Traceback (most recent call last)",
      "Cell \u001b[1;32mIn[8], line 8\u001b[0m\n\u001b[0;32m      6\u001b[0m \u001b[39mprint\u001b[39m(starWarsMovies\u001b[39m.\u001b[39mhead(\u001b[39m5\u001b[39m))\n\u001b[0;32m      7\u001b[0m \u001b[39m#  get the star wars movie embeddings\u001b[39;00m\n\u001b[1;32m----> 8\u001b[0m starWarsMoviesEmbeddings\u001b[39m=\u001b[39m item_embeddings[starWarsMovies[:\u001b[39m4\u001b[39;49m]]\n\u001b[0;32m      9\u001b[0m \u001b[39m# starWarsMoviesEmbeddings\u001b[39;00m\n",
      "\u001b[1;31mIndexError\u001b[0m: only integers, slices (`:`), ellipsis (`...`), numpy.newaxis (`None`) and integer or boolean arrays are valid indices"
     ]
    }
   ],
   "source": [
    "#  load the movies dataframe from Project\\data2Keep\\movies_df.pkl\n",
    "movies_df= pd.read_pickle(path2Keep+\"movies_df.pkl\")\n",
    "#  get the star wars movieIds\n",
    "movies_df.head()\n",
    "starWarsMovies= movies_df[movies_df['original_title'].str.contains('Star Wars')]\n",
    "print(starWarsMovies.head(5))\n",
    "#  get the star wars movie embeddings\n",
    "starWarsMoviesEmbeddings= item_embeddings[starWarsMovies[:4]]\n",
    "# starWarsMoviesEmbeddings\n"
   ]
  }
 ],
 "metadata": {
  "kernelspec": {
   "display_name": "DeepLearning",
   "language": "python",
   "name": "python3"
  },
  "language_info": {
   "codemirror_mode": {
    "name": "ipython",
    "version": 3
   },
   "file_extension": ".py",
   "mimetype": "text/x-python",
   "name": "python",
   "nbconvert_exporter": "python",
   "pygments_lexer": "ipython3",
   "version": "3.9.16"
  },
  "orig_nbformat": 4,
  "vscode": {
   "interpreter": {
    "hash": "e943d2018298612db1aa7368ae647ad9484a49632c4bb0a57ea66e47046d99d1"
   }
  }
 },
 "nbformat": 4,
 "nbformat_minor": 2
}
