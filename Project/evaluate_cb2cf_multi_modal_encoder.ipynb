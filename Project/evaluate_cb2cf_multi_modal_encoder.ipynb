{
 "cells": [
  {
   "attachments": {},
   "cell_type": "markdown",
   "metadata": {},
   "source": [
    "# Experiment 1(section 4.5 from the paper)"
   ]
  },
  {
   "attachments": {},
   "cell_type": "markdown",
   "metadata": {},
   "source": [
    "### MSE Evaluation on test embeddings, with CB2CF model which had been trained on train movies from BPR1(oracle)\n"
   ]
  },
  {
   "cell_type": "code",
   "execution_count": 1,
   "metadata": {},
   "outputs": [
    {
     "name": "stderr",
     "output_type": "stream",
     "text": [
      "c:\\Users\\tsale\\OneDrive\\Desktop\\CS Masters Degree\\Recommendation Systems\\Project\\.venv\\lib\\site-packages\\tqdm\\auto.py:22: TqdmWarning: IProgress not found. Please update jupyter and ipywidgets. See https://ipywidgets.readthedocs.io/en/stable/user_install.html\n",
      "  from .autonotebook import tqdm as notebook_tqdm\n"
     ]
    }
   ],
   "source": [
    "import torch\n",
    "from tqdm import tqdm\n",
    "import matplotlib.pyplot as plt\n",
    "MODEL_PATH_TRAINED_ON_BPR1 = \"cb2cf_multi_modal_encoder_model_with_bpr1.pt\""
   ]
  },
  {
   "cell_type": "code",
   "execution_count": 2,
   "metadata": {},
   "outputs": [
    {
     "data": {
      "text/plain": [
       "CB2CFMultiModalEncoder(\n",
       "  (text_encoding_model): SentenceTransformer(\n",
       "    (0): Transformer({'max_seq_length': 500, 'do_lower_case': False}) with Transformer model: BertModel \n",
       "    (1): Pooling({'word_embedding_dimension': 384, 'pooling_mode_cls_token': False, 'pooling_mode_mean_tokens': True, 'pooling_mode_max_tokens': False, 'pooling_mode_mean_sqrt_len_tokens': False})\n",
       "    (2): Normalize()\n",
       "  )\n",
       "  (genres_embedding): Sequential(\n",
       "    (0): Linear(in_features=20, out_features=80, bias=True)\n",
       "    (1): BatchNorm1d(80, eps=1e-05, momentum=0.1, affine=True, track_running_stats=True)\n",
       "    (2): ReLU()\n",
       "    (3): Dropout(p=0.25, inplace=False)\n",
       "  )\n",
       "  (actors_embedding): Sequential(\n",
       "    (0): Linear(in_features=3324, out_features=80, bias=True)\n",
       "    (1): BatchNorm1d(80, eps=1e-05, momentum=0.1, affine=True, track_running_stats=True)\n",
       "    (2): ReLU()\n",
       "    (3): Dropout(p=0.25, inplace=False)\n",
       "  )\n",
       "  (directors_embedding): Sequential(\n",
       "    (0): Linear(in_features=1578, out_features=40, bias=True)\n",
       "    (1): BatchNorm1d(40, eps=1e-05, momentum=0.1, affine=True, track_running_stats=True)\n",
       "    (2): ReLU()\n",
       "    (3): Dropout(p=0.25, inplace=False)\n",
       "  )\n",
       "  (time_layer): Sequential(\n",
       "    (0): Linear(in_features=1, out_features=120, bias=True)\n",
       "    (1): BatchNorm1d(120, eps=1e-05, momentum=0.1, affine=True, track_running_stats=True)\n",
       "    (2): ReLU()\n",
       "    (3): Dropout(p=0.25, inplace=False)\n",
       "  )\n",
       "  (language_embedding): Sequential(\n",
       "    (0): Linear(in_features=90, out_features=40, bias=True)\n",
       "    (1): BatchNorm1d(40, eps=1e-05, momentum=0.1, affine=True, track_running_stats=True)\n",
       "    (2): ReLU()\n",
       "    (3): Dropout(p=0.25, inplace=False)\n",
       "  )\n",
       "  (description_layer): Sequential(\n",
       "    (0): Linear(in_features=384, out_features=80, bias=True)\n",
       "    (1): BatchNorm1d(80, eps=1e-05, momentum=0.1, affine=True, track_running_stats=True)\n",
       "    (2): ReLU()\n",
       "    (3): Dropout(p=0.25, inplace=False)\n",
       "  )\n",
       "  (combiner): Sequential(\n",
       "    (0): LayerNorm((440,), eps=1e-05, elementwise_affine=True)\n",
       "    (1): ReLU()\n",
       "    (2): Dropout(p=0.25, inplace=False)\n",
       "    (3): Linear(in_features=440, out_features=512, bias=True)\n",
       "    (4): BatchNorm1d(512, eps=1e-05, momentum=0.1, affine=True, track_running_stats=True)\n",
       "    (5): ReLU()\n",
       "    (6): Dropout(p=0.25, inplace=False)\n",
       "    (7): Linear(in_features=512, out_features=120, bias=True)\n",
       "    (8): BatchNorm1d(120, eps=1e-05, momentum=0.1, affine=True, track_running_stats=True)\n",
       "    (9): ReLU()\n",
       "    (10): Dropout(p=0.25, inplace=False)\n",
       "    (11): Linear(in_features=120, out_features=40, bias=True)\n",
       "  )\n",
       ")"
      ]
     },
     "execution_count": 2,
     "metadata": {},
     "output_type": "execute_result"
    }
   ],
   "source": [
    "# load the model from  cb2cf_multi_modal_encoder.pt state_dict\n",
    "\n",
    "model_for_mse = torch.load(MODEL_PATH_TRAINED_ON_BPR1)\n",
    "model_for_mse.eval()"
   ]
  },
  {
   "cell_type": "code",
   "execution_count": 3,
   "metadata": {},
   "outputs": [
    {
     "name": "stdout",
     "output_type": "stream",
     "text": [
      "Using device: cuda:0\n"
     ]
    }
   ],
   "source": [
    "device = torch.device(\"cuda:0\" if torch.cuda.is_available() else \"cpu\")\n",
    "model_for_mse.to(device)\n",
    "print(\"Using device:\", device)\n"
   ]
  },
  {
   "cell_type": "code",
   "execution_count": 4,
   "metadata": {},
   "outputs": [],
   "source": [
    "test_data = torch.load(\"cb2cf_test_dataset.pt\")\n"
   ]
  },
  {
   "cell_type": "code",
   "execution_count": 5,
   "metadata": {},
   "outputs": [],
   "source": [
    "test_dataloader = torch.utils.data.DataLoader(test_data, batch_size=1, shuffle=False, num_workers=0)\n"
   ]
  },
  {
   "cell_type": "code",
   "execution_count": 6,
   "metadata": {},
   "outputs": [
    {
     "name": "stderr",
     "output_type": "stream",
     "text": [
      "100%|██████████| 991/991 [00:12<00:00, 81.97it/s] "
     ]
    },
    {
     "name": "stdout",
     "output_type": "stream",
     "text": [
      "MSE loss on test set: 0.1267789088449921\n"
     ]
    },
    {
     "name": "stderr",
     "output_type": "stream",
     "text": [
      "\n"
     ]
    }
   ],
   "source": [
    "# Run eval on the test set with MSE loss\n",
    "\n",
    "with torch.no_grad():\n",
    "    total_loss = 0\n",
    "    for i, data in enumerate(tqdm(test_dataloader)):\n",
    "        output = model_for_mse(\n",
    "            genres=data[\"genres\"].to(device),\n",
    "            actors=data[\"actors\"].to(device),\n",
    "            directors=data[\"directors\"].to(device),\n",
    "            unix_release_time=data[\"unix_release_time\"].to(device),\n",
    "            description=data[\"description\"],\n",
    "            language=data[\"language\"].to(device),\n",
    "        )\n",
    "        loss = torch.nn.functional.mse_loss(output, data[\"embeddings\"].to(device))\n",
    "        total_loss += loss.item()\n",
    "    print(\"MSE loss on test set:\", total_loss / len(test_dataloader))"
   ]
  },
  {
   "attachments": {},
   "cell_type": "markdown",
   "metadata": {},
   "source": [
    "### NDCG evaluation with model train on BPR1"
   ]
  },
  {
   "cell_type": "code",
   "execution_count": 8,
   "metadata": {},
   "outputs": [
    {
     "name": "stderr",
     "output_type": "stream",
     "text": [
      "100%|██████████| 991/991 [00:09<00:00, 103.33it/s]\n"
     ]
    }
   ],
   "source": [
    "# Save embeddings and title for items in test set\n",
    "\n",
    "with torch.no_grad():\n",
    "    test_embeddings = []\n",
    "    test_titles = []\n",
    "    test_movie_ids = []\n",
    "    for i, data in enumerate(tqdm(test_dataloader)):\n",
    "        output = model_for_mse(\n",
    "            genres=data[\"genres\"].to(device),\n",
    "            actors=data[\"actors\"].to(device),\n",
    "            directors=data[\"directors\"].to(device),\n",
    "            unix_release_time=data[\"unix_release_time\"].to(device),\n",
    "            description=data[\"description\"],\n",
    "            language=data[\"language\"].to(device),\n",
    "        )\n",
    "        test_embeddings.append(output.cpu().squeeze().numpy())\n",
    "        test_movie_ids.append(data[\"movie_ids\"])\n",
    "        \n",
    "        test_titles.append(data[\"title\"])\n",
    "\n"
   ]
  },
  {
   "cell_type": "code",
   "execution_count": 9,
   "metadata": {},
   "outputs": [
    {
     "name": "stdout",
     "output_type": "stream",
     "text": [
      "Most similar movies to ['Looker']\n",
      "['Looker']\n",
      "[\"On Her Majesty's Secret Service\"]\n",
      "['精武門']\n",
      "['Alien']\n",
      "['2010']\n",
      "['Live and Let Die']\n",
      "['THX 1138']\n",
      "['Scanners']\n",
      "['Invasion of the Body Snatchers']\n",
      "['House of Frankenstein']\n"
     ]
    }
   ],
   "source": [
    "# Pick a random movie from the test set and find the 10 most similar movies\n",
    "# by cosine similarity from embeddings\n",
    "\n",
    "import numpy as np\n",
    "from sklearn.metrics.pairwise import cosine_similarity\n",
    "\n",
    "# squeeze the embeddings to remove the batch dimension\n",
    "\n",
    "random_movie_index = np.random.randint(0, len(test_data))\n",
    "random_movie_embedding = test_embeddings[random_movie_index]\n",
    "random_movie_title = test_titles[random_movie_index]\n",
    "\n",
    "cosine_similarities = cosine_similarity([random_movie_embedding], test_embeddings)\n",
    "most_similar_indices = cosine_similarities.argsort()[0][-10:][::-1]\n",
    "\n",
    "print(\"Most similar movies to\", random_movie_title)\n",
    "for index in most_similar_indices:\n",
    "    print(test_titles[index])"
   ]
  },
  {
   "cell_type": "code",
   "execution_count": 10,
   "metadata": {},
   "outputs": [
    {
     "name": "stderr",
     "output_type": "stream",
     "text": [
      "100%|██████████| 8911/8911 [01:24<00:00, 105.86it/s]\n"
     ]
    }
   ],
   "source": [
    "# Load train dataset and produce train embeddings\n",
    "\n",
    "train_data = torch.load(\"cb2cf_train_dataset_with_bpr1.pt\")\n",
    "train_dataloader = torch.utils.data.DataLoader(train_data, batch_size=1, shuffle=False, num_workers=0)\n",
    "\n",
    "with torch.no_grad():\n",
    "    train_embeddings = []\n",
    "    train_titles = []\n",
    "    train_movie_ids = []\n",
    "    for i, data in enumerate(tqdm(train_dataloader)):\n",
    "        output = model_for_mse(\n",
    "            genres=data[\"genres\"].to(device),\n",
    "            actors=data[\"actors\"].to(device),\n",
    "            directors=data[\"directors\"].to(device),\n",
    "            unix_release_time=data[\"unix_release_time\"].to(device),\n",
    "            description=data[\"description\"],\n",
    "            language=data[\"language\"].to(device),\n",
    "        )\n",
    "        train_embeddings.append(output.cpu().squeeze().numpy())\n",
    "        train_titles.append(data[\"title\"])\n",
    "        train_movie_ids.append(data[\"movie_ids\"])\n",
    "\n",
    "\n"
   ]
  },
  {
   "cell_type": "code",
   "execution_count": 11,
   "metadata": {},
   "outputs": [],
   "source": [
    "import pandas as pd"
   ]
  },
  {
   "cell_type": "code",
   "execution_count": 12,
   "metadata": {},
   "outputs": [],
   "source": [
    "oracle_item_embeddings = pd.read_pickle(r\"BPR1_item_embeddings.pkl\")\n",
    "\n",
    "# convert train_movie ids and test movie ids to list of integers\n",
    "\n",
    "train_movie_ids = [int(movie_id) for movie_id in train_movie_ids]\n",
    "test_movie_ids = [int(movie_id) for movie_id in test_movie_ids]\n",
    "\n",
    "oracle_train_item_embeddings = oracle_item_embeddings[train_movie_ids]\n",
    "oracle_test_item_embeddings = oracle_item_embeddings[test_movie_ids]\n",
    "# all ids \n",
    "all_movie_ids = train_movie_ids + test_movie_ids\n",
    "# all titles\n",
    "all_titles = train_titles + test_titles\n",
    "# all oracle embeddings\n",
    "all_oracle_embeddings = np.concatenate((oracle_train_item_embeddings, oracle_test_item_embeddings), axis=0)"
   ]
  },
  {
   "cell_type": "code",
   "execution_count": 13,
   "metadata": {},
   "outputs": [],
   "source": [
    "# for each test movie compute cosine similarity with all movies in all_oracle_embeddings, remove the test movie itself\n",
    "\n",
    "oracle_test_cosine_similarities = cosine_similarity(oracle_test_item_embeddings , all_oracle_embeddings)\n",
    "cb2cf_test_cosine_similarities = cosine_similarity(test_embeddings, train_embeddings + test_embeddings)\n"
   ]
  },
  {
   "cell_type": "code",
   "execution_count": 14,
   "metadata": {},
   "outputs": [],
   "source": [
    "# remove values of 1 from oracle_test_cosine_similarities and cb2cf_test_cosine_similarities\n",
    "\n",
    "for i in range(len(oracle_test_cosine_similarities)):\n",
    "    oracle_test_cosine_similarities[i][len(train_embeddings) + i] = -1\n",
    "    cb2cf_test_cosine_similarities[i][len(train_embeddings) + i] = -1\n",
    "# oracle_test_cosine_similarities[oracle_test_cosine_similarities == 1.0] = -1\n",
    "# cb2cf_test_cosine_similarities[cb2cf_test_cosine_similarities == 1.0] = -1\n",
    "# convert the cosine similarity to relevance scores to be positive by adding 1\n",
    "\n",
    "oracle_test_relevance_scores_normalized = (oracle_test_cosine_similarities + 1) / 2\n",
    "cb2cf_test_relevance_scores_normalized = (cb2cf_test_cosine_similarities + 1) / 2"
   ]
  },
  {
   "cell_type": "code",
   "execution_count": 15,
   "metadata": {},
   "outputs": [
    {
     "name": "stdout",
     "output_type": "stream",
     "text": [
      "NDCG scores for k = 10, 50, 100, 500\n",
      "[0.8876847424408582, 0.8908977152788073, 0.892909458521967, 0.9011044304398027]\n"
     ]
    },
    {
     "data": {
      "image/png": "[encoded data removed]",
      "text/plain": [
       "<Figure size 640x480 with 1 Axes>"
      ]
     },
     "metadata": {},
     "output_type": "display_data"
    }
   ],
   "source": [
    "# Compute NDCG score for cb2cf_test_cosine_similarities where oracle_test_cosine_similarities is the ground truth\n",
    "\n",
    "from sklearn.metrics import ndcg_score\n",
    "\n",
    "\n",
    "# compute the NDCG score for each test movie\n",
    "k_values = [10,50, 100,500]\n",
    "ndcg_scores = []\n",
    "for k in k_values:\n",
    "    cb2cf_ndcg_avg = ndcg_score(oracle_test_relevance_scores_normalized,cb2cf_test_relevance_scores_normalized, k=k)\n",
    "    ndcg_scores.append(cb2cf_ndcg_avg)\n",
    "\n",
    "print(\"NDCG scores for k = 10, 50, 100, 500\")\n",
    "print(ndcg_scores)\n",
    "\n",
    "# plot the NDCG scores for different k values\n",
    "\n",
    "import matplotlib.pyplot as plt\n",
    "\n",
    "plt.plot(k_values, ndcg_scores)\n",
    "plt.xlabel(\"k\")\n",
    "plt.ylabel(\"NDCG score\")\n",
    "plt.show()\n",
    "\n"
   ]
  }
 ],
 "metadata": {
  "kernelspec": {
   "display_name": ".venv",
   "language": "python",
   "name": "python3"
  },
  "language_info": {
   "codemirror_mode": {
    "name": "ipython",
    "version": 3
   },
   "file_extension": ".py",
   "mimetype": "text/x-python",
   "name": "python",
   "nbconvert_exporter": "python",
   "pygments_lexer": "ipython3",
   "version": "3.9.7"
  },
  "orig_nbformat": 4,
  "vscode": {
   "interpreter": {
    "hash": "4949604dacae39bdd2618bc76fb269ae5c6ee85cf584bc2addf7917737d48aad"
   }
  }
 },
 "nbformat": 4,
 "nbformat_minor": 2
}
