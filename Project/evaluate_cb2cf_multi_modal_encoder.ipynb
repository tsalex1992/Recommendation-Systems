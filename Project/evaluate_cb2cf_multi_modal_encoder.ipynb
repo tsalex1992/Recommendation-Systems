{
 "cells": [
  {
   "cell_type": "code",
   "execution_count": 1,
   "metadata": {},
   "outputs": [
    {
     "name": "stderr",
     "output_type": "stream",
     "text": [
      "c:\\Users\\tsale\\OneDrive\\Desktop\\CS Masters Degree\\Recommendation Systems\\Project\\.venv\\lib\\site-packages\\tqdm\\auto.py:22: TqdmWarning: IProgress not found. Please update jupyter and ipywidgets. See https://ipywidgets.readthedocs.io/en/stable/user_install.html\n",
      "  from .autonotebook import tqdm as notebook_tqdm\n"
     ]
    }
   ],
   "source": [
    "\n",
    "import torch\n",
    "from tqdm import tqdm\n",
    "import matplotlib.pyplot as plt\n",
    "MODEL_PATH = \"cb2cf_multi_modal_encoder_model.pt\""
   ]
  },
  {
   "cell_type": "code",
   "execution_count": 2,
   "metadata": {},
   "outputs": [
    {
     "data": {
      "text/plain": [
       "CB2CFMultiModalEncoder(\n",
       "  (text_encoding_model): SentenceTransformer(\n",
       "    (0): Transformer({'max_seq_length': 400, 'do_lower_case': False}) with Transformer model: BertModel \n",
       "    (1): Pooling({'word_embedding_dimension': 384, 'pooling_mode_cls_token': False, 'pooling_mode_mean_tokens': True, 'pooling_mode_max_tokens': False, 'pooling_mode_mean_sqrt_len_tokens': False})\n",
       "    (2): Normalize()\n",
       "  )\n",
       "  (genres_embedding): Sequential(\n",
       "    (0): Linear(in_features=20, out_features=80, bias=True)\n",
       "    (1): BatchNorm1d(80, eps=1e-05, momentum=0.1, affine=True, track_running_stats=True)\n",
       "    (2): ReLU()\n",
       "    (3): Dropout(p=0.2, inplace=False)\n",
       "  )\n",
       "  (actors_embedding): Sequential(\n",
       "    (0): Linear(in_features=3324, out_features=80, bias=True)\n",
       "    (1): BatchNorm1d(80, eps=1e-05, momentum=0.1, affine=True, track_running_stats=True)\n",
       "    (2): ReLU()\n",
       "    (3): Dropout(p=0.2, inplace=False)\n",
       "  )\n",
       "  (directors_embedding): Sequential(\n",
       "    (0): Linear(in_features=1578, out_features=40, bias=True)\n",
       "    (1): BatchNorm1d(40, eps=1e-05, momentum=0.1, affine=True, track_running_stats=True)\n",
       "    (2): ReLU()\n",
       "    (3): Dropout(p=0.2, inplace=False)\n",
       "  )\n",
       "  (time_layer): Sequential(\n",
       "    (0): Linear(in_features=1, out_features=120, bias=True)\n",
       "    (1): BatchNorm1d(120, eps=1e-05, momentum=0.1, affine=True, track_running_stats=True)\n",
       "    (2): ReLU()\n",
       "    (3): Dropout(p=0.2, inplace=False)\n",
       "  )\n",
       "  (language_embedding): Sequential(\n",
       "    (0): Linear(in_features=90, out_features=40, bias=True)\n",
       "    (1): BatchNorm1d(40, eps=1e-05, momentum=0.1, affine=True, track_running_stats=True)\n",
       "    (2): ReLU()\n",
       "    (3): Dropout(p=0.2, inplace=False)\n",
       "  )\n",
       "  (description_layer): Sequential(\n",
       "    (0): Linear(in_features=384, out_features=768, bias=True)\n",
       "    (1): BatchNorm1d(768, eps=1e-05, momentum=0.1, affine=True, track_running_stats=True)\n",
       "    (2): ReLU()\n",
       "    (3): Dropout(p=0.2, inplace=False)\n",
       "  )\n",
       "  (combiner): Sequential(\n",
       "    (0): LayerNorm((1128,), eps=1e-05, elementwise_affine=True)\n",
       "    (1): Linear(in_features=1128, out_features=512, bias=True)\n",
       "    (2): BatchNorm1d(512, eps=1e-05, momentum=0.1, affine=True, track_running_stats=True)\n",
       "    (3): ReLU()\n",
       "    (4): Dropout(p=0.2, inplace=False)\n",
       "    (5): Linear(in_features=512, out_features=120, bias=True)\n",
       "    (6): BatchNorm1d(120, eps=1e-05, momentum=0.1, affine=True, track_running_stats=True)\n",
       "    (7): ReLU()\n",
       "    (8): Dropout(p=0.2, inplace=False)\n",
       "    (9): Linear(in_features=120, out_features=40, bias=True)\n",
       "    (10): BatchNorm1d(40, eps=1e-05, momentum=0.1, affine=True, track_running_stats=True)\n",
       "    (11): ReLU()\n",
       "    (12): Dropout(p=0.2, inplace=False)\n",
       "  )\n",
       ")"
      ]
     },
     "execution_count": 2,
     "metadata": {},
     "output_type": "execute_result"
    }
   ],
   "source": [
    "# load the model from  cb2cf_multi_modal_encoder.pt state_dict\n",
    "\n",
    "model = torch.load(MODEL_PATH)\n",
    "model.eval()"
   ]
  },
  {
   "cell_type": "code",
   "execution_count": 3,
   "metadata": {},
   "outputs": [
    {
     "name": "stdout",
     "output_type": "stream",
     "text": [
      "Using device: cuda:0\n"
     ]
    }
   ],
   "source": [
    "device = torch.device(\"cuda:0\" if torch.cuda.is_available() else \"cpu\")\n",
    "model.to(device)\n",
    "print(\"Using device:\", device)\n"
   ]
  },
  {
   "cell_type": "code",
   "execution_count": 4,
   "metadata": {},
   "outputs": [],
   "source": [
    "test_data = torch.load(\"cb2cf_test_dataset.pt\")\n"
   ]
  },
  {
   "cell_type": "code",
   "execution_count": 5,
   "metadata": {},
   "outputs": [],
   "source": [
    "test_dataloader = torch.utils.data.DataLoader(test_data, batch_size=1, shuffle=False, num_workers=0)\n"
   ]
  },
  {
   "cell_type": "code",
   "execution_count": 6,
   "metadata": {},
   "outputs": [
    {
     "name": "stderr",
     "output_type": "stream",
     "text": [
      "100%|██████████| 991/991 [00:11<00:00, 88.87it/s] "
     ]
    },
    {
     "name": "stdout",
     "output_type": "stream",
     "text": [
      "MSE loss on test set: 0.4256489030813834\n"
     ]
    },
    {
     "name": "stderr",
     "output_type": "stream",
     "text": [
      "\n"
     ]
    }
   ],
   "source": [
    "# Run eval on the test set with MSE loss\n",
    "\n",
    "with torch.no_grad():\n",
    "    total_loss = 0\n",
    "    for i, data in enumerate(tqdm(test_dataloader)):\n",
    "        output = model(\n",
    "            genres=data[\"genres\"].to(device),\n",
    "            actors=data[\"actors\"].to(device),\n",
    "            directors=data[\"directors\"].to(device),\n",
    "            unix_release_time=data[\"unix_release_time\"].to(device),\n",
    "            description=data[\"description\"],\n",
    "            language=data[\"language\"].to(device),\n",
    "        )\n",
    "        loss = torch.nn.functional.mse_loss(output, data[\"embeddings\"].to(device))\n",
    "        total_loss += loss.item()\n",
    "    print(\"MSE loss on test set:\", total_loss / len(test_dataloader))"
   ]
  },
  {
   "cell_type": "code",
   "execution_count": 7,
   "metadata": {},
   "outputs": [
    {
     "name": "stderr",
     "output_type": "stream",
     "text": [
      "100%|██████████| 991/991 [00:09<00:00, 104.17it/s]\n"
     ]
    }
   ],
   "source": [
    "# Save embeddings and title for items in test set\n",
    "\n",
    "with torch.no_grad():\n",
    "    test_embeddings = []\n",
    "    titles = []\n",
    "    test_movie_ids = []\n",
    "    for i, data in enumerate(tqdm(test_dataloader)):\n",
    "        output = model(\n",
    "            genres=data[\"genres\"].to(device),\n",
    "            actors=data[\"actors\"].to(device),\n",
    "            directors=data[\"directors\"].to(device),\n",
    "            unix_release_time=data[\"unix_release_time\"].to(device),\n",
    "            description=data[\"description\"],\n",
    "            language=data[\"language\"].to(device),\n",
    "        )\n",
    "        test_embeddings.append(output.cpu().squeeze().numpy())\n",
    "        test_movie_ids.append(data[\"movie_ids\"])\n",
    "        \n",
    "        titles.append(data[\"title\"])\n",
    "\n"
   ]
  },
  {
   "cell_type": "code",
   "execution_count": 8,
   "metadata": {},
   "outputs": [
    {
     "name": "stdout",
     "output_type": "stream",
     "text": [
      "Most similar movies to ['Андрей Рублёв']\n",
      "['Андрей Рублёв']\n",
      "['Ива́ново де́тство']\n",
      "['Nostalghia']\n",
      "['Accattone']\n",
      "['La notte']\n",
      "['Der siebente Kontinent']\n",
      "['Il conformista']\n",
      "['Une Femme est une femme']\n",
      "['I Walked with a Zombie']\n",
      "['Jungfrukällan']\n"
     ]
    }
   ],
   "source": [
    "# Pick a random movie from the test set and find the 10 most similar movies\n",
    "# by cosine similarity from embeddings\n",
    "\n",
    "import numpy as np\n",
    "from sklearn.metrics.pairwise import cosine_similarity\n",
    "\n",
    "# squeeze the embeddings to remove the batch dimension\n",
    "\n",
    "random_movie_index = np.random.randint(0, len(test_data))\n",
    "random_movie_embedding = test_embeddings[random_movie_index]\n",
    "random_movie_title = titles[random_movie_index]\n",
    "\n",
    "cosine_similarities = cosine_similarity([random_movie_embedding], test_embeddings)\n",
    "most_similar_indices = cosine_similarities.argsort()[0][-10:][::-1]\n",
    "\n",
    "print(\"Most similar movies to\", random_movie_title)\n",
    "for index in most_similar_indices:\n",
    "    print(titles[index])"
   ]
  },
  {
   "cell_type": "code",
   "execution_count": 9,
   "metadata": {},
   "outputs": [
    {
     "name": "stderr",
     "output_type": "stream",
     "text": [
      "100%|██████████| 8911/8911 [01:24<00:00, 105.52it/s]\n"
     ]
    }
   ],
   "source": [
    "# Load train dataset and produce train embeddings\n",
    "\n",
    "train_data = torch.load(\"cb2cf_train_dataset.pt\")\n",
    "train_dataloader = torch.utils.data.DataLoader(train_data, batch_size=1, shuffle=False, num_workers=0)\n",
    "\n",
    "with torch.no_grad():\n",
    "    train_embeddings = []\n",
    "    train_titles = []\n",
    "    train_movie_ids = []\n",
    "    for i, data in enumerate(tqdm(train_dataloader)):\n",
    "        output = model(\n",
    "            genres=data[\"genres\"].to(device),\n",
    "            actors=data[\"actors\"].to(device),\n",
    "            directors=data[\"directors\"].to(device),\n",
    "            unix_release_time=data[\"unix_release_time\"].to(device),\n",
    "            description=data[\"description\"],\n",
    "            language=data[\"language\"].to(device),\n",
    "        )\n",
    "        train_embeddings.append(output.cpu().squeeze().numpy())\n",
    "        train_titles.append(data[\"title\"])\n",
    "        train_movie_ids.append(data[\"movie_ids\"])\n",
    "\n",
    "\n"
   ]
  },
  {
   "cell_type": "code",
   "execution_count": 10,
   "metadata": {},
   "outputs": [],
   "source": [
    "import pandas as pd"
   ]
  },
  {
   "cell_type": "code",
   "execution_count": 53,
   "metadata": {},
   "outputs": [],
   "source": [
    "oracle_item_embeddings = pd.read_pickle(r\"BPR1_item_embeddings.pkl\")\n",
    "\n",
    "# convert train_movie ids and test movie ids to list of integers\n",
    "\n",
    "train_movie_ids = [int(movie_id) for movie_id in train_movie_ids]\n",
    "test_movie_ids = [int(movie_id) for movie_id in test_movie_ids]\n",
    "\n",
    "oracle_train_item_embeddings = oracle_item_embeddings[train_movie_ids]\n",
    "oracle_test_item_embeddings = oracle_item_embeddings[test_movie_ids]\n",
    "# all ids \n",
    "all_movie_ids = train_movie_ids + test_movie_ids\n",
    "# all titles\n",
    "all_titles = train_titles + titles\n",
    "# all oracle embeddings\n",
    "all_oracle_embeddings = np.concatenate((oracle_train_item_embeddings, oracle_test_item_embeddings), axis=0)"
   ]
  },
  {
   "cell_type": "code",
   "execution_count": 54,
   "metadata": {},
   "outputs": [],
   "source": [
    "# for each test movie compute cosine similarity with all movies in all_oracle_embeddings, remove the test movie itself\n",
    "\n",
    "oracle_test_cosine_similarities = cosine_similarity(oracle_test_item_embeddings , all_oracle_embeddings)\n",
    "cb2cf_test_cosine_similarities = cosine_similarity(test_embeddings, train_embeddings + test_embeddings)\n",
    "\n",
    "# arg_sort all the cosine similarities to get all the indices by similarity\n",
    "\n",
    "oracle_test_indices = oracle_test_cosine_similarities.argsort()[:, :][:, ::-1]\n",
    "cb2cf_test_indices = cb2cf_test_cosine_similarities.argsort()[:, :][:, ::-1]\n",
    "\n",
    "# remove the first index which is the test movie itself\n",
    "\n",
    "oracle_test_indices = oracle_test_indices[:, 1:]\n",
    "cb2cf_test_indices = cb2cf_test_indices[:, 1:]\n",
    "\n",
    "\n",
    "\n",
    "\n"
   ]
  },
  {
   "cell_type": "code",
   "execution_count": 125,
   "metadata": {},
   "outputs": [
    {
     "name": "stdout",
     "output_type": "stream",
     "text": [
      "Most similar movies to ['Sabrina']\n",
      "['Sabrina']\n",
      "['Working Girl']\n",
      "['Wuthering Heights']\n",
      "['Primary Colors']\n",
      "['On Golden Pond']\n",
      "['Dead Man Walking']\n",
      "['Sliding Doors']\n",
      "['Private Benjamin']\n",
      "['This Is My Father']\n",
      "['Hilary and Jackie']\n",
      "Oracle most similar movies to ['Sabrina']\n",
      "['Sabrina']\n",
      "['French Kiss']\n",
      "['A Walk in the Clouds']\n",
      "['It Could Happen to You']\n",
      "['I.Q.']\n",
      "['While You Were Sleeping']\n",
      "['The Englishman Who Went Up a Hill But Came Down a Mountain']\n",
      "['Only You']\n",
      "['Forget Paris']\n",
      "['One Fine Day']\n"
     ]
    }
   ],
   "source": [
    "# Compute the NDCG score for cb2cf_test_cosine_similarities where oracle_test_cosine_similarities is the ground truth\n",
    "\n",
    "\n",
    "random_movie_index = 1\n",
    "random_movie_embedding = test_embeddings[random_movie_index]\n",
    "random_movie_title = titles[random_movie_index]\n",
    "\n",
    "cosine_similarities = cosine_similarity([random_movie_embedding], train_embeddings + test_embeddings)\n",
    "most_similar_indices = cosine_similarities.argsort()[0][-10:][::-1]\n",
    "\n",
    "# compute the same for oracle_test_cosine_similarities\n",
    "random_movie_embedding_oracle = oracle_test_item_embeddings[random_movie_index]\n",
    "oracle_cosine_similarities = cosine_similarity([random_movie_embedding_oracle], all_oracle_embeddings)\n",
    "oracle_most_similar_indices = oracle_cosine_similarities.argsort()[0][-10:][::-1]\n",
    "print(\"Most similar movies to\", random_movie_title)\n",
    "for index in most_similar_indices:\n",
    "    print(all_titles[index])\n",
    "\n",
    "print(\"Oracle most similar movies to\", random_movie_title)\n",
    "for index in oracle_most_similar_indices:\n",
    "    print(all_titles[index])\n"
   ]
  },
  {
   "cell_type": "code",
   "execution_count": 126,
   "metadata": {},
   "outputs": [],
   "source": [
    "# remove values of 1 from oracle_test_cosine_similarities and cb2cf_test_cosine_similarities\n",
    "\n",
    "for i in range(len(oracle_test_cosine_similarities)):\n",
    "    oracle_test_cosine_similarities[i][len(train_embeddings) + i] = -1\n",
    "    cb2cf_test_cosine_similarities[i][len(train_embeddings) + i] = -1\n",
    "# oracle_test_cosine_similarities[oracle_test_cosine_similarities == 1.0] = -1\n",
    "# cb2cf_test_cosine_similarities[cb2cf_test_cosine_similarities == 1.0] = -1\n",
    "# convert the cosine similarity to relevance scores to be positive by adding 1\n",
    "\n",
    "oracle_test_relevance_scores_normalized = (oracle_test_cosine_similarities + 1) / 2\n",
    "cb2cf_test_relevance_scores_normalized = (cb2cf_test_cosine_similarities + 1) / 2"
   ]
  },
  {
   "cell_type": "code",
   "execution_count": 128,
   "metadata": {},
   "outputs": [
    {
     "name": "stdout",
     "output_type": "stream",
     "text": [
      "NDCG scores for k = 10, 50, 100, 500\n",
      "[0.8876633124104583, 0.8888784770655952, 0.8898789762924665, 0.8940228071107246]\n"
     ]
    },
    {
     "data": {
      "image/png": "[encoded data removed]",
      "text/plain": [
       "<Figure size 640x480 with 1 Axes>"
      ]
     },
     "metadata": {},
     "output_type": "display_data"
    }
   ],
   "source": [
    "# Compute NDCG score for cb2cf_test_cosine_similarities where oracle_test_cosine_similarities is the ground truth\n",
    "\n",
    "from sklearn.metrics import ndcg_score\n",
    "\n",
    "\n",
    "# compute the NDCG score for each test movie\n",
    "k_values = [10,50, 100,500]\n",
    "ndcg_scores = []\n",
    "for k in k_values:\n",
    "    cb2cf_ndcg_avg = ndcg_score(oracle_test_relevance_scores_normalized,cb2cf_test_relevance_scores_normalized, k=k)\n",
    "    ndcg_scores.append(cb2cf_ndcg_avg)\n",
    "\n",
    "print(\"NDCG scores for k = 10, 50, 100, 500\")\n",
    "print(ndcg_scores)\n",
    "\n",
    "# plot the NDCG scores for different k values\n",
    "\n",
    "import matplotlib.pyplot as plt\n",
    "\n",
    "plt.plot(k_values, ndcg_scores)\n",
    "plt.xlabel(\"k\")\n",
    "plt.ylabel(\"NDCG score\")\n",
    "plt.show()\n",
    "\n"
   ]
  }
 ],
 "metadata": {
  "kernelspec": {
   "display_name": ".venv",
   "language": "python",
   "name": "python3"
  },
  "language_info": {
   "codemirror_mode": {
    "name": "ipython",
    "version": 3
   },
   "file_extension": ".py",
   "mimetype": "text/x-python",
   "name": "python",
   "nbconvert_exporter": "python",
   "pygments_lexer": "ipython3",
   "version": "3.9.7"
  },
  "orig_nbformat": 4,
  "vscode": {
   "interpreter": {
    "hash": "4949604dacae39bdd2618bc76fb269ae5c6ee85cf584bc2addf7917737d48aad"
   }
  }
 },
 "nbformat": 4,
 "nbformat_minor": 2
}
