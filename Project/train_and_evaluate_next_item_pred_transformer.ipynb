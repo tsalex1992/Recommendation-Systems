{
 "cells": [
  {
   "cell_type": "code",
   "execution_count": 1,
   "metadata": {},
   "outputs": [
    {
     "name": "stderr",
     "output_type": "stream",
     "text": [
      "c:\\Users\\tsale\\OneDrive\\Desktop\\CS Masters Degree\\Recommendation Systems\\Project\\.venv\\lib\\site-packages\\tqdm\\auto.py:22: TqdmWarning: IProgress not found. Please update jupyter and ipywidgets. See https://ipywidgets.readthedocs.io/en/stable/user_install.html\n",
      "  from .autonotebook import tqdm as notebook_tqdm\n"
     ]
    }
   ],
   "source": [
    "import pandas as pd\n",
    "import torch\n",
    "import tqdm\n",
    "import numpy as np\n",
    "from tqdm import tqdm\n"
   ]
  },
  {
   "cell_type": "code",
   "execution_count": 2,
   "metadata": {},
   "outputs": [
    {
     "name": "stderr",
     "output_type": "stream",
     "text": [
      "100%|██████████| 8911/8911 [01:18<00:00, 112.86it/s]\n"
     ]
    }
   ],
   "source": [
    "# Load train dataset and produce train embeddings\n",
    "model_name = \"cb2cf_multi_modal_encoder_model.pt\"\n",
    "train_data = torch.load(\"cb2cf_train_dataset.pt\")\n",
    "train_dataloader = torch.utils.data.DataLoader(train_data, batch_size=1, shuffle=False, num_workers=0)\n",
    "model = torch.load(model_name)\n",
    "\n",
    "device = torch.device(\"cuda\" if torch.cuda.is_available() else \"cpu\")\n",
    "\n",
    "with torch.no_grad():\n",
    "    train_embeddings = []\n",
    "    train_titles = []\n",
    "    train_movie_ids = []\n",
    "    for data in tqdm(train_dataloader):\n",
    "        output = model(\n",
    "            genres=data[\"genres\"].to(device),\n",
    "            actors=data[\"actors\"].to(device),\n",
    "            directors=data[\"directors\"].to(device),\n",
    "            unix_release_time=data[\"unix_release_time\"].to(device),\n",
    "            description=data[\"description\"],\n",
    "            language=data[\"language\"].to(device),\n",
    "        )\n",
    "        train_embeddings.append(output.cpu().squeeze().numpy())\n",
    "        train_titles.append(data[\"title\"])\n",
    "        train_movie_ids.append(data[\"movie_ids\"])"
   ]
  },
  {
   "cell_type": "code",
   "execution_count": 3,
   "metadata": {},
   "outputs": [
    {
     "name": "stderr",
     "output_type": "stream",
     "text": [
      "100%|██████████| 991/991 [00:08<00:00, 110.85it/s]\n"
     ]
    }
   ],
   "source": [
    "test_data = torch.load(\"cb2cf_test_dataset.pt\")\n",
    "test_dataloader = torch.utils.data.DataLoader(test_data, batch_size=1, shuffle=False, num_workers=0)\n",
    "\n",
    "with torch.no_grad():\n",
    "    test_embeddings = []\n",
    "    test_titles = []\n",
    "    test_movie_ids = []\n",
    "    for i, data in enumerate(tqdm(test_dataloader)):\n",
    "        output = model(\n",
    "            genres=data[\"genres\"].to(device),\n",
    "            actors=data[\"actors\"].to(device),\n",
    "            directors=data[\"directors\"].to(device),\n",
    "            unix_release_time=data[\"unix_release_time\"].to(device),\n",
    "            description=data[\"description\"],\n",
    "            language=data[\"language\"].to(device),\n",
    "        )\n",
    "        test_embeddings.append(output.cpu().squeeze().numpy())\n",
    "        test_titles.append(data[\"title\"])\n",
    "        test_movie_ids.append(data[\"movie_ids\"])"
   ]
  },
  {
   "cell_type": "code",
   "execution_count": 4,
   "metadata": {},
   "outputs": [],
   "source": [
    "oracle_item_embeddings = pd.read_pickle(r\"BPR1_item_embeddings.pkl\")\n",
    "\n",
    "# convert train_movie ids and test movie ids to list of integers\n",
    "\n",
    "train_movie_ids = [int(movie_id) for movie_id in train_movie_ids]\n",
    "test_movie_ids = [int(movie_id) for movie_id in test_movie_ids]\n",
    "\n",
    "oracle_train_item_embeddings = oracle_item_embeddings[train_movie_ids]\n",
    "oracle_test_item_embeddings = oracle_item_embeddings[test_movie_ids]\n",
    "# all ids \n",
    "all_movie_ids = train_movie_ids + test_movie_ids\n",
    "# all titles\n",
    "all_titles = train_titles + test_titles\n",
    "# create a mapping from movie id to title\n",
    "movie_id_to_title = {movie_id: title for movie_id, title in zip(all_movie_ids, all_titles)}\n",
    "# all oracle embeddings\n",
    "all_oracle_embeddings = np.concatenate((oracle_train_item_embeddings, oracle_test_item_embeddings), axis=0)"
   ]
  },
  {
   "cell_type": "code",
   "execution_count": 5,
   "metadata": {},
   "outputs": [],
   "source": [
    "# Create a dataframe with item id, title, oracle embedding, cb2cf embedding\n",
    "\n",
    "import pandas as pd\n",
    "import pickle\n",
    "\n",
    "df = pd.DataFrame()\n",
    "\n",
    "oracle_item_embeddings = pd.read_pickle(r\"BPR1_item_embeddings.pkl\")\n",
    "\n",
    "\n",
    "df[\"item_id\"] = all_movie_ids\n",
    "df[\"title\"] = all_titles\n",
    "\n",
    "df[\"oracle_embedding\"] = list(all_oracle_embeddings)\n",
    "\n",
    "df[\"cb2cf_embedding\"] = list(train_embeddings + test_embeddings)\n",
    "# print the first 5 rows of the dataframe\n",
    "\n",
    "df.head()\n",
    "\n",
    "# save the dataframe to a pickle file with highest protocol\n",
    "\n",
    "df.to_pickle(\"cb2cf_embeddings_and_oracle_embeddings.pkl\", protocol=pickle.HIGHEST_PROTOCOL)"
   ]
  },
  {
   "cell_type": "code",
   "execution_count": 6,
   "metadata": {},
   "outputs": [
    {
     "data": {
      "text/html": [
       "<div>\n",
       "<style scoped>\n",
       "    .dataframe tbody tr th:only-of-type {\n",
       "        vertical-align: middle;\n",
       "    }\n",
       "\n",
       "    .dataframe tbody tr th {\n",
       "        vertical-align: top;\n",
       "    }\n",
       "\n",
       "    .dataframe thead th {\n",
       "        text-align: right;\n",
       "    }\n",
       "</style>\n",
       "<table border=\"1\" class=\"dataframe\">\n",
       "  <thead>\n",
       "    <tr style=\"text-align: right;\">\n",
       "      <th></th>\n",
       "      <th>item_id</th>\n",
       "      <th>title</th>\n",
       "      <th>oracle_embedding</th>\n",
       "      <th>cb2cf_embedding</th>\n",
       "    </tr>\n",
       "  </thead>\n",
       "  <tbody>\n",
       "    <tr>\n",
       "      <th>0</th>\n",
       "      <td>1</td>\n",
       "      <td>[Toy Story]</td>\n",
       "      <td>[0.07483365, -0.80597216, -2.5122287, 0.172594...</td>\n",
       "      <td>[0.7114382, 0.20333348, 0.5329094, 0.94893163,...</td>\n",
       "    </tr>\n",
       "    <tr>\n",
       "      <th>1</th>\n",
       "      <td>2</td>\n",
       "      <td>[Jumanji]</td>\n",
       "      <td>[-0.7013331, -0.358848, -0.35755172, 0.3665048...</td>\n",
       "      <td>[-0.19589086, -0.75600845, -0.20841327, 0.9568...</td>\n",
       "    </tr>\n",
       "    <tr>\n",
       "      <th>2</th>\n",
       "      <td>4</td>\n",
       "      <td>[Waiting to Exhale]</td>\n",
       "      <td>[-1.4799722, 0.0777297, -0.37370113, 1.1802115...</td>\n",
       "      <td>[-0.65252167, -1.2592509, -0.67503864, 1.04062...</td>\n",
       "    </tr>\n",
       "    <tr>\n",
       "      <th>3</th>\n",
       "      <td>5</td>\n",
       "      <td>[Father of the Bride Part II]</td>\n",
       "      <td>[-1.7130021, 0.64792114, -0.45365041, 1.244741...</td>\n",
       "      <td>[-0.5138638, -1.3205254, -0.35981533, 1.049852...</td>\n",
       "    </tr>\n",
       "    <tr>\n",
       "      <th>4</th>\n",
       "      <td>6</td>\n",
       "      <td>[Heat]</td>\n",
       "      <td>[-1.9372973, 0.86165136, -0.5711593, 1.8253926...</td>\n",
       "      <td>[-1.9371253, 0.18546836, -0.46241716, 0.865678...</td>\n",
       "    </tr>\n",
       "  </tbody>\n",
       "</table>\n",
       "</div>"
      ],
      "text/plain": [
       "   item_id                          title  \\\n",
       "0        1                    [Toy Story]   \n",
       "1        2                      [Jumanji]   \n",
       "2        4            [Waiting to Exhale]   \n",
       "3        5  [Father of the Bride Part II]   \n",
       "4        6                         [Heat]   \n",
       "\n",
       "                                    oracle_embedding  \\\n",
       "0  [0.07483365, -0.80597216, -2.5122287, 0.172594...   \n",
       "1  [-0.7013331, -0.358848, -0.35755172, 0.3665048...   \n",
       "2  [-1.4799722, 0.0777297, -0.37370113, 1.1802115...   \n",
       "3  [-1.7130021, 0.64792114, -0.45365041, 1.244741...   \n",
       "4  [-1.9372973, 0.86165136, -0.5711593, 1.8253926...   \n",
       "\n",
       "                                     cb2cf_embedding  \n",
       "0  [0.7114382, 0.20333348, 0.5329094, 0.94893163,...  \n",
       "1  [-0.19589086, -0.75600845, -0.20841327, 0.9568...  \n",
       "2  [-0.65252167, -1.2592509, -0.67503864, 1.04062...  \n",
       "3  [-0.5138638, -1.3205254, -0.35981533, 1.049852...  \n",
       "4  [-1.9371253, 0.18546836, -0.46241716, 0.865678...  "
      ]
     },
     "execution_count": 6,
     "metadata": {},
     "output_type": "execute_result"
    }
   ],
   "source": [
    "# load cb2cf_embeddings_and_oracle_embeddings.pkl into a dataframe\n",
    "cb2cf_embeddings_and_oracle_embeddings_df= pd.read_pickle(r\"cb2cf_embeddings_and_oracle_embeddings.pkl\")\n",
    "\n",
    "# print the first 5 rows of the dataframe\n",
    "\n",
    "cb2cf_embeddings_and_oracle_embeddings_df.head()"
   ]
  },
  {
   "cell_type": "code",
   "execution_count": 7,
   "metadata": {},
   "outputs": [],
   "source": [
    "import numpy as np\n",
    "from sklearn.metrics.pairwise import cosine_similarity\n",
    "\n",
    "def print_most_similar_movie_titles(relevant_title, relevant_embedding, all_embeddings, all_titles, index_to_ignore=0, n=4):\n",
    "    all_titles = np.array(all_titles)\n",
    "    # remove index to ignore from all embeddings and all titles\n",
    "    all_embeddings = np.delete(all_embeddings, index_to_ignore, axis=0)\n",
    "    all_titles = np.delete(all_titles, index_to_ignore, axis=0)\n",
    "    # compute cosine similarity between relevant embedding and all embeddings\n",
    "    similarities = cosine_similarity(relevant_embedding.reshape(1, -1), all_embeddings)\n",
    "    # get the indices of the most similar embeddings\n",
    "    most_similar_indices = np.argsort(similarities[0])[-(n):]\n",
    "    # remove the first index as it is the relevant embedding itself\n",
    "    most_similar_indices = most_similar_indices\n",
    "    # convert to list of integers\n",
    "    most_similar_indices = most_similar_indices.tolist()\n",
    "    # convert all titles to numpy array\n",
    "    titles= all_titles[most_similar_indices]\n",
    "    print(f\"Most similar movies to {relevant_title} are:\\n {titles}\")\n",
    "    "
   ]
  },
  {
   "cell_type": "code",
   "execution_count": 8,
   "metadata": {},
   "outputs": [
    {
     "name": "stdout",
     "output_type": "stream",
     "text": [
      "Most similar movies from the test set using CB2CF embeddings\n",
      "Most similar movies to ['Carmen Jones'] are:\n",
      " [['Jane Eyre']\n",
      " ['The Song of Bernadette']\n",
      " ['Pride and Prejudice']\n",
      " [\"I Know Where I'm Going!\"]]\n",
      "\n",
      "\n",
      "Most similar movies from the test set using Oracle embeddings\n",
      "Most similar movies to ['Carmen Jones'] are:\n",
      " [['Préparez vos mouchoirs']\n",
      " ['The Palm Beach Story']\n",
      " ['Housekeeping']\n",
      " ['Suddenly, Last Summer']]\n"
     ]
    }
   ],
   "source": [
    "# pick a random index from test set\n",
    "random_index = np.random.randint(0, len(test_embeddings))\n",
    "# get the relevant title\n",
    "relevant_title = test_titles[random_index]\n",
    "# get the relevant embedding from the test set\n",
    "relevant_embedding = test_embeddings[random_index]\n",
    "# get the relevant embedding from the oracle set\n",
    "relevant_oracle_embedding = oracle_test_item_embeddings[random_index]\n",
    "\n",
    "index_to_ignore = random_index + len(train_embeddings)\n",
    "\n",
    "# get the most similar movies from the test set\n",
    "print(\"Most similar movies from the test set using CB2CF embeddings\")\n",
    "print_most_similar_movie_titles(relevant_title, relevant_embedding, train_embeddings + test_embeddings, train_titles + test_titles, index_to_ignore=index_to_ignore)\n",
    "# get the most similar movies from the oracle set\n",
    "print(\"\\n\")\n",
    "print(\"Most similar movies from the test set using Oracle embeddings\")\n",
    "print_most_similar_movie_titles(relevant_title, relevant_oracle_embedding, all_oracle_embeddings, train_titles + test_titles, index_to_ignore=index_to_ignore)\n",
    "\n",
    "\n"
   ]
  },
  {
   "cell_type": "code",
   "execution_count": 9,
   "metadata": {},
   "outputs": [
    {
     "data": {
      "text/html": [
       "<div>\n",
       "<style scoped>\n",
       "    .dataframe tbody tr th:only-of-type {\n",
       "        vertical-align: middle;\n",
       "    }\n",
       "\n",
       "    .dataframe tbody tr th {\n",
       "        vertical-align: top;\n",
       "    }\n",
       "\n",
       "    .dataframe thead th {\n",
       "        text-align: right;\n",
       "    }\n",
       "</style>\n",
       "<table border=\"1\" class=\"dataframe\">\n",
       "  <thead>\n",
       "    <tr style=\"text-align: right;\">\n",
       "      <th></th>\n",
       "      <th>userId</th>\n",
       "      <th>movieId</th>\n",
       "      <th>rating</th>\n",
       "      <th>timestamp</th>\n",
       "    </tr>\n",
       "  </thead>\n",
       "  <tbody>\n",
       "    <tr>\n",
       "      <th>59</th>\n",
       "      <td>4</td>\n",
       "      <td>223</td>\n",
       "      <td>1</td>\n",
       "      <td>1042668576</td>\n",
       "    </tr>\n",
       "    <tr>\n",
       "      <th>60</th>\n",
       "      <td>4</td>\n",
       "      <td>415</td>\n",
       "      <td>1</td>\n",
       "      <td>1042667925</td>\n",
       "    </tr>\n",
       "    <tr>\n",
       "      <th>61</th>\n",
       "      <td>4</td>\n",
       "      <td>648</td>\n",
       "      <td>1</td>\n",
       "      <td>1042674800</td>\n",
       "    </tr>\n",
       "    <tr>\n",
       "      <th>62</th>\n",
       "      <td>4</td>\n",
       "      <td>1097</td>\n",
       "      <td>1</td>\n",
       "      <td>1042667925</td>\n",
       "    </tr>\n",
       "    <tr>\n",
       "      <th>63</th>\n",
       "      <td>4</td>\n",
       "      <td>1197</td>\n",
       "      <td>1</td>\n",
       "      <td>1042667956</td>\n",
       "    </tr>\n",
       "  </tbody>\n",
       "</table>\n",
       "</div>"
      ],
      "text/plain": [
       "    userId  movieId  rating   timestamp\n",
       "59       4      223       1  1042668576\n",
       "60       4      415       1  1042667925\n",
       "61       4      648       1  1042674800\n",
       "62       4     1097       1  1042667925\n",
       "63       4     1197       1  1042667956"
      ]
     },
     "execution_count": 9,
     "metadata": {},
     "output_type": "execute_result"
    }
   ],
   "source": [
    "\n",
    "train_ratings_df= pd.read_pickle(r\"beforelastXRatings.pkl\",  compression= 'gzip')\n",
    "\n",
    "# print the first 5 rows of the dataframe\n",
    "\n",
    "\n",
    "# drop ratings which are 0s\n",
    "\n",
    "train_ratings_df = train_ratings_df[train_ratings_df[\"rating\"] != 0]\n",
    "\n",
    "train_ratings_df.head()"
   ]
  },
  {
   "cell_type": "code",
   "execution_count": 10,
   "metadata": {},
   "outputs": [
    {
     "name": "stdout",
     "output_type": "stream",
     "text": [
      "Number of users: 127878\n"
     ]
    }
   ],
   "source": [
    "# Create a tokenizer\n",
    "from Tokenizer import Tokenizer\n",
    "import pickle\n",
    "\n",
    "user_ids = train_ratings_df[\"userId\"].unique().tolist()\n",
    "print(f\"Number of users: {len(user_ids)}\")\n",
    "\n",
    "tokenizer = Tokenizer(item_ids= all_movie_ids, user_ids= user_ids)\n",
    "\n",
    "# save the tokenizer to a pickle file with highest protocol\n",
    "\n",
    "with open(\"tokenizer_next_item_pred_transformer.pkl\", \"wb\") as f:\n",
    "    pickle.dump(tokenizer, f, protocol=pickle.HIGHEST_PROTOCOL)"
   ]
  },
  {
   "cell_type": "code",
   "execution_count": 11,
   "metadata": {},
   "outputs": [
    {
     "name": "stdout",
     "output_type": "stream",
     "text": [
      "9903\n",
      "9902\n",
      "9902\n"
     ]
    }
   ],
   "source": [
    "# check if item with id 144606 is present in train_ratings_df\n",
    "\n",
    "144606 in train_ratings_df[\"movieId\"].unique()\n",
    "\n",
    "# check if item with id 144606 is present in all_movie_ids\n",
    "\n",
    "# This is a bad movie id and should not be present in the train_ratings_df\n",
    "144606 in all_movie_ids\n",
    "\n",
    "# print number of unique items in train_ratings_df\n",
    "\n",
    "print(len(train_ratings_df[\"movieId\"].unique()))\n",
    "\n",
    "# print number of unique items in all_movie_ids\n",
    "\n",
    "print(len(all_movie_ids))\n",
    "\n",
    "# get missing items in train_ratings_df\n",
    "\n",
    "missing_items = set(train_ratings_df[\"movieId\"].unique()) - set(all_movie_ids)\n",
    "\n",
    "# remove the missing items from train_ratings_df\n",
    "\n",
    "train_ratings_df = train_ratings_df[~train_ratings_df[\"movieId\"].isin(missing_items)]\n",
    "\n",
    "# print the new number of unique items in train_ratings_df\n",
    "\n",
    "print(len(train_ratings_df[\"movieId\"].unique()))"
   ]
  },
  {
   "cell_type": "code",
   "execution_count": 12,
   "metadata": {},
   "outputs": [],
   "source": [
    "# we need a size which fills the condition length +2 % 3 == 0\n",
    "max_rating_sequence_length = 50\n",
    "\n",
    "# apply tokenizer_encode_item_ids to the movie ids column\n",
    "user_id_to_movie_ids = train_ratings_df.groupby(\"userId\")[\"movieId\"].apply(list).apply(tokenizer.encode_items).to_dict()\n",
    "user_id_to_rating_times = train_ratings_df.groupby(\"userId\")[\"timestamp\"].apply(list).to_dict()\n",
    "\n",
    "# take last 50 ratings for each user\n",
    "for user_id in user_id_to_movie_ids:\n",
    "    user_id_to_movie_ids[user_id] = user_id_to_movie_ids[user_id][-max_rating_sequence_length:]\n",
    "    user_id_to_rating_times[user_id] = user_id_to_rating_times[user_id][-max_rating_sequence_length:]\n",
    "\n",
    "# for user_id in user_id_to_movie_ids:\n",
    "#     if len(user_id_to_movie_ids[user_id]) > max_rating_sequence_length:\n",
    "#         max_rating_sequence_length = len(user_id_to_movie_ids[user_id])\n",
    "\n",
    "\n"
   ]
  },
  {
   "cell_type": "code",
   "execution_count": 13,
   "metadata": {},
   "outputs": [],
   "source": [
    "user_items_vectors = []\n",
    "user_rating_times_vectors = []\n",
    "encoded_user_ids = []\n",
    "\n",
    "for user_id in user_id_to_movie_ids.keys():\n",
    "    encoded_user_ids.append(tokenizer.encode_user(user_id))\n",
    "    user_items_vectors.append(np.array(user_id_to_movie_ids[user_id]))\n",
    "    user_rating_times_vectors.append(np.array(user_id_to_rating_times[user_id]))"
   ]
  },
  {
   "cell_type": "code",
   "execution_count": 14,
   "metadata": {},
   "outputs": [
    {
     "name": "stdout",
     "output_type": "stream",
     "text": [
      "127878\n"
     ]
    }
   ],
   "source": [
    "from NextItemPredDataset import NextItemPredDataset\n",
    "from utils import prepare_training_data_for_next_item_pred_transformer\n",
    "# Create a dataset\n",
    "dataset = NextItemPredDataset(\n",
    "    prepare_training_data_for_next_item_pred_transformer(encoded_user_ids, user_items_vectors, user_rating_times_vectors, max_seq_len=max_rating_sequence_length)\n",
    ")\n",
    "print(len(encoded_user_ids))"
   ]
  },
  {
   "cell_type": "code",
   "execution_count": 15,
   "metadata": {},
   "outputs": [
    {
     "name": "stdout",
     "output_type": "stream",
     "text": [
      "50\n"
     ]
    }
   ],
   "source": [
    "print(max_rating_sequence_length)"
   ]
  },
  {
   "cell_type": "code",
   "execution_count": 16,
   "metadata": {},
   "outputs": [],
   "source": [
    "# Load NextItemPredTransformer\n",
    "\n",
    "from NextItemPredTransformer import NextItemPredTransformer\n",
    "from NextItemPredTransformer import ModelDimensions\n",
    "import torch\n",
    "import torch.nn.functional as F\n"
   ]
  },
  {
   "cell_type": "code",
   "execution_count": 17,
   "metadata": {},
   "outputs": [
    {
     "name": "stdout",
     "output_type": "stream",
     "text": [
      "torch.Size([9904, 40])\n"
     ]
    },
    {
     "name": "stderr",
     "output_type": "stream",
     "text": [
      "C:\\Users\\tsale\\AppData\\Local\\Temp\\ipykernel_2628\\2636922344.py:8: UserWarning: Creating a tensor from a list of numpy.ndarrays is extremely slow. Please consider converting the list to a single numpy.ndarray with numpy.array() before converting to a tensor. (Triggered internally at C:\\actions-runner\\_work\\pytorch\\pytorch\\builder\\windows\\pytorch\\torch\\csrc\\utils\\tensor_new.cpp:233.)\n",
      "  train_embeddings = torch.tensor(train_embeddings)\n"
     ]
    }
   ],
   "source": [
    "model_hidden_size = 40\n",
    "# SOS embedding\n",
    "sos_embedding = torch.zeros(1, model_hidden_size)\n",
    "# EOS embedding\n",
    "eos_embedding = torch.ones(1, model_hidden_size)\n",
    "\n",
    "# convert train_embeddings  and test_embeddings to torch tensor\n",
    "train_embeddings = torch.tensor(train_embeddings)\n",
    "test_embeddings = torch.tensor(test_embeddings)\n",
    "\n",
    "# combine sos_embedding eos_embedding  train_embeddings and test_embeddings into a single tensor\n",
    "all_cb2cf_item_embeddings = torch.cat((sos_embedding, eos_embedding, train_embeddings, test_embeddings), dim=0)\n",
    "\n",
    "# print shape of all_cb2cf_item_embeddings\n",
    "print(all_cb2cf_item_embeddings.shape)"
   ]
  },
  {
   "cell_type": "code",
   "execution_count": 18,
   "metadata": {},
   "outputs": [],
   "source": [
    "# load user embeddings from BPR1_user_embeddings.pkl\n",
    "with open(\"BPR1_user_embeddings.pkl\", \"rb\") as f:\n",
    "    user_embeddings = pickle.load(f)"
   ]
  },
  {
   "cell_type": "code",
   "execution_count": 19,
   "metadata": {},
   "outputs": [
    {
     "name": "stdout",
     "output_type": "stream",
     "text": [
      "127878\n",
      "[4, 7, 8, 9, 11]\n"
     ]
    }
   ],
   "source": [
    "relevant_user_ids = tokenizer.decode_users(encoded_user_ids)\n",
    "# print len and the first 5\n",
    "print(len(relevant_user_ids))\n",
    "print(relevant_user_ids[:5])"
   ]
  },
  {
   "cell_type": "code",
   "execution_count": 20,
   "metadata": {},
   "outputs": [
    {
     "name": "stdout",
     "output_type": "stream",
     "text": [
      "torch.Size([127878, 40])\n"
     ]
    }
   ],
   "source": [
    "# convert them to torch tensor\n",
    "user_embeddings = torch.tensor(user_embeddings[relevant_user_ids])\n",
    "# print shape of user_embeddings\n",
    "print(user_embeddings.shape)"
   ]
  },
  {
   "cell_type": "code",
   "execution_count": 21,
   "metadata": {},
   "outputs": [],
   "source": [
    "# Clear all cuda cache\n",
    "torch.cuda.empty_cache()\n",
    "# remove model from memory\n",
    "del model"
   ]
  },
  {
   "cell_type": "code",
   "execution_count": 22,
   "metadata": {},
   "outputs": [
    {
     "data": {
      "text/plain": [
       "'|===========================================================================|\\n|                  PyTorch CUDA memory summary, device ID 0                 |\\n|---------------------------------------------------------------------------|\\n|            CUDA OOMs: 0            |        cudaMalloc retries: 0         |\\n|===========================================================================|\\n|        Metric         | Cur Usage  | Peak Usage | Tot Alloc  | Tot Freed  |\\n|---------------------------------------------------------------------------|\\n| Allocated memory      |   91616 KB |  100017 KB |  189109 MB |  189020 MB |\\n|       from large pool |   74752 KB |   80518 KB |   19621 MB |   19548 MB |\\n|       from small pool |   16864 KB |   20463 KB |  169488 MB |  169471 MB |\\n|---------------------------------------------------------------------------|\\n| Active memory         |   91616 KB |  100017 KB |  189109 MB |  189020 MB |\\n|       from large pool |   74752 KB |   80518 KB |   19621 MB |   19548 MB |\\n|       from small pool |   16864 KB |   20463 KB |  169488 MB |  169471 MB |\\n|---------------------------------------------------------------------------|\\n| GPU reserved memory   |  106496 KB |  110592 KB |  110592 KB |    4096 KB |\\n|       from large pool |   88064 KB |   88064 KB |   88064 KB |       0 KB |\\n|       from small pool |   18432 KB |   22528 KB |   22528 KB |    4096 KB |\\n|---------------------------------------------------------------------------|\\n| Non-releasable memory |   14879 KB |   23492 KB |  253216 MB |  253202 MB |\\n|       from large pool |   13312 KB |   21545 KB |   19585 MB |   19572 MB |\\n|       from small pool |    1567 KB |    5232 KB |  233631 MB |  233630 MB |\\n|---------------------------------------------------------------------------|\\n| Allocations           |     166    |     189    |    2010 K  |    2010 K  |\\n|       from large pool |      14    |      16    |      11 K  |      11 K  |\\n|       from small pool |     152    |     175    |    1998 K  |    1998 K  |\\n|---------------------------------------------------------------------------|\\n| Active allocs         |     166    |     189    |    2010 K  |    2010 K  |\\n|       from large pool |      14    |      16    |      11 K  |      11 K  |\\n|       from small pool |     152    |     175    |    1998 K  |    1998 K  |\\n|---------------------------------------------------------------------------|\\n| GPU reserved segments |      12    |      14    |      14    |       2    |\\n|       from large pool |       3    |       3    |       3    |       0    |\\n|       from small pool |       9    |      11    |      11    |       2    |\\n|---------------------------------------------------------------------------|\\n| Non-releasable allocs |      11    |      17    |     930 K  |     930 K  |\\n|       from large pool |       2    |       3    |       5 K  |       5 K  |\\n|       from small pool |       9    |      14    |     924 K  |     924 K  |\\n|---------------------------------------------------------------------------|\\n| Oversize allocations  |       0    |       0    |       0    |       0    |\\n|---------------------------------------------------------------------------|\\n| Oversize GPU segments |       0    |       0    |       0    |       0    |\\n|===========================================================================|\\n'"
      ]
     },
     "execution_count": 22,
     "metadata": {},
     "output_type": "execute_result"
    }
   ],
   "source": [
    "# print all free gpu memory\n",
    "torch.cuda.empty_cache()\n",
    "\n",
    "torch.cuda.memory_summary(device=None, abbreviated=False)"
   ]
  },
  {
   "cell_type": "code",
   "execution_count": 23,
   "metadata": {},
   "outputs": [],
   "source": [
    "vocab_size = len(all_movie_ids) + 2\n"
   ]
  },
  {
   "cell_type": "code",
   "execution_count": 24,
   "metadata": {},
   "outputs": [],
   "source": [
    "# Init NextItemPredTransformer\n",
    "dims = ModelDimensions(\n",
    "    model_input_length=max_rating_sequence_length ,\n",
    "    model_hidden_dim=40,\n",
    "    n_attention_heads=4,\n",
    "    n_decoder_layers=3,\n",
    "    vocab_size=vocab_size,\n",
    "    pre_trained_item_embeddings=all_cb2cf_item_embeddings,\n",
    "    pre_trained_user_embeddings=user_embeddings,\n",
    "    use_concat_user_embedding=True,\n",
    ")\n",
    "\n",
    "model = NextItemPredTransformer(dims)"
   ]
  },
  {
   "cell_type": "code",
   "execution_count": 25,
   "metadata": {},
   "outputs": [],
   "source": [
    "# Define training hyper parameters\n",
    "batch_size = 32\n",
    "lr = 1e-2\n",
    "optimizer = torch.optim.AdamW(model.parameters(), lr=lr)\n",
    "criterion = torch.nn.CrossEntropyLoss()\n"
   ]
  },
  {
   "cell_type": "code",
   "execution_count": 26,
   "metadata": {},
   "outputs": [],
   "source": [
    "# Create a dataloader\n",
    "dataloader = torch.utils.data.DataLoader(\n",
    "    dataset, batch_size=batch_size, shuffle=False, num_workers=0\n",
    ")\n",
    "\n"
   ]
  },
  {
   "cell_type": "code",
   "execution_count": 27,
   "metadata": {},
   "outputs": [
    {
     "name": "stdout",
     "output_type": "stream",
     "text": [
      "cuda\n"
     ]
    },
    {
     "data": {
      "text/plain": [
       "NextItemPredTransformer(\n",
       "  (decoder): ItemDecoder(\n",
       "    (items_embedding): Embedding(9904, 40)\n",
       "    (users_embedding): Embedding(127878, 40)\n",
       "    (time_embedding): Sequential(\n",
       "      (0): Linear(in_features=52, out_features=2080, bias=True)\n",
       "      (1): Unflatten(dim=1, unflattened_size=(52, 40))\n",
       "      (2): ReLU()\n",
       "    )\n",
       "    (blocks): ModuleList(\n",
       "      (0): ResidualAttentionBlock(\n",
       "        (attn): MultiHeadAttention(\n",
       "          (query): Linear(in_features=40, out_features=40, bias=True)\n",
       "          (key): Linear(in_features=40, out_features=40, bias=False)\n",
       "          (value): Linear(in_features=40, out_features=40, bias=True)\n",
       "          (out): Linear(in_features=40, out_features=40, bias=True)\n",
       "        )\n",
       "        (attn_ln): LayerNorm((40,), eps=1e-05, elementwise_affine=True)\n",
       "        (mlp): Sequential(\n",
       "          (0): Linear(in_features=40, out_features=160, bias=True)\n",
       "          (1): GELU(approximate='none')\n",
       "          (2): Linear(in_features=160, out_features=40, bias=True)\n",
       "        )\n",
       "        (mlp_ln): LayerNorm((40,), eps=1e-05, elementwise_affine=True)\n",
       "      )\n",
       "      (1): ResidualAttentionBlock(\n",
       "        (attn): MultiHeadAttention(\n",
       "          (query): Linear(in_features=40, out_features=40, bias=True)\n",
       "          (key): Linear(in_features=40, out_features=40, bias=False)\n",
       "          (value): Linear(in_features=40, out_features=40, bias=True)\n",
       "          (out): Linear(in_features=40, out_features=40, bias=True)\n",
       "        )\n",
       "        (attn_ln): LayerNorm((40,), eps=1e-05, elementwise_affine=True)\n",
       "        (mlp): Sequential(\n",
       "          (0): Linear(in_features=40, out_features=160, bias=True)\n",
       "          (1): GELU(approximate='none')\n",
       "          (2): Linear(in_features=160, out_features=40, bias=True)\n",
       "        )\n",
       "        (mlp_ln): LayerNorm((40,), eps=1e-05, elementwise_affine=True)\n",
       "      )\n",
       "      (2): ResidualAttentionBlock(\n",
       "        (attn): MultiHeadAttention(\n",
       "          (query): Linear(in_features=40, out_features=40, bias=True)\n",
       "          (key): Linear(in_features=40, out_features=40, bias=False)\n",
       "          (value): Linear(in_features=40, out_features=40, bias=True)\n",
       "          (out): Linear(in_features=40, out_features=40, bias=True)\n",
       "        )\n",
       "        (attn_ln): LayerNorm((40,), eps=1e-05, elementwise_affine=True)\n",
       "        (mlp): Sequential(\n",
       "          (0): Linear(in_features=40, out_features=160, bias=True)\n",
       "          (1): GELU(approximate='none')\n",
       "          (2): Linear(in_features=160, out_features=40, bias=True)\n",
       "        )\n",
       "        (mlp_ln): LayerNorm((40,), eps=1e-05, elementwise_affine=True)\n",
       "      )\n",
       "    )\n",
       "    (ln): LayerNorm((40,), eps=1e-05, elementwise_affine=True)\n",
       "  )\n",
       ")"
      ]
     },
     "execution_count": 27,
     "metadata": {},
     "output_type": "execute_result"
    }
   ],
   "source": [
    "# use gpu if available\n",
    "device = torch.device(\"cuda\" if torch.cuda.is_available() else \"cpu\")\n",
    "print(device)\n",
    "\n",
    "# move model to device\n",
    "model.to(device)"
   ]
  },
  {
   "cell_type": "code",
   "execution_count": 28,
   "metadata": {},
   "outputs": [
    {
     "name": "stdout",
     "output_type": "stream",
     "text": [
      "171440\n"
     ]
    }
   ],
   "source": [
    "# print total number of parameters\n",
    "print(sum(p.numel() for p in model.parameters() if p.requires_grad))"
   ]
  },
  {
   "cell_type": "code",
   "execution_count": 28,
   "metadata": {},
   "outputs": [],
   "source": [
    "# convert the device to cpu\n",
    "# device = torch.device(\"cpu\")"
   ]
  },
  {
   "cell_type": "code",
   "execution_count": 29,
   "metadata": {},
   "outputs": [
    {
     "name": "stderr",
     "output_type": "stream",
     "text": [
      "  1%|          | 810/127878 [00:20<55:12, 38.36it/s]  "
     ]
    },
    {
     "name": "stdout",
     "output_type": "stream",
     "text": [
      "Batch count: 1000, Loss: 8.579892847061156\n"
     ]
    },
    {
     "name": "stderr",
     "output_type": "stream",
     "text": [
      "  1%|▏         | 1621/127878 [00:40<57:16, 36.74it/s] "
     ]
    },
    {
     "name": "stdout",
     "output_type": "stream",
     "text": [
      "Batch count: 2000, Loss: 8.347875572681428\n"
     ]
    },
    {
     "name": "stderr",
     "output_type": "stream",
     "text": [
      "  2%|▏         | 2434/127878 [01:00<54:29, 38.36it/s]"
     ]
    },
    {
     "name": "stdout",
     "output_type": "stream",
     "text": [
      "Batch count: 3000, Loss: 8.35045997285843\n"
     ]
    },
    {
     "name": "stderr",
     "output_type": "stream",
     "text": [
      "  3%|▎         | 3245/127878 [01:20<48:14, 43.05it/s]  "
     ]
    },
    {
     "name": "stdout",
     "output_type": "stream",
     "text": [
      "Batch count: 4000, Loss: 8.355208919525147\n"
     ]
    },
    {
     "name": "stderr",
     "output_type": "stream",
     "text": [
      "  3%|▎         | 4067/127878 [01:40<52:43, 39.13it/s]"
     ]
    },
    {
     "name": "stdout",
     "output_type": "stream",
     "text": [
      "Batch count: 5000, Loss: 8.35046760559082\n"
     ]
    },
    {
     "name": "stderr",
     "output_type": "stream",
     "text": [
      "  4%|▍         | 4887/127878 [02:00<49:39, 41.28it/s]"
     ]
    },
    {
     "name": "stdout",
     "output_type": "stream",
     "text": [
      "Batch count: 6000, Loss: 8.35377005815506\n"
     ]
    },
    {
     "name": "stderr",
     "output_type": "stream",
     "text": [
      "  4%|▍         | 5705/127878 [02:20<53:07, 38.33it/s]"
     ]
    },
    {
     "name": "stdout",
     "output_type": "stream",
     "text": [
      "Batch count: 7000, Loss: 8.335818747997283\n"
     ]
    },
    {
     "name": "stderr",
     "output_type": "stream",
     "text": [
      "  5%|▌         | 6545/127878 [02:40<52:49, 38.28it/s]"
     ]
    },
    {
     "name": "stdout",
     "output_type": "stream",
     "text": [
      "Batch count: 8000, Loss: 8.322952216625213\n"
     ]
    },
    {
     "name": "stderr",
     "output_type": "stream",
     "text": [
      "  6%|▌         | 7359/127878 [03:00<51:45, 38.80it/s]"
     ]
    },
    {
     "name": "stdout",
     "output_type": "stream",
     "text": [
      "Batch count: 9000, Loss: 8.375767915725708\n"
     ]
    },
    {
     "name": "stderr",
     "output_type": "stream",
     "text": [
      "  6%|▋         | 8198/127878 [03:20<51:16, 38.90it/s]"
     ]
    },
    {
     "name": "stdout",
     "output_type": "stream",
     "text": [
      "Batch count: 10000, Loss: 8.343721601009369\n"
     ]
    },
    {
     "name": "stderr",
     "output_type": "stream",
     "text": [
      "  7%|▋         | 9018/127878 [03:39<48:28, 40.87it/s]"
     ]
    },
    {
     "name": "stdout",
     "output_type": "stream",
     "text": [
      "Batch count: 11000, Loss: 8.329283149242402\n"
     ]
    },
    {
     "name": "stderr",
     "output_type": "stream",
     "text": [
      "  8%|▊         | 9849/127878 [04:00<49:04, 40.08it/s]"
     ]
    },
    {
     "name": "stdout",
     "output_type": "stream",
     "text": [
      "Batch count: 12000, Loss: 8.348962072849273\n"
     ]
    },
    {
     "name": "stderr",
     "output_type": "stream",
     "text": [
      "  8%|▊         | 10678/127878 [04:19<41:06, 47.52it/s]"
     ]
    },
    {
     "name": "stdout",
     "output_type": "stream",
     "text": [
      "Batch count: 13000, Loss: 8.339084486484527\n"
     ]
    },
    {
     "name": "stderr",
     "output_type": "stream",
     "text": [
      "  9%|▉         | 11491/127878 [04:39<46:06, 42.07it/s]"
     ]
    },
    {
     "name": "stdout",
     "output_type": "stream",
     "text": [
      "Batch count: 14000, Loss: 8.355305754184723\n"
     ]
    },
    {
     "name": "stderr",
     "output_type": "stream",
     "text": [
      " 10%|▉         | 12337/127878 [04:59<43:36, 44.16it/s]"
     ]
    },
    {
     "name": "stdout",
     "output_type": "stream",
     "text": [
      "Batch count: 15000, Loss: 8.336780010700226\n"
     ]
    },
    {
     "name": "stderr",
     "output_type": "stream",
     "text": [
      " 10%|█         | 13162/127878 [05:19<45:54, 41.64it/s]"
     ]
    },
    {
     "name": "stdout",
     "output_type": "stream",
     "text": [
      "Batch count: 16000, Loss: 8.31360971069336\n"
     ]
    },
    {
     "name": "stderr",
     "output_type": "stream",
     "text": [
      " 11%|█         | 13970/127878 [05:39<47:46, 39.74it/s]"
     ]
    },
    {
     "name": "stdout",
     "output_type": "stream",
     "text": [
      "Batch count: 17000, Loss: 8.31308525276184\n"
     ]
    },
    {
     "name": "stderr",
     "output_type": "stream",
     "text": [
      " 12%|█▏        | 14783/127878 [05:58<44:58, 41.90it/s]"
     ]
    },
    {
     "name": "stdout",
     "output_type": "stream",
     "text": [
      "Batch count: 18000, Loss: 8.344189586162567\n"
     ]
    },
    {
     "name": "stderr",
     "output_type": "stream",
     "text": [
      " 12%|█▏        | 15615/127878 [06:18<40:46, 45.88it/s]"
     ]
    },
    {
     "name": "stdout",
     "output_type": "stream",
     "text": [
      "Batch count: 19000, Loss: 8.308217485427857\n"
     ]
    },
    {
     "name": "stderr",
     "output_type": "stream",
     "text": [
      " 13%|█▎        | 16423/127878 [06:38<49:20, 37.65it/s]"
     ]
    },
    {
     "name": "stdout",
     "output_type": "stream",
     "text": [
      "Batch count: 20000, Loss: 8.358523124217987\n"
     ]
    },
    {
     "name": "stderr",
     "output_type": "stream",
     "text": [
      " 13%|█▎        | 17253/127878 [06:58<41:17, 44.64it/s]"
     ]
    },
    {
     "name": "stdout",
     "output_type": "stream",
     "text": [
      "Batch count: 21000, Loss: 8.309467099189758\n"
     ]
    },
    {
     "name": "stderr",
     "output_type": "stream",
     "text": [
      " 14%|█▍        | 18085/127878 [07:18<41:10, 44.45it/s]"
     ]
    },
    {
     "name": "stdout",
     "output_type": "stream",
     "text": [
      "Batch count: 22000, Loss: 8.30864425945282\n"
     ]
    },
    {
     "name": "stderr",
     "output_type": "stream",
     "text": [
      " 15%|█▍        | 18901/127878 [07:38<41:47, 43.47it/s]"
     ]
    },
    {
     "name": "stdout",
     "output_type": "stream",
     "text": [
      "Batch count: 23000, Loss: 8.339685262203217\n"
     ]
    },
    {
     "name": "stderr",
     "output_type": "stream",
     "text": [
      " 15%|█▌        | 19732/127878 [07:58<44:36, 40.40it/s]"
     ]
    },
    {
     "name": "stdout",
     "output_type": "stream",
     "text": [
      "Batch count: 24000, Loss: 8.2913611035347\n"
     ]
    },
    {
     "name": "stderr",
     "output_type": "stream",
     "text": [
      " 16%|█▌        | 20548/127878 [08:18<41:01, 43.60it/s]"
     ]
    },
    {
     "name": "stdout",
     "output_type": "stream",
     "text": [
      "Batch count: 25000, Loss: 8.343770939350128\n"
     ]
    },
    {
     "name": "stderr",
     "output_type": "stream",
     "text": [
      " 17%|█▋        | 21358/127878 [08:37<43:55, 40.42it/s]"
     ]
    },
    {
     "name": "stdout",
     "output_type": "stream",
     "text": [
      "Batch count: 26000, Loss: 8.333169259548187\n"
     ]
    },
    {
     "name": "stderr",
     "output_type": "stream",
     "text": [
      " 17%|█▋        | 22179/127878 [08:57<39:59, 44.05it/s]"
     ]
    },
    {
     "name": "stdout",
     "output_type": "stream",
     "text": [
      "Batch count: 27000, Loss: 8.332027610778809\n"
     ]
    },
    {
     "name": "stderr",
     "output_type": "stream",
     "text": [
      " 18%|█▊        | 22985/127878 [09:17<48:16, 36.21it/s]"
     ]
    },
    {
     "name": "stdout",
     "output_type": "stream",
     "text": [
      "Batch count: 28000, Loss: 8.312793951034546\n"
     ]
    },
    {
     "name": "stderr",
     "output_type": "stream",
     "text": [
      " 19%|█▊        | 23808/127878 [09:37<44:55, 38.61it/s]"
     ]
    },
    {
     "name": "stdout",
     "output_type": "stream",
     "text": [
      "Batch count: 29000, Loss: 8.328426283836365\n"
     ]
    },
    {
     "name": "stderr",
     "output_type": "stream",
     "text": [
      " 19%|█▉        | 24618/127878 [09:56<39:32, 43.52it/s]"
     ]
    },
    {
     "name": "stdout",
     "output_type": "stream",
     "text": [
      "Batch count: 30000, Loss: 8.268848031520843\n"
     ]
    },
    {
     "name": "stderr",
     "output_type": "stream",
     "text": [
      " 20%|█▉        | 25459/127878 [10:16<38:05, 44.82it/s]"
     ]
    },
    {
     "name": "stdout",
     "output_type": "stream",
     "text": [
      "Batch count: 31000, Loss: 8.33653890132904\n"
     ]
    },
    {
     "name": "stderr",
     "output_type": "stream",
     "text": [
      " 21%|██        | 26282/127878 [10:36<41:19, 40.97it/s]"
     ]
    },
    {
     "name": "stdout",
     "output_type": "stream",
     "text": [
      "Batch count: 32000, Loss: 8.306921896457672\n"
     ]
    },
    {
     "name": "stderr",
     "output_type": "stream",
     "text": [
      " 21%|██        | 27109/127878 [10:56<41:51, 40.12it/s]"
     ]
    },
    {
     "name": "stdout",
     "output_type": "stream",
     "text": [
      "Batch count: 33000, Loss: 8.313149639606475\n"
     ]
    },
    {
     "name": "stderr",
     "output_type": "stream",
     "text": [
      " 22%|██▏       | 27924/127878 [11:16<40:57, 40.68it/s]"
     ]
    },
    {
     "name": "stdout",
     "output_type": "stream",
     "text": [
      "Batch count: 34000, Loss: 8.314898669719696\n"
     ]
    },
    {
     "name": "stderr",
     "output_type": "stream",
     "text": [
      " 22%|██▏       | 28750/127878 [11:36<39:57, 41.35it/s]"
     ]
    },
    {
     "name": "stdout",
     "output_type": "stream",
     "text": [
      "Batch count: 35000, Loss: 8.274409616470336\n"
     ]
    },
    {
     "name": "stderr",
     "output_type": "stream",
     "text": [
      " 23%|██▎       | 29587/127878 [11:58<37:40, 43.48it/s]"
     ]
    },
    {
     "name": "stdout",
     "output_type": "stream",
     "text": [
      "Batch count: 36000, Loss: 8.31007919216156\n"
     ]
    },
    {
     "name": "stderr",
     "output_type": "stream",
     "text": [
      " 24%|██▍       | 30423/127878 [12:19<43:45, 37.12it/s]"
     ]
    },
    {
     "name": "stdout",
     "output_type": "stream",
     "text": [
      "Batch count: 37000, Loss: 8.308738711833954\n"
     ]
    },
    {
     "name": "stderr",
     "output_type": "stream",
     "text": [
      " 24%|██▍       | 31260/127878 [12:39<37:01, 43.50it/s]"
     ]
    },
    {
     "name": "stdout",
     "output_type": "stream",
     "text": [
      "Batch count: 38000, Loss: 8.247104955673217\n"
     ]
    },
    {
     "name": "stderr",
     "output_type": "stream",
     "text": [
      " 25%|██▌       | 32069/127878 [12:59<39:08, 40.80it/s]"
     ]
    },
    {
     "name": "stdout",
     "output_type": "stream",
     "text": [
      "Batch count: 39000, Loss: 8.287648115158081\n"
     ]
    },
    {
     "name": "stderr",
     "output_type": "stream",
     "text": [
      " 26%|██▌       | 32883/127878 [13:19<41:12, 38.42it/s]"
     ]
    },
    {
     "name": "stdout",
     "output_type": "stream",
     "text": [
      "Batch count: 40000, Loss: 8.27977305316925\n"
     ]
    },
    {
     "name": "stderr",
     "output_type": "stream",
     "text": [
      " 26%|██▋       | 33687/127878 [13:39<35:05, 44.73it/s]"
     ]
    },
    {
     "name": "stdout",
     "output_type": "stream",
     "text": [
      "Batch count: 41000, Loss: 8.325497722625732\n"
     ]
    },
    {
     "name": "stderr",
     "output_type": "stream",
     "text": [
      " 27%|██▋       | 34500/127878 [13:59<46:19, 33.59it/s]"
     ]
    },
    {
     "name": "stdout",
     "output_type": "stream",
     "text": [
      "Batch count: 42000, Loss: 8.321574800014496\n"
     ]
    },
    {
     "name": "stderr",
     "output_type": "stream",
     "text": [
      " 28%|██▊       | 35319/127878 [14:19<38:53, 39.66it/s]"
     ]
    },
    {
     "name": "stdout",
     "output_type": "stream",
     "text": [
      "Batch count: 43000, Loss: 8.325917023181916\n"
     ]
    },
    {
     "name": "stderr",
     "output_type": "stream",
     "text": [
      " 28%|██▊       | 36143/127878 [14:39<39:14, 38.96it/s]"
     ]
    },
    {
     "name": "stdout",
     "output_type": "stream",
     "text": [
      "Batch count: 44000, Loss: 8.29976950931549\n"
     ]
    },
    {
     "name": "stderr",
     "output_type": "stream",
     "text": [
      " 29%|██▉       | 36981/127878 [14:59<33:11, 45.65it/s]"
     ]
    },
    {
     "name": "stdout",
     "output_type": "stream",
     "text": [
      "Batch count: 45000, Loss: 8.257938530445099\n"
     ]
    },
    {
     "name": "stderr",
     "output_type": "stream",
     "text": [
      " 30%|██▉       | 37795/127878 [15:19<35:37, 42.13it/s]"
     ]
    },
    {
     "name": "stdout",
     "output_type": "stream",
     "text": [
      "Batch count: 46000, Loss: 8.288210005760194\n"
     ]
    },
    {
     "name": "stderr",
     "output_type": "stream",
     "text": [
      " 30%|███       | 38616/127878 [15:39<33:04, 44.98it/s]"
     ]
    },
    {
     "name": "stdout",
     "output_type": "stream",
     "text": [
      "Batch count: 47000, Loss: 8.292793155670166\n"
     ]
    },
    {
     "name": "stderr",
     "output_type": "stream",
     "text": [
      " 31%|███       | 39441/127878 [15:59<35:42, 41.28it/s]"
     ]
    },
    {
     "name": "stdout",
     "output_type": "stream",
     "text": [
      "Batch count: 48000, Loss: 8.304290563583374\n"
     ]
    },
    {
     "name": "stderr",
     "output_type": "stream",
     "text": [
      " 31%|███▏      | 40256/127878 [16:19<34:31, 42.29it/s]"
     ]
    },
    {
     "name": "stdout",
     "output_type": "stream",
     "text": [
      "Batch count: 49000, Loss: 8.27717405319214\n"
     ]
    },
    {
     "name": "stderr",
     "output_type": "stream",
     "text": [
      " 32%|███▏      | 41082/127878 [16:39<33:56, 42.62it/s]"
     ]
    },
    {
     "name": "stdout",
     "output_type": "stream",
     "text": [
      "Batch count: 50000, Loss: 8.260973471164704\n"
     ]
    },
    {
     "name": "stderr",
     "output_type": "stream",
     "text": [
      " 33%|███▎      | 41906/127878 [16:59<35:09, 40.76it/s]"
     ]
    },
    {
     "name": "stdout",
     "output_type": "stream",
     "text": [
      "Batch count: 51000, Loss: 8.223121758460998\n"
     ]
    },
    {
     "name": "stderr",
     "output_type": "stream",
     "text": [
      " 33%|███▎      | 42746/127878 [17:19<28:58, 48.97it/s]"
     ]
    },
    {
     "name": "stdout",
     "output_type": "stream",
     "text": [
      "Batch count: 52000, Loss: 8.212228039741516\n"
     ]
    },
    {
     "name": "stderr",
     "output_type": "stream",
     "text": [
      " 34%|███▍      | 43573/127878 [17:39<33:49, 41.54it/s]"
     ]
    },
    {
     "name": "stdout",
     "output_type": "stream",
     "text": [
      "Batch count: 53000, Loss: 8.104506171703338\n"
     ]
    },
    {
     "name": "stderr",
     "output_type": "stream",
     "text": [
      " 35%|███▍      | 44387/127878 [17:59<32:11, 43.22it/s]"
     ]
    },
    {
     "name": "stdout",
     "output_type": "stream",
     "text": [
      "Batch count: 54000, Loss: 8.092187079429626\n"
     ]
    },
    {
     "name": "stderr",
     "output_type": "stream",
     "text": [
      " 35%|███▌      | 45216/127878 [18:19<33:50, 40.71it/s]"
     ]
    },
    {
     "name": "stdout",
     "output_type": "stream",
     "text": [
      "Batch count: 55000, Loss: 8.057109297275543\n"
     ]
    },
    {
     "name": "stderr",
     "output_type": "stream",
     "text": [
      " 36%|███▌      | 46036/127878 [18:39<34:54, 39.08it/s]"
     ]
    },
    {
     "name": "stdout",
     "output_type": "stream",
     "text": [
      "Batch count: 56000, Loss: 8.05039789390564\n"
     ]
    },
    {
     "name": "stderr",
     "output_type": "stream",
     "text": [
      " 37%|███▋      | 46851/127878 [18:58<33:42, 40.07it/s]"
     ]
    },
    {
     "name": "stdout",
     "output_type": "stream",
     "text": [
      "Batch count: 57000, Loss: 8.051945546150208\n"
     ]
    },
    {
     "name": "stderr",
     "output_type": "stream",
     "text": [
      " 37%|███▋      | 47676/127878 [19:19<33:00, 40.50it/s]"
     ]
    },
    {
     "name": "stdout",
     "output_type": "stream",
     "text": [
      "Batch count: 58000, Loss: 8.019685822963714\n"
     ]
    },
    {
     "name": "stderr",
     "output_type": "stream",
     "text": [
      " 38%|███▊      | 48494/127878 [19:39<32:41, 40.47it/s]"
     ]
    },
    {
     "name": "stdout",
     "output_type": "stream",
     "text": [
      "Batch count: 59000, Loss: 8.0277708568573\n"
     ]
    },
    {
     "name": "stderr",
     "output_type": "stream",
     "text": [
      " 39%|███▊      | 49330/127878 [19:59<32:14, 40.61it/s]"
     ]
    },
    {
     "name": "stdout",
     "output_type": "stream",
     "text": [
      "Batch count: 60000, Loss: 7.97385453414917\n"
     ]
    },
    {
     "name": "stderr",
     "output_type": "stream",
     "text": [
      " 39%|███▉      | 50147/127878 [20:19<32:18, 40.09it/s]"
     ]
    },
    {
     "name": "stdout",
     "output_type": "stream",
     "text": [
      "Batch count: 61000, Loss: 7.9583660702705386\n"
     ]
    },
    {
     "name": "stderr",
     "output_type": "stream",
     "text": [
      " 40%|███▉      | 50961/127878 [20:39<32:31, 39.41it/s]"
     ]
    },
    {
     "name": "stdout",
     "output_type": "stream",
     "text": [
      "Batch count: 62000, Loss: 7.946812460899353\n"
     ]
    },
    {
     "name": "stderr",
     "output_type": "stream",
     "text": [
      " 40%|████      | 51784/127878 [20:59<30:44, 41.26it/s]"
     ]
    },
    {
     "name": "stdout",
     "output_type": "stream",
     "text": [
      "Batch count: 63000, Loss: 7.9129036269187925\n"
     ]
    },
    {
     "name": "stderr",
     "output_type": "stream",
     "text": [
      " 41%|████      | 52610/127878 [21:19<27:06, 46.29it/s]"
     ]
    },
    {
     "name": "stdout",
     "output_type": "stream",
     "text": [
      "Batch count: 64000, Loss: 7.894611022472382\n"
     ]
    },
    {
     "name": "stderr",
     "output_type": "stream",
     "text": [
      " 42%|████▏     | 53435/127878 [21:39<30:37, 40.51it/s]"
     ]
    },
    {
     "name": "stdout",
     "output_type": "stream",
     "text": [
      "Batch count: 65000, Loss: 7.913909188270569\n"
     ]
    },
    {
     "name": "stderr",
     "output_type": "stream",
     "text": [
      " 42%|████▏     | 54255/127878 [21:59<28:42, 42.74it/s]"
     ]
    },
    {
     "name": "stdout",
     "output_type": "stream",
     "text": [
      "Batch count: 66000, Loss: 8.001649081707\n"
     ]
    },
    {
     "name": "stderr",
     "output_type": "stream",
     "text": [
      " 43%|████▎     | 55092/127878 [22:19<28:23, 42.72it/s]"
     ]
    },
    {
     "name": "stdout",
     "output_type": "stream",
     "text": [
      "Batch count: 67000, Loss: 7.882757276058197\n"
     ]
    },
    {
     "name": "stderr",
     "output_type": "stream",
     "text": [
      " 44%|████▎     | 55910/127878 [22:39<26:17, 45.63it/s]"
     ]
    },
    {
     "name": "stdout",
     "output_type": "stream",
     "text": [
      "Batch count: 68000, Loss: 7.93367098236084\n"
     ]
    },
    {
     "name": "stderr",
     "output_type": "stream",
     "text": [
      " 44%|████▍     | 56729/127878 [22:59<29:42, 39.92it/s]"
     ]
    },
    {
     "name": "stdout",
     "output_type": "stream",
     "text": [
      "Batch count: 69000, Loss: 7.948350918769837\n"
     ]
    },
    {
     "name": "stderr",
     "output_type": "stream",
     "text": [
      " 45%|████▍     | 57542/127878 [23:19<29:27, 39.80it/s]"
     ]
    },
    {
     "name": "stdout",
     "output_type": "stream",
     "text": [
      "Batch count: 70000, Loss: 7.922440783023834\n"
     ]
    },
    {
     "name": "stderr",
     "output_type": "stream",
     "text": [
      " 46%|████▌     | 58357/127878 [23:39<29:22, 39.44it/s]"
     ]
    },
    {
     "name": "stdout",
     "output_type": "stream",
     "text": [
      "Batch count: 71000, Loss: 7.943307227611542\n"
     ]
    },
    {
     "name": "stderr",
     "output_type": "stream",
     "text": [
      " 46%|████▋     | 59182/127878 [23:59<30:38, 37.36it/s]"
     ]
    },
    {
     "name": "stdout",
     "output_type": "stream",
     "text": [
      "Batch count: 72000, Loss: 7.979173559188843\n"
     ]
    },
    {
     "name": "stderr",
     "output_type": "stream",
     "text": [
      " 47%|████▋     | 59997/127878 [24:18<26:22, 42.89it/s]"
     ]
    },
    {
     "name": "stdout",
     "output_type": "stream",
     "text": [
      "Batch count: 73000, Loss: 7.947894207477569\n"
     ]
    },
    {
     "name": "stderr",
     "output_type": "stream",
     "text": [
      " 48%|████▊     | 60810/127878 [24:38<26:06, 42.81it/s]"
     ]
    },
    {
     "name": "stdout",
     "output_type": "stream",
     "text": [
      "Batch count: 74000, Loss: 7.967517481327057\n"
     ]
    },
    {
     "name": "stderr",
     "output_type": "stream",
     "text": [
      " 48%|████▊     | 61623/127878 [24:58<24:24, 45.23it/s]"
     ]
    },
    {
     "name": "stdout",
     "output_type": "stream",
     "text": [
      "Batch count: 75000, Loss: 7.9296419734954835\n"
     ]
    },
    {
     "name": "stderr",
     "output_type": "stream",
     "text": [
      " 49%|████▉     | 62430/127878 [25:18<26:37, 40.98it/s]"
     ]
    },
    {
     "name": "stdout",
     "output_type": "stream",
     "text": [
      "Batch count: 76000, Loss: 7.889795966625214\n"
     ]
    },
    {
     "name": "stderr",
     "output_type": "stream",
     "text": [
      " 49%|████▉     | 63249/127878 [25:38<28:06, 38.32it/s]"
     ]
    },
    {
     "name": "stdout",
     "output_type": "stream",
     "text": [
      "Batch count: 77000, Loss: 7.9092796311378475\n"
     ]
    },
    {
     "name": "stderr",
     "output_type": "stream",
     "text": [
      " 50%|█████     | 64062/127878 [25:58<28:35, 37.19it/s]"
     ]
    },
    {
     "name": "stdout",
     "output_type": "stream",
     "text": [
      "Batch count: 78000, Loss: 7.873638714313507\n"
     ]
    },
    {
     "name": "stderr",
     "output_type": "stream",
     "text": [
      " 51%|█████     | 64872/127878 [26:17<30:22, 34.58it/s]"
     ]
    },
    {
     "name": "stdout",
     "output_type": "stream",
     "text": [
      "Batch count: 79000, Loss: 7.89118115901947\n"
     ]
    },
    {
     "name": "stderr",
     "output_type": "stream",
     "text": [
      " 51%|█████▏    | 65695/127878 [26:37<24:49, 41.75it/s]"
     ]
    },
    {
     "name": "stdout",
     "output_type": "stream",
     "text": [
      "Batch count: 80000, Loss: 7.845756403446197\n"
     ]
    },
    {
     "name": "stderr",
     "output_type": "stream",
     "text": [
      " 52%|█████▏    | 66512/127878 [26:57<24:52, 41.11it/s]"
     ]
    },
    {
     "name": "stdout",
     "output_type": "stream",
     "text": [
      "Batch count: 81000, Loss: 7.894072244644165\n"
     ]
    },
    {
     "name": "stderr",
     "output_type": "stream",
     "text": [
      " 53%|█████▎    | 67328/127878 [27:17<25:32, 39.52it/s]"
     ]
    },
    {
     "name": "stdout",
     "output_type": "stream",
     "text": [
      "Batch count: 82000, Loss: 7.825056511878968\n"
     ]
    },
    {
     "name": "stderr",
     "output_type": "stream",
     "text": [
      " 53%|█████▎    | 68159/127878 [27:37<24:05, 41.32it/s]"
     ]
    },
    {
     "name": "stdout",
     "output_type": "stream",
     "text": [
      "Batch count: 83000, Loss: 7.860862115859986\n"
     ]
    },
    {
     "name": "stderr",
     "output_type": "stream",
     "text": [
      " 54%|█████▍    | 68976/127878 [27:57<24:27, 40.14it/s]"
     ]
    },
    {
     "name": "stdout",
     "output_type": "stream",
     "text": [
      "Batch count: 84000, Loss: 7.840577811717987\n"
     ]
    },
    {
     "name": "stderr",
     "output_type": "stream",
     "text": [
      " 55%|█████▍    | 69787/127878 [28:17<23:01, 42.06it/s]"
     ]
    },
    {
     "name": "stdout",
     "output_type": "stream",
     "text": [
      "Batch count: 85000, Loss: 7.890321434497833\n"
     ]
    },
    {
     "name": "stderr",
     "output_type": "stream",
     "text": [
      " 55%|█████▌    | 70588/127878 [28:36<22:49, 41.85it/s]"
     ]
    },
    {
     "name": "stdout",
     "output_type": "stream",
     "text": [
      "Batch count: 86000, Loss: 7.862457806587219\n"
     ]
    },
    {
     "name": "stderr",
     "output_type": "stream",
     "text": [
      " 56%|█████▌    | 71416/127878 [28:56<20:30, 45.89it/s]"
     ]
    },
    {
     "name": "stdout",
     "output_type": "stream",
     "text": [
      "Batch count: 87000, Loss: 7.78355550479889\n"
     ]
    },
    {
     "name": "stderr",
     "output_type": "stream",
     "text": [
      " 56%|█████▋    | 72248/127878 [29:16<21:53, 42.35it/s]"
     ]
    },
    {
     "name": "stdout",
     "output_type": "stream",
     "text": [
      "Batch count: 88000, Loss: 7.835550106525421\n"
     ]
    },
    {
     "name": "stderr",
     "output_type": "stream",
     "text": [
      " 57%|█████▋    | 73059/127878 [29:36<25:31, 35.78it/s]"
     ]
    },
    {
     "name": "stdout",
     "output_type": "stream",
     "text": [
      "Batch count: 89000, Loss: 7.81640203332901\n"
     ]
    },
    {
     "name": "stderr",
     "output_type": "stream",
     "text": [
      " 58%|█████▊    | 73874/127878 [29:56<22:43, 39.60it/s]"
     ]
    },
    {
     "name": "stdout",
     "output_type": "stream",
     "text": [
      "Batch count: 90000, Loss: 7.801679593086242\n"
     ]
    },
    {
     "name": "stderr",
     "output_type": "stream",
     "text": [
      " 58%|█████▊    | 74691/127878 [30:16<26:29, 33.47it/s]"
     ]
    },
    {
     "name": "stdout",
     "output_type": "stream",
     "text": [
      "Batch count: 91000, Loss: 7.7720775270462035\n"
     ]
    },
    {
     "name": "stderr",
     "output_type": "stream",
     "text": [
      " 59%|█████▉    | 75505/127878 [30:39<24:13, 36.03it/s]"
     ]
    },
    {
     "name": "stdout",
     "output_type": "stream",
     "text": [
      "Batch count: 92000, Loss: 7.767067091941834\n"
     ]
    },
    {
     "name": "stderr",
     "output_type": "stream",
     "text": [
      " 60%|█████▉    | 76322/127878 [31:01<24:39, 34.85it/s]"
     ]
    },
    {
     "name": "stdout",
     "output_type": "stream",
     "text": [
      "Batch count: 93000, Loss: 7.802473966121673\n"
     ]
    },
    {
     "name": "stderr",
     "output_type": "stream",
     "text": [
      " 60%|██████    | 77123/127878 [31:23<25:03, 33.76it/s]"
     ]
    },
    {
     "name": "stdout",
     "output_type": "stream",
     "text": [
      "Batch count: 94000, Loss: 7.744635488510132\n"
     ]
    },
    {
     "name": "stderr",
     "output_type": "stream",
     "text": [
      " 61%|██████    | 77937/127878 [31:45<19:50, 41.94it/s]"
     ]
    },
    {
     "name": "stdout",
     "output_type": "stream",
     "text": [
      "Batch count: 95000, Loss: 7.763441324710846\n"
     ]
    },
    {
     "name": "stderr",
     "output_type": "stream",
     "text": [
      " 62%|██████▏   | 78756/127878 [32:07<19:39, 41.66it/s]"
     ]
    },
    {
     "name": "stdout",
     "output_type": "stream",
     "text": [
      "Batch count: 96000, Loss: 7.729423477649688\n"
     ]
    },
    {
     "name": "stderr",
     "output_type": "stream",
     "text": [
      " 62%|██████▏   | 79571/127878 [32:28<24:58, 32.23it/s]"
     ]
    },
    {
     "name": "stdout",
     "output_type": "stream",
     "text": [
      "Batch count: 97000, Loss: 7.73429723739624\n"
     ]
    },
    {
     "name": "stderr",
     "output_type": "stream",
     "text": [
      " 63%|██████▎   | 80384/127878 [32:49<18:25, 42.98it/s]"
     ]
    },
    {
     "name": "stdout",
     "output_type": "stream",
     "text": [
      "Batch count: 98000, Loss: 7.691486094474793\n"
     ]
    },
    {
     "name": "stderr",
     "output_type": "stream",
     "text": [
      " 64%|██████▎   | 81205/127878 [33:08<18:42, 41.57it/s]"
     ]
    },
    {
     "name": "stdout",
     "output_type": "stream",
     "text": [
      "Batch count: 99000, Loss: 7.666842507362365\n"
     ]
    },
    {
     "name": "stderr",
     "output_type": "stream",
     "text": [
      " 64%|██████▍   | 82014/127878 [33:27<18:42, 40.86it/s]"
     ]
    },
    {
     "name": "stdout",
     "output_type": "stream",
     "text": [
      "Batch count: 100000, Loss: 7.630569487571717\n"
     ]
    },
    {
     "name": "stderr",
     "output_type": "stream",
     "text": [
      " 65%|██████▍   | 82834/127878 [33:46<19:38, 38.23it/s]"
     ]
    },
    {
     "name": "stdout",
     "output_type": "stream",
     "text": [
      "Batch count: 101000, Loss: 7.6297662010192875\n"
     ]
    },
    {
     "name": "stderr",
     "output_type": "stream",
     "text": [
      " 65%|██████▌   | 83654/127878 [34:07<20:47, 35.46it/s]"
     ]
    },
    {
     "name": "stdout",
     "output_type": "stream",
     "text": [
      "Batch count: 102000, Loss: 7.656648766517639\n"
     ]
    },
    {
     "name": "stderr",
     "output_type": "stream",
     "text": [
      " 66%|██████▌   | 84452/127878 [34:27<17:35, 41.13it/s]"
     ]
    },
    {
     "name": "stdout",
     "output_type": "stream",
     "text": [
      "Batch count: 103000, Loss: 7.624781419277191\n"
     ]
    },
    {
     "name": "stderr",
     "output_type": "stream",
     "text": [
      " 67%|██████▋   | 85280/127878 [34:48<18:35, 38.17it/s]"
     ]
    },
    {
     "name": "stdout",
     "output_type": "stream",
     "text": [
      "Batch count: 104000, Loss: 7.60313672208786\n"
     ]
    },
    {
     "name": "stderr",
     "output_type": "stream",
     "text": [
      " 67%|██████▋   | 86089/127878 [35:07<16:50, 41.34it/s]"
     ]
    },
    {
     "name": "stdout",
     "output_type": "stream",
     "text": [
      "Batch count: 105000, Loss: 7.548949065685272\n"
     ]
    },
    {
     "name": "stderr",
     "output_type": "stream",
     "text": [
      " 68%|██████▊   | 86898/127878 [35:27<16:56, 40.33it/s]"
     ]
    },
    {
     "name": "stdout",
     "output_type": "stream",
     "text": [
      "Batch count: 106000, Loss: 7.600362901210785\n"
     ]
    },
    {
     "name": "stderr",
     "output_type": "stream",
     "text": [
      " 69%|██████▊   | 87722/127878 [35:47<17:02, 39.27it/s]"
     ]
    },
    {
     "name": "stdout",
     "output_type": "stream",
     "text": [
      "Batch count: 107000, Loss: 7.611447363853455\n"
     ]
    },
    {
     "name": "stderr",
     "output_type": "stream",
     "text": [
      " 69%|██████▉   | 88546/127878 [36:07<16:15, 40.31it/s]"
     ]
    },
    {
     "name": "stdout",
     "output_type": "stream",
     "text": [
      "Batch count: 108000, Loss: 7.6404671373367306\n"
     ]
    },
    {
     "name": "stderr",
     "output_type": "stream",
     "text": [
      " 70%|██████▉   | 89372/127878 [36:28<15:51, 40.48it/s]"
     ]
    },
    {
     "name": "stdout",
     "output_type": "stream",
     "text": [
      "Batch count: 109000, Loss: 7.648366786956787\n"
     ]
    },
    {
     "name": "stderr",
     "output_type": "stream",
     "text": [
      " 71%|███████   | 90190/127878 [36:49<14:01, 44.77it/s]"
     ]
    },
    {
     "name": "stdout",
     "output_type": "stream",
     "text": [
      "Batch count: 110000, Loss: 7.669308600902557\n"
     ]
    },
    {
     "name": "stderr",
     "output_type": "stream",
     "text": [
      " 71%|███████   | 91011/127878 [37:09<14:54, 41.22it/s]"
     ]
    },
    {
     "name": "stdout",
     "output_type": "stream",
     "text": [
      "Batch count: 111000, Loss: 7.618087711811065\n"
     ]
    },
    {
     "name": "stderr",
     "output_type": "stream",
     "text": [
      " 72%|███████▏  | 91835/127878 [37:30<15:47, 38.05it/s]"
     ]
    },
    {
     "name": "stdout",
     "output_type": "stream",
     "text": [
      "Batch count: 112000, Loss: 7.6135219712257385\n"
     ]
    },
    {
     "name": "stderr",
     "output_type": "stream",
     "text": [
      " 72%|███████▏  | 92656/127878 [37:53<15:30, 37.86it/s]"
     ]
    },
    {
     "name": "stdout",
     "output_type": "stream",
     "text": [
      "Batch count: 113000, Loss: 7.675318208694458\n"
     ]
    },
    {
     "name": "stderr",
     "output_type": "stream",
     "text": [
      " 73%|███████▎  | 93465/127878 [38:15<15:05, 37.99it/s]"
     ]
    },
    {
     "name": "stdout",
     "output_type": "stream",
     "text": [
      "Batch count: 114000, Loss: 7.647805977344513\n"
     ]
    },
    {
     "name": "stderr",
     "output_type": "stream",
     "text": [
      " 74%|███████▎  | 94278/127878 [38:36<13:31, 41.43it/s]"
     ]
    },
    {
     "name": "stdout",
     "output_type": "stream",
     "text": [
      "Batch count: 115000, Loss: 7.603751471996308\n"
     ]
    },
    {
     "name": "stderr",
     "output_type": "stream",
     "text": [
      " 74%|███████▍  | 95086/127878 [38:56<14:16, 38.27it/s]"
     ]
    },
    {
     "name": "stdout",
     "output_type": "stream",
     "text": [
      "Batch count: 116000, Loss: 7.507003006935119\n"
     ]
    },
    {
     "name": "stderr",
     "output_type": "stream",
     "text": [
      " 75%|███████▍  | 95898/127878 [39:17<11:25, 46.65it/s]"
     ]
    },
    {
     "name": "stdout",
     "output_type": "stream",
     "text": [
      "Batch count: 117000, Loss: 7.548966661930084\n"
     ]
    },
    {
     "name": "stderr",
     "output_type": "stream",
     "text": [
      " 76%|███████▌  | 96717/127878 [39:37<12:24, 41.87it/s]"
     ]
    },
    {
     "name": "stdout",
     "output_type": "stream",
     "text": [
      "Batch count: 118000, Loss: 7.585694676399231\n"
     ]
    },
    {
     "name": "stderr",
     "output_type": "stream",
     "text": [
      " 76%|███████▋  | 97546/127878 [39:58<12:37, 40.05it/s]"
     ]
    },
    {
     "name": "stdout",
     "output_type": "stream",
     "text": [
      "Batch count: 119000, Loss: 7.565559983253479\n"
     ]
    },
    {
     "name": "stderr",
     "output_type": "stream",
     "text": [
      " 77%|███████▋  | 98367/127878 [40:19<12:17, 40.01it/s]"
     ]
    },
    {
     "name": "stdout",
     "output_type": "stream",
     "text": [
      "Batch count: 120000, Loss: 7.592675387382507\n"
     ]
    },
    {
     "name": "stderr",
     "output_type": "stream",
     "text": [
      " 78%|███████▊  | 99178/127878 [40:41<13:00, 36.79it/s]"
     ]
    },
    {
     "name": "stdout",
     "output_type": "stream",
     "text": [
      "Batch count: 121000, Loss: 7.642955156803131\n"
     ]
    },
    {
     "name": "stderr",
     "output_type": "stream",
     "text": [
      " 78%|███████▊  | 99990/127878 [41:03<12:42, 36.57it/s]"
     ]
    },
    {
     "name": "stdout",
     "output_type": "stream",
     "text": [
      "Batch count: 122000, Loss: 7.626793248653412\n"
     ]
    },
    {
     "name": "stderr",
     "output_type": "stream",
     "text": [
      " 79%|███████▉  | 100819/127878 [41:24<11:15, 40.07it/s]"
     ]
    },
    {
     "name": "stdout",
     "output_type": "stream",
     "text": [
      "Batch count: 123000, Loss: 7.601232178211212\n"
     ]
    },
    {
     "name": "stderr",
     "output_type": "stream",
     "text": [
      " 79%|███████▉  | 101638/127878 [41:46<11:08, 39.25it/s]"
     ]
    },
    {
     "name": "stdout",
     "output_type": "stream",
     "text": [
      "Batch count: 124000, Loss: 7.5582430610656735\n"
     ]
    },
    {
     "name": "stderr",
     "output_type": "stream",
     "text": [
      " 80%|████████  | 102451/127878 [42:06<10:21, 40.89it/s]"
     ]
    },
    {
     "name": "stdout",
     "output_type": "stream",
     "text": [
      "Batch count: 125000, Loss: 7.540084105491638\n"
     ]
    },
    {
     "name": "stderr",
     "output_type": "stream",
     "text": [
      " 81%|████████  | 103272/127878 [42:27<10:19, 39.70it/s]"
     ]
    },
    {
     "name": "stdout",
     "output_type": "stream",
     "text": [
      "Batch count: 126000, Loss: 7.490011162281037\n"
     ]
    },
    {
     "name": "stderr",
     "output_type": "stream",
     "text": [
      " 81%|████████▏ | 104095/127878 [42:47<09:01, 43.93it/s]"
     ]
    },
    {
     "name": "stdout",
     "output_type": "stream",
     "text": [
      "Batch count: 127000, Loss: 7.376755432605743\n"
     ]
    },
    {
     "name": "stderr",
     "output_type": "stream",
     "text": [
      " 82%|████████▏ | 104906/127878 [43:07<08:28, 45.16it/s]"
     ]
    },
    {
     "name": "stdout",
     "output_type": "stream",
     "text": [
      "Batch count: 128000, Loss: 7.316982284069061\n"
     ]
    },
    {
     "name": "stderr",
     "output_type": "stream",
     "text": [
      " 83%|████████▎ | 105728/127878 [43:27<08:59, 41.05it/s]"
     ]
    },
    {
     "name": "stdout",
     "output_type": "stream",
     "text": [
      "Batch count: 129000, Loss: 7.267088907718659\n"
     ]
    },
    {
     "name": "stderr",
     "output_type": "stream",
     "text": [
      " 83%|████████▎ | 106549/127878 [43:47<08:14, 43.13it/s]"
     ]
    },
    {
     "name": "stdout",
     "output_type": "stream",
     "text": [
      "Batch count: 130000, Loss: 7.240211550712585\n"
     ]
    },
    {
     "name": "stderr",
     "output_type": "stream",
     "text": [
      " 84%|████████▍ | 107361/127878 [44:07<08:06, 42.17it/s]"
     ]
    },
    {
     "name": "stdout",
     "output_type": "stream",
     "text": [
      "Batch count: 131000, Loss: 7.229365212440491\n"
     ]
    },
    {
     "name": "stderr",
     "output_type": "stream",
     "text": [
      " 85%|████████▍ | 108170/127878 [44:27<08:37, 38.05it/s]"
     ]
    },
    {
     "name": "stdout",
     "output_type": "stream",
     "text": [
      "Batch count: 132000, Loss: 7.1375368475914005\n"
     ]
    },
    {
     "name": "stderr",
     "output_type": "stream",
     "text": [
      " 85%|████████▌ | 108980/127878 [44:48<07:07, 44.20it/s]"
     ]
    },
    {
     "name": "stdout",
     "output_type": "stream",
     "text": [
      "Batch count: 133000, Loss: 7.1184019947052\n"
     ]
    },
    {
     "name": "stderr",
     "output_type": "stream",
     "text": [
      " 86%|████████▌ | 109793/127878 [45:08<07:19, 41.18it/s]"
     ]
    },
    {
     "name": "stdout",
     "output_type": "stream",
     "text": [
      "Batch count: 134000, Loss: 7.1785189876556394\n"
     ]
    },
    {
     "name": "stderr",
     "output_type": "stream",
     "text": [
      " 86%|████████▋ | 110610/127878 [45:28<06:41, 43.00it/s]"
     ]
    },
    {
     "name": "stdout",
     "output_type": "stream",
     "text": [
      "Batch count: 135000, Loss: 7.334460422515869\n"
     ]
    },
    {
     "name": "stderr",
     "output_type": "stream",
     "text": [
      " 87%|████████▋ | 111432/127878 [45:48<06:41, 40.92it/s]"
     ]
    },
    {
     "name": "stdout",
     "output_type": "stream",
     "text": [
      "Batch count: 136000, Loss: 7.454164708614349\n"
     ]
    },
    {
     "name": "stderr",
     "output_type": "stream",
     "text": [
      " 88%|████████▊ | 112247/127878 [46:08<06:28, 40.27it/s]"
     ]
    },
    {
     "name": "stdout",
     "output_type": "stream",
     "text": [
      "Batch count: 137000, Loss: 7.413838293075561\n"
     ]
    },
    {
     "name": "stderr",
     "output_type": "stream",
     "text": [
      " 88%|████████▊ | 113046/127878 [46:28<05:32, 44.61it/s]"
     ]
    },
    {
     "name": "stdout",
     "output_type": "stream",
     "text": [
      "Batch count: 138000, Loss: 7.403026308059692\n"
     ]
    },
    {
     "name": "stderr",
     "output_type": "stream",
     "text": [
      " 89%|████████▉ | 113867/127878 [46:48<05:39, 41.30it/s]"
     ]
    },
    {
     "name": "stdout",
     "output_type": "stream",
     "text": [
      "Batch count: 139000, Loss: 7.41693559885025\n"
     ]
    },
    {
     "name": "stderr",
     "output_type": "stream",
     "text": [
      " 90%|████████▉ | 114686/127878 [47:08<05:21, 41.05it/s]"
     ]
    },
    {
     "name": "stdout",
     "output_type": "stream",
     "text": [
      "Batch count: 140000, Loss: 7.360462215423584\n"
     ]
    },
    {
     "name": "stderr",
     "output_type": "stream",
     "text": [
      " 90%|█████████ | 115514/127878 [47:28<04:39, 44.28it/s]"
     ]
    },
    {
     "name": "stdout",
     "output_type": "stream",
     "text": [
      "Batch count: 141000, Loss: 7.397964567661285\n"
     ]
    },
    {
     "name": "stderr",
     "output_type": "stream",
     "text": [
      " 91%|█████████ | 116325/127878 [47:48<04:24, 43.60it/s]"
     ]
    },
    {
     "name": "stdout",
     "output_type": "stream",
     "text": [
      "Batch count: 142000, Loss: 7.3605458788871765\n"
     ]
    },
    {
     "name": "stderr",
     "output_type": "stream",
     "text": [
      " 92%|█████████▏| 117152/127878 [48:09<04:05, 43.75it/s]"
     ]
    },
    {
     "name": "stdout",
     "output_type": "stream",
     "text": [
      "Batch count: 143000, Loss: 7.354116384983063\n"
     ]
    },
    {
     "name": "stderr",
     "output_type": "stream",
     "text": [
      " 92%|█████████▏| 117977/127878 [48:29<03:31, 46.71it/s]"
     ]
    },
    {
     "name": "stdout",
     "output_type": "stream",
     "text": [
      "Batch count: 144000, Loss: 7.3807009272575375\n"
     ]
    },
    {
     "name": "stderr",
     "output_type": "stream",
     "text": [
      " 93%|█████████▎| 118806/127878 [48:49<03:58, 38.03it/s]"
     ]
    },
    {
     "name": "stdout",
     "output_type": "stream",
     "text": [
      "Batch count: 145000, Loss: 7.366943486690522\n"
     ]
    },
    {
     "name": "stderr",
     "output_type": "stream",
     "text": [
      " 94%|█████████▎| 119637/127878 [49:09<03:15, 42.19it/s]"
     ]
    },
    {
     "name": "stdout",
     "output_type": "stream",
     "text": [
      "Batch count: 146000, Loss: 7.400434158325195\n"
     ]
    },
    {
     "name": "stderr",
     "output_type": "stream",
     "text": [
      " 94%|█████████▍| 120441/127878 [49:29<02:59, 41.37it/s]"
     ]
    },
    {
     "name": "stdout",
     "output_type": "stream",
     "text": [
      "Batch count: 147000, Loss: 7.3644195728302\n"
     ]
    },
    {
     "name": "stderr",
     "output_type": "stream",
     "text": [
      " 95%|█████████▍| 121274/127878 [49:49<02:19, 47.34it/s]"
     ]
    },
    {
     "name": "stdout",
     "output_type": "stream",
     "text": [
      "Batch count: 148000, Loss: 7.390298079013824\n"
     ]
    },
    {
     "name": "stderr",
     "output_type": "stream",
     "text": [
      " 95%|█████████▌| 122102/127878 [50:09<02:29, 38.63it/s]"
     ]
    },
    {
     "name": "stdout",
     "output_type": "stream",
     "text": [
      "Batch count: 149000, Loss: 7.386906494617462\n"
     ]
    },
    {
     "name": "stderr",
     "output_type": "stream",
     "text": [
      " 96%|█████████▌| 122926/127878 [50:30<02:06, 39.19it/s]"
     ]
    },
    {
     "name": "stdout",
     "output_type": "stream",
     "text": [
      "Batch count: 150000, Loss: 7.370127262592316\n"
     ]
    },
    {
     "name": "stderr",
     "output_type": "stream",
     "text": [
      " 97%|█████████▋| 123743/127878 [50:51<01:45, 39.07it/s]"
     ]
    },
    {
     "name": "stdout",
     "output_type": "stream",
     "text": [
      "Batch count: 151000, Loss: 7.310515854358673\n"
     ]
    },
    {
     "name": "stderr",
     "output_type": "stream",
     "text": [
      " 97%|█████████▋| 124549/127878 [51:11<01:20, 41.17it/s]"
     ]
    },
    {
     "name": "stdout",
     "output_type": "stream",
     "text": [
      "Batch count: 152000, Loss: 7.3834981346130375\n"
     ]
    },
    {
     "name": "stderr",
     "output_type": "stream",
     "text": [
      " 98%|█████████▊| 125363/127878 [51:31<01:09, 36.37it/s]"
     ]
    },
    {
     "name": "stdout",
     "output_type": "stream",
     "text": [
      "Batch count: 153000, Loss: 7.347520541667938\n"
     ]
    },
    {
     "name": "stderr",
     "output_type": "stream",
     "text": [
      " 99%|█████████▊| 126205/127878 [51:52<00:50, 33.04it/s]"
     ]
    },
    {
     "name": "stdout",
     "output_type": "stream",
     "text": [
      "Batch count: 154000, Loss: 7.317286259174347\n"
     ]
    },
    {
     "name": "stderr",
     "output_type": "stream",
     "text": [
      " 99%|█████████▉| 127022/127878 [52:14<00:22, 38.69it/s]"
     ]
    },
    {
     "name": "stdout",
     "output_type": "stream",
     "text": [
      "Batch count: 155000, Loss: 7.370738252162933\n"
     ]
    },
    {
     "name": "stderr",
     "output_type": "stream",
     "text": [
      "100%|█████████▉| 127835/127878 [52:36<00:01, 33.79it/s]"
     ]
    },
    {
     "name": "stdout",
     "output_type": "stream",
     "text": [
      "Batch count: 156000, Loss: 7.3315568156242374\n"
     ]
    },
    {
     "name": "stderr",
     "output_type": "stream",
     "text": [
      "100%|██████████| 127878/127878 [52:37<00:00, 40.50it/s]\n"
     ]
    }
   ],
   "source": [
    "loss_history = []\n",
    "batch_count = 0\n",
    "for batch in dataloader:\n",
    "        # Get the inputs; data is a list of [inputs, labels]\n",
    "        user_ids, items, times, pred_index, true_item_id = batch\n",
    "        pred_times = torch.gather(times, 1, pred_index.unsqueeze(1))\n",
    "        # squeeze the pred_times to remove the extra dim\n",
    "        pred_times = torch.squeeze(pred_times, dim=1)\n",
    "        # Zero the parameter gradients\n",
    "        optimizer.zero_grad()\n",
    "\n",
    "        # convert to device\n",
    "        user_ids = user_ids.to(device)\n",
    "        items = items.to(device)\n",
    "        times = times.to(device)\n",
    "        pred_index = pred_index.to(device)\n",
    "        true_item_id = true_item_id.to(device)\n",
    "        pred_times = pred_times.to(device)\n",
    "        \n",
    "\n",
    "        # Forward pass\n",
    "        outputs = model(items, user_ids, times, pred_times)\n",
    "        relevant_outputs = torch.gather(outputs, 1, pred_index.unsqueeze(1).unsqueeze(2).expand(-1, -1, vocab_size))\n",
    "        \n",
    "        # Squeeze dim 1 for relevant_outputs\n",
    "        relevant_outputs = torch.squeeze(relevant_outputs, dim=1)\n",
    "        # take the argmax index of the relevant_outputs\n",
    "        # prediction_index = torch.argmax(relevant_outputs, dim=1)\n",
    "        # print(f\"Actual item id: {true_item_id}, Predicted item id: {prediction_index}\")\n",
    "        loss = criterion(relevant_outputs, true_item_id)\n",
    "        loss_history.append(loss.item())\n",
    "        # Backward and optimize\n",
    "        loss.backward()\n",
    "        optimizer.step()\n",
    "        batch_count += 1\n",
    "        if batch_count % 1000 == 0:\n",
    "            # print loss average of last 1000 batches\n",
    "            print(f\"Batch count: {batch_count}, Loss: {np.mean(loss_history[-1000:])}\")"
   ]
  },
  {
   "cell_type": "code",
   "execution_count": 34,
   "metadata": {},
   "outputs": [
    {
     "data": {
      "image/png": "[encoded data removed]",
      "text/plain": [
       "<Figure size 640x480 with 1 Axes>"
      ]
     },
     "metadata": {},
     "output_type": "display_data"
    }
   ],
   "source": [
    "# plot a graph of loss on y axis and batch count on x axis\n",
    "import matplotlib.pyplot as plt\n",
    "\n",
    "# compute average each 1000th batch\n",
    "loss_history_np = np.array(loss_history)\n",
    "# remove last 59 elements\n",
    "loss_history_np = loss_history_np[:-59]\n",
    "loss_history_np = np.mean(loss_history_np.reshape(-1, 1000), axis=1)\n",
    "# plot only 1000th batch\n",
    "plt.plot(loss_history_np)\n",
    "plt.xlabel(\"Batch number in 1000's\")\n",
    "plt.ylabel(\"Loss\")\n",
    "plt.show()"
   ]
  },
  {
   "cell_type": "code",
   "execution_count": 35,
   "metadata": {},
   "outputs": [],
   "source": [
    "# Save the model\n",
    "model_file_name = \"NextItemPredTransformer_2.pt\"\n",
    "torch.save(model, model_file_name)\n"
   ]
  },
  {
   "cell_type": "code",
   "execution_count": 87,
   "metadata": {},
   "outputs": [
    {
     "data": {
      "text/html": [
       "<div>\n",
       "<style scoped>\n",
       "    .dataframe tbody tr th:only-of-type {\n",
       "        vertical-align: middle;\n",
       "    }\n",
       "\n",
       "    .dataframe tbody tr th {\n",
       "        vertical-align: top;\n",
       "    }\n",
       "\n",
       "    .dataframe thead th {\n",
       "        text-align: right;\n",
       "    }\n",
       "</style>\n",
       "<table border=\"1\" class=\"dataframe\">\n",
       "  <thead>\n",
       "    <tr style=\"text-align: right;\">\n",
       "      <th></th>\n",
       "      <th>userId</th>\n",
       "      <th>movieId</th>\n",
       "      <th>rating</th>\n",
       "      <th>timestamp</th>\n",
       "    </tr>\n",
       "  </thead>\n",
       "  <tbody>\n",
       "    <tr>\n",
       "      <th>66</th>\n",
       "      <td>4</td>\n",
       "      <td>1422</td>\n",
       "      <td>1</td>\n",
       "      <td>1042674861</td>\n",
       "    </tr>\n",
       "    <tr>\n",
       "      <th>199</th>\n",
       "      <td>7</td>\n",
       "      <td>106489</td>\n",
       "      <td>1</td>\n",
       "      <td>1486253996</td>\n",
       "    </tr>\n",
       "    <tr>\n",
       "      <th>154</th>\n",
       "      <td>7</td>\n",
       "      <td>2858</td>\n",
       "      <td>1</td>\n",
       "      <td>1486254186</td>\n",
       "    </tr>\n",
       "    <tr>\n",
       "      <th>210</th>\n",
       "      <td>8</td>\n",
       "      <td>318</td>\n",
       "      <td>1</td>\n",
       "      <td>1013444101</td>\n",
       "    </tr>\n",
       "    <tr>\n",
       "      <th>215</th>\n",
       "      <td>8</td>\n",
       "      <td>653</td>\n",
       "      <td>1</td>\n",
       "      <td>1013444101</td>\n",
       "    </tr>\n",
       "  </tbody>\n",
       "</table>\n",
       "</div>"
      ],
      "text/plain": [
       "     userId  movieId  rating   timestamp\n",
       "66        4     1422       1  1042674861\n",
       "199       7   106489       1  1486253996\n",
       "154       7     2858       1  1486254186\n",
       "210       8      318       1  1013444101\n",
       "215       8      653       1  1013444101"
      ]
     },
     "execution_count": 87,
     "metadata": {},
     "output_type": "execute_result"
    }
   ],
   "source": [
    "\n",
    "test_ratings_df= pd.read_pickle(r\"lastXRatings.pkl\",  compression= 'gzip')\n",
    "\n",
    "# print the first 5 rows of the dataframe\n",
    "\n",
    "\n",
    "# drop ratings which are 0s\n",
    "\n",
    "test_ratings_df = test_ratings_df[test_ratings_df[\"rating\"] != 0]\n",
    "\n",
    "test_ratings_df.head()"
   ]
  },
  {
   "cell_type": "code",
   "execution_count": 88,
   "metadata": {},
   "outputs": [
    {
     "name": "stdout",
     "output_type": "stream",
     "text": [
      "8565\n",
      "9902\n",
      "8564\n",
      "8564\n"
     ]
    }
   ],
   "source": [
    "print(len(test_ratings_df[\"movieId\"].unique()))\n",
    "\n",
    "# print number of unique items in all_movie_ids\n",
    "\n",
    "print(len(all_movie_ids))\n",
    "\n",
    "# get missing items in train_ratings_df\n",
    "\n",
    "missing_items = set(test_ratings_df[\"movieId\"].unique()) - set(all_movie_ids)\n",
    "\n",
    "# remove the missing items from train_ratings_df\n",
    "\n",
    "test_ratings_df = test_ratings_df[~test_ratings_df[\"movieId\"].isin(missing_items)]\n",
    "\n",
    "# print the new number of unique items in train_ratings_df\n",
    "\n",
    "print(len(test_ratings_df[\"movieId\"].unique()))\n",
    "\n",
    "# remove all movies which are not in all_movie_ids\n",
    "\n",
    "test_ratings_df = test_ratings_df[test_ratings_df[\"movieId\"].isin(all_movie_ids)]\n",
    "\n",
    "# print the new number of unique items in train_ratings_df\n",
    "\n",
    "print(len(test_ratings_df[\"movieId\"].unique()))"
   ]
  },
  {
   "cell_type": "code",
   "execution_count": 89,
   "metadata": {},
   "outputs": [],
   "source": [
    "# Combine train_ratings_df and test_ratings_df on userId key\n",
    "\n",
    "combined_ratings_df = pd.concat([train_ratings_df, test_ratings_df], axis=0)\n",
    "\n",
    "# remove users which aren't present in train_ratings_df\n",
    "\n",
    "combined_ratings_df = combined_ratings_df[combined_ratings_df[\"userId\"].isin(train_ratings_df[\"userId\"])]"
   ]
  },
  {
   "cell_type": "code",
   "execution_count": 90,
   "metadata": {},
   "outputs": [
    {
     "name": "stdout",
     "output_type": "stream",
     "text": [
      "127878\n"
     ]
    }
   ],
   "source": [
    "# print number of unique users in combined_ratings_df\n",
    "\n",
    "print(len(combined_ratings_df[\"userId\"].unique()))"
   ]
  },
  {
   "cell_type": "code",
   "execution_count": 91,
   "metadata": {},
   "outputs": [],
   "source": [
    "# apply tokenizer_encode_item_ids to the movie ids column\n",
    "user_id_to_movie_ids_eval = combined_ratings_df.groupby(\"userId\")[\"movieId\"].apply(list).apply(tokenizer.encode_items).to_dict()\n",
    "user_id_to_rating_times_eval = combined_ratings_df.groupby(\"userId\")[\"timestamp\"].apply(list).to_dict()\n",
    "\n",
    "# take last 50 ratings for each user\n",
    "for user_id in user_id_to_movie_ids_eval:\n",
    "    user_id_to_movie_ids_eval[user_id] = user_id_to_movie_ids_eval[user_id][-max_rating_sequence_length:]\n",
    "    user_id_to_rating_times_eval[user_id] = user_id_to_rating_times_eval[user_id][-max_rating_sequence_length:]"
   ]
  },
  {
   "cell_type": "code",
   "execution_count": 92,
   "metadata": {},
   "outputs": [],
   "source": [
    "user_items_vectors_eval = []\n",
    "user_rating_times_vectors_eval = []\n",
    "encoded_user_ids_eval = []\n",
    "\n",
    "for user_id in user_id_to_movie_ids_eval.keys():\n",
    "    encoded_user_ids_eval.append(tokenizer.encode_user(user_id))\n",
    "    user_items_vectors_eval.append(np.array(user_id_to_movie_ids_eval[user_id]))\n",
    "    user_rating_times_vectors_eval.append(np.array(user_id_to_rating_times_eval[user_id]))"
   ]
  },
  {
   "cell_type": "code",
   "execution_count": 93,
   "metadata": {},
   "outputs": [
    {
     "name": "stdout",
     "output_type": "stream",
     "text": [
      "127878\n"
     ]
    }
   ],
   "source": [
    "from NextItemPredDataset import NextItemPredDataset\n",
    "from utils import prepare_test_data_for_next_item_pred_transformer\n",
    "# Create a dataset\n",
    "dataset = NextItemPredDataset(\n",
    "    prepare_test_data_for_next_item_pred_transformer(encoded_user_ids_eval, user_items_vectors_eval, user_rating_times_vectors_eval, max_seq_len=max_rating_sequence_length)\n",
    ")\n",
    "print(len(encoded_user_ids))"
   ]
  },
  {
   "cell_type": "code",
   "execution_count": 94,
   "metadata": {},
   "outputs": [],
   "source": [
    "# load the model\n",
    "trained_model = torch.load(model_file_name)"
   ]
  },
  {
   "cell_type": "code",
   "execution_count": 95,
   "metadata": {},
   "outputs": [
    {
     "name": "stderr",
     "output_type": "stream",
     "text": [
      "  1%|          | 1320/127878 [2:30:36<240:39:29,  6.85s/it] \n"
     ]
    }
   ],
   "source": [
    "# Create a dataloader\n",
    "batch_size = 1\n",
    "dataloader = torch.utils.data.DataLoader(\n",
    "    dataset, batch_size=batch_size, shuffle=False, num_workers=0\n",
    ")\n",
    "\n"
   ]
  },
  {
   "cell_type": "code",
   "execution_count": 96,
   "metadata": {},
   "outputs": [
    {
     "data": {
      "text/plain": [
       "NextItemPredTransformer(\n",
       "  (decoder): ItemDecoder(\n",
       "    (items_embedding): Embedding(9904, 40)\n",
       "    (users_embedding): Embedding(127878, 40)\n",
       "    (time_embedding): Sequential(\n",
       "      (0): Linear(in_features=52, out_features=2080, bias=True)\n",
       "      (1): Unflatten(dim=1, unflattened_size=(52, 40))\n",
       "      (2): ReLU()\n",
       "    )\n",
       "    (blocks): ModuleList(\n",
       "      (0): ResidualAttentionBlock(\n",
       "        (attn): MultiHeadAttention(\n",
       "          (query): Linear(in_features=40, out_features=40, bias=True)\n",
       "          (key): Linear(in_features=40, out_features=40, bias=False)\n",
       "          (value): Linear(in_features=40, out_features=40, bias=True)\n",
       "          (out): Linear(in_features=40, out_features=40, bias=True)\n",
       "        )\n",
       "        (attn_ln): LayerNorm((40,), eps=1e-05, elementwise_affine=True)\n",
       "        (mlp): Sequential(\n",
       "          (0): Linear(in_features=40, out_features=160, bias=True)\n",
       "          (1): GELU(approximate='none')\n",
       "          (2): Linear(in_features=160, out_features=40, bias=True)\n",
       "        )\n",
       "        (mlp_ln): LayerNorm((40,), eps=1e-05, elementwise_affine=True)\n",
       "      )\n",
       "      (1): ResidualAttentionBlock(\n",
       "        (attn): MultiHeadAttention(\n",
       "          (query): Linear(in_features=40, out_features=40, bias=True)\n",
       "          (key): Linear(in_features=40, out_features=40, bias=False)\n",
       "          (value): Linear(in_features=40, out_features=40, bias=True)\n",
       "          (out): Linear(in_features=40, out_features=40, bias=True)\n",
       "        )\n",
       "        (attn_ln): LayerNorm((40,), eps=1e-05, elementwise_affine=True)\n",
       "        (mlp): Sequential(\n",
       "          (0): Linear(in_features=40, out_features=160, bias=True)\n",
       "          (1): GELU(approximate='none')\n",
       "          (2): Linear(in_features=160, out_features=40, bias=True)\n",
       "        )\n",
       "        (mlp_ln): LayerNorm((40,), eps=1e-05, elementwise_affine=True)\n",
       "      )\n",
       "      (2): ResidualAttentionBlock(\n",
       "        (attn): MultiHeadAttention(\n",
       "          (query): Linear(in_features=40, out_features=40, bias=True)\n",
       "          (key): Linear(in_features=40, out_features=40, bias=False)\n",
       "          (value): Linear(in_features=40, out_features=40, bias=True)\n",
       "          (out): Linear(in_features=40, out_features=40, bias=True)\n",
       "        )\n",
       "        (attn_ln): LayerNorm((40,), eps=1e-05, elementwise_affine=True)\n",
       "        (mlp): Sequential(\n",
       "          (0): Linear(in_features=40, out_features=160, bias=True)\n",
       "          (1): GELU(approximate='none')\n",
       "          (2): Linear(in_features=160, out_features=40, bias=True)\n",
       "        )\n",
       "        (mlp_ln): LayerNorm((40,), eps=1e-05, elementwise_affine=True)\n",
       "      )\n",
       "    )\n",
       "    (ln): LayerNorm((40,), eps=1e-05, elementwise_affine=True)\n",
       "  )\n",
       ")"
      ]
     },
     "execution_count": 96,
     "metadata": {},
     "output_type": "execute_result"
    }
   ],
   "source": [
    "# use cpu \n",
    "device = torch.device(\"cpu\")\n",
    "trained_model.to(device)"
   ]
  },
  {
   "cell_type": "code",
   "execution_count": 97,
   "metadata": {},
   "outputs": [],
   "source": [
    "import datetime\n",
    "\n",
    "# convert all titles to numpy array\n",
    "def map_movie_ids_to_titles(movie_ids, mapping_dict):\n",
    "    return [mapping_dict[movie_id] for movie_id in movie_ids]\n",
    "    "
   ]
  },
  {
   "cell_type": "code",
   "execution_count": 98,
   "metadata": {},
   "outputs": [],
   "source": [
    "# load movies_df.pkl to an object\n",
    "\n",
    "movies_df= pd.read_pickle(r\"movies_df.pkl\", compression= 'gzip')"
   ]
  },
  {
   "cell_type": "code",
   "execution_count": 99,
   "metadata": {},
   "outputs": [
    {
     "data": {
      "text/plain": [
       "815011200.0"
      ]
     },
     "execution_count": 99,
     "metadata": {},
     "output_type": "execute_result"
    }
   ],
   "source": [
    "# load top 10 of df\n",
    "movies_df.head(10)\n",
    "# get release_date of movieId 1\n",
    "movies_df[movies_df[\"movieId\"] == 1][\"release_date\"].values[0]"
   ]
  },
  {
   "cell_type": "code",
   "execution_count": 112,
   "metadata": {},
   "outputs": [],
   "source": [
    "def get_movie_release_date(movie_id):\n",
    "    unix_timestamp = movies_df[movies_df[\"movieId\"] == movie_id][\"release_date\"].values[0]\n",
    "    # if negative convert to positive\n",
    "    if unix_timestamp < 0:\n",
    "        date_time_obj = datetime.datetime(1970, 1, 1) + datetime.timedelta(seconds=(-3739996800000/1000))\n",
    "        return date_time_obj.strftime(\"%d/%m/%Y %H:%M:%S\")\n",
    "    return  datetime.datetime.fromtimestamp(unix_timestamp).strftime(\"%d/%m/%Y %H:%M:%S\")"
   ]
  },
  {
   "cell_type": "code",
   "execution_count": 113,
   "metadata": {},
   "outputs": [],
   "source": [
    "def check_if_movie_is_in_the_future(prediction_time, movie_id):\n",
    "    # get release date of movie_id\n",
    "    release_date = movies_df[movies_df[\"movieId\"] == movie_id][\"release_date\"].values[0]\n",
    "\n",
    "    # if release data is negative convert to positive   \n",
    "    if release_date < 0:\n",
    "        return False\n",
    "    # if release data is None, return False\n",
    "    if release_date is None:\n",
    "        return False\n",
    "    # convert both to datetime\n",
    "    prediction_time_str = datetime.datetime.fromtimestamp(prediction_time)\n",
    "    try:\n",
    "        release_date_str = datetime.datetime.fromtimestamp(release_date)\n",
    "    except:\n",
    "        return False\n",
    "    # convert to human readable\n",
    "    prediction_time_str = datetime.datetime.strptime(prediction_time_str.strftime(\"%d/%m/%Y %H:%M:%S\"), \"%d/%m/%Y %H:%M:%S\")\n",
    "    release_date_str = datetime.datetime.strptime(release_date_str.strftime(\"%d/%m/%Y %H:%M:%S\"), \"%d/%m/%Y %H:%M:%S\")\n",
    "    if prediction_time < release_date:\n",
    "        return True\n",
    "    else:\n",
    "        return False"
   ]
  },
  {
   "cell_type": "code",
   "execution_count": 116,
   "metadata": {},
   "outputs": [
    {
     "name": "stderr",
     "output_type": "stream",
     "text": [
      "  1%|          | 1274/127878 [27:45<2133:18:38, 60.66s/it]"
     ]
    },
    {
     "ename": "KeyboardInterrupt",
     "evalue": "",
     "output_type": "error",
     "traceback": [
      "\u001b[1;31m---------------------------------------------------------------------------\u001b[0m",
      "\u001b[1;31mKeyboardInterrupt\u001b[0m                         Traceback (most recent call last)",
      "Cell \u001b[1;32mIn[116], line 105\u001b[0m\n\u001b[0;32m     96\u001b[0m top_100_predicted_titles \u001b[39m=\u001b[39m map_movie_ids_to_titles(decoded_top_100_item_ids, movie_id_to_title)\n\u001b[0;32m     97\u001b[0m current_map \u001b[39m=\u001b[39m {\n\u001b[0;32m     98\u001b[0m         \u001b[39m\"\u001b[39m\u001b[39mtrue_title\u001b[39m\u001b[39m\"\u001b[39m: true_title,\n\u001b[0;32m     99\u001b[0m         \u001b[39m\"\u001b[39m\u001b[39mitems_in_sequence_titles\u001b[39m\u001b[39m\"\u001b[39m: items_in_sequence_titles,\n\u001b[1;32m   (...)\u001b[0m\n\u001b[0;32m    103\u001b[0m         \u001b[39m\"\u001b[39m\u001b[39mrating_time\u001b[39m\u001b[39m\"\u001b[39m: rating_time\n\u001b[0;32m    104\u001b[0m }\n\u001b[1;32m--> 105\u001b[0m results\u001b[39m.\u001b[39mappend(current_map)\n",
      "Cell \u001b[1;32mIn[116], line 105\u001b[0m\n\u001b[0;32m     96\u001b[0m top_100_predicted_titles \u001b[39m=\u001b[39m map_movie_ids_to_titles(decoded_top_100_item_ids, movie_id_to_title)\n\u001b[0;32m     97\u001b[0m current_map \u001b[39m=\u001b[39m {\n\u001b[0;32m     98\u001b[0m         \u001b[39m\"\u001b[39m\u001b[39mtrue_title\u001b[39m\u001b[39m\"\u001b[39m: true_title,\n\u001b[0;32m     99\u001b[0m         \u001b[39m\"\u001b[39m\u001b[39mitems_in_sequence_titles\u001b[39m\u001b[39m\"\u001b[39m: items_in_sequence_titles,\n\u001b[1;32m   (...)\u001b[0m\n\u001b[0;32m    103\u001b[0m         \u001b[39m\"\u001b[39m\u001b[39mrating_time\u001b[39m\u001b[39m\"\u001b[39m: rating_time\n\u001b[0;32m    104\u001b[0m }\n\u001b[1;32m--> 105\u001b[0m results\u001b[39m.\u001b[39mappend(current_map)\n",
      "File \u001b[1;32m_pydevd_bundle/pydevd_cython.pyx:1457\u001b[0m, in \u001b[0;36m_pydevd_bundle.pydevd_cython.SafeCallWrapper.__call__\u001b[1;34m()\u001b[0m\n",
      "File \u001b[1;32m_pydevd_bundle/pydevd_cython.pyx:701\u001b[0m, in \u001b[0;36m_pydevd_bundle.pydevd_cython.PyDBFrame.trace_dispatch\u001b[1;34m()\u001b[0m\n",
      "File \u001b[1;32m_pydevd_bundle/pydevd_cython.pyx:1152\u001b[0m, in \u001b[0;36m_pydevd_bundle.pydevd_cython.PyDBFrame.trace_dispatch\u001b[1;34m()\u001b[0m\n",
      "File \u001b[1;32m_pydevd_bundle/pydevd_cython.pyx:1135\u001b[0m, in \u001b[0;36m_pydevd_bundle.pydevd_cython.PyDBFrame.trace_dispatch\u001b[1;34m()\u001b[0m\n",
      "File \u001b[1;32m_pydevd_bundle/pydevd_cython.pyx:312\u001b[0m, in \u001b[0;36m_pydevd_bundle.pydevd_cython.PyDBFrame.do_wait_suspend\u001b[1;34m()\u001b[0m\n",
      "File \u001b[1;32mc:\\Users\\tsale\\OneDrive\\Desktop\\CS Masters Degree\\Recommendation Systems\\Project\\.venv\\lib\\site-packages\\debugpy\\_vendored\\pydevd\\pydevd.py:2070\u001b[0m, in \u001b[0;36mPyDB.do_wait_suspend\u001b[1;34m(self, thread, frame, event, arg, exception_type)\u001b[0m\n\u001b[0;32m   2067\u001b[0m             from_this_thread\u001b[39m.\u001b[39mappend(frame_custom_thread_id)\n\u001b[0;32m   2069\u001b[0m     \u001b[39mwith\u001b[39;00m \u001b[39mself\u001b[39m\u001b[39m.\u001b[39m_threads_suspended_single_notification\u001b[39m.\u001b[39mnotify_thread_suspended(thread_id, thread, stop_reason):\n\u001b[1;32m-> 2070\u001b[0m         keep_suspended \u001b[39m=\u001b[39m \u001b[39mself\u001b[39;49m\u001b[39m.\u001b[39;49m_do_wait_suspend(thread, frame, event, arg, suspend_type, from_this_thread, frames_tracker)\n\u001b[0;32m   2072\u001b[0m frames_list \u001b[39m=\u001b[39m \u001b[39mNone\u001b[39;00m\n\u001b[0;32m   2074\u001b[0m \u001b[39mif\u001b[39;00m keep_suspended:\n\u001b[0;32m   2075\u001b[0m     \u001b[39m# This means that we should pause again after a set next statement.\u001b[39;00m\n",
      "File \u001b[1;32mc:\\Users\\tsale\\OneDrive\\Desktop\\CS Masters Degree\\Recommendation Systems\\Project\\.venv\\lib\\site-packages\\debugpy\\_vendored\\pydevd\\pydevd.py:2106\u001b[0m, in \u001b[0;36mPyDB._do_wait_suspend\u001b[1;34m(self, thread, frame, event, arg, suspend_type, from_this_thread, frames_tracker)\u001b[0m\n\u001b[0;32m   2103\u001b[0m         \u001b[39mself\u001b[39m\u001b[39m.\u001b[39m_call_input_hook()\n\u001b[0;32m   2105\u001b[0m     \u001b[39mself\u001b[39m\u001b[39m.\u001b[39mprocess_internal_commands()\n\u001b[1;32m-> 2106\u001b[0m     time\u001b[39m.\u001b[39;49msleep(\u001b[39m0.01\u001b[39;49m)\n\u001b[0;32m   2108\u001b[0m \u001b[39mself\u001b[39m\u001b[39m.\u001b[39mcancel_async_evaluation(get_current_thread_id(thread), \u001b[39mstr\u001b[39m(\u001b[39mid\u001b[39m(frame)))\n\u001b[0;32m   2110\u001b[0m \u001b[39m# process any stepping instructions\u001b[39;00m\n",
      "\u001b[1;31mKeyboardInterrupt\u001b[0m: "
     ]
    }
   ],
   "source": [
    "# set model to eval mode\n",
    "trained_model.eval()\n",
    "results = []\n",
    "for batch in dataloader:\n",
    "        try:\n",
    "                # Get the inputs; data is a list of [inputs, labels]\n",
    "                user_ids, items, times, pred_index, true_item_id = batch\n",
    "                pred_times = torch.gather(times, 1, pred_index.unsqueeze(1))\n",
    "                # squeeze the pred_times to remove the extra dim\n",
    "                pred_times = torch.squeeze(pred_times, dim=1)\n",
    "\n",
    "                # convert to device\n",
    "                user_ids = user_ids.to(device)\n",
    "                items = items.to(device)\n",
    "                times = times.to(device)\n",
    "                pred_index = pred_index.to(device)\n",
    "                true_item_id = true_item_id.to(device)\n",
    "                pred_times = pred_times.to(device)\n",
    "\n",
    "                # decode items with tokenizer\n",
    "                # remove batch dim\n",
    "                items_as_list = torch.squeeze(items, dim=0)\n",
    "                # convert to list\n",
    "                items_as_list = items_as_list.tolist()\n",
    "                # filter out all zeros and 1s\n",
    "                items_as_list = list(filter(lambda x: x != 0 and x != 1, items_as_list))\n",
    "                decoded_items = tokenizer.decode_items(items_as_list)\n",
    "                # decode true_item_id with tokenizer\n",
    "                decoded_true_item_id = tokenizer.decode_item(true_item_id.item())\n",
    "                # print titles of the items\n",
    "                items_in_sequence_titles = map_movie_ids_to_titles(decoded_items, movie_id_to_title)\n",
    "                # print title of the true item\n",
    "                true_title = movie_id_to_title[decoded_true_item_id]\n",
    "                \n",
    "\n",
    "                # Forward pass\n",
    "                outputs = trained_model(items, user_ids, times, pred_times)\n",
    "                relevant_outputs = torch.gather(outputs, 1, pred_index.unsqueeze(1).unsqueeze(2).expand(-1, -1, vocab_size))\n",
    "                \n",
    "                # Squeeze dim 1 for relevant_outputs\n",
    "                relevant_outputs = torch.squeeze(relevant_outputs, dim=1)\n",
    "                # do a softmax on the outputs\n",
    "                relevant_outputs = torch.softmax(relevant_outputs, dim=1)\n",
    "                # remove the batch dim\n",
    "                relevant_outputs = torch.squeeze(relevant_outputs, dim=0)\n",
    "                # get the top 10 items and their scores\n",
    "                top_100_items = torch.topk(relevant_outputs, 100)\n",
    "                scores, indices = top_100_items\n",
    "                indices = indices.tolist()\n",
    "                try:\n",
    "                        sos_index = indices.index(0)\n",
    "                except:\n",
    "                        sos_index = -1\n",
    "                try:\n",
    "                        eos_index = indices.index(1)\n",
    "                except:\n",
    "                        eos_index = -1\n",
    "                top_100_item_ids = list(filter(lambda x: x != 0 and x != 1, indices))\n",
    "\n",
    "                # filter out zeros and 1s\n",
    "\n",
    "                # remove sos and eos\n",
    "                # get the top 10 item scores\n",
    "                top_100_item_scores = scores.tolist()\n",
    "                # remove indices which are present in items\n",
    "\n",
    "                # decode the top 10 item ids\n",
    "                decoded_top_100_item_ids = tokenizer.decode_items(top_100_item_ids)\n",
    "                decoded_titles = map_movie_ids_to_titles(decoded_top_100_item_ids, movie_id_to_title)\n",
    "                dt_object = datetime.datetime.fromtimestamp(pred_times.item())\n",
    "\n",
    "                # add sos and eos to the titles by their index if they exist\n",
    "                if sos_index != -1:\n",
    "                        decoded_titles.insert(sos_index, \"<sos>\")\n",
    "                if eos_index != -1:\n",
    "                        decoded_titles.insert(eos_index, \"<eos>\")\n",
    "                \n",
    "                relevant_decoded_items = []\n",
    "                relevant_scores = []\n",
    "                relevant_titles = []\n",
    "                for i in range(len(decoded_top_100_item_ids)):\n",
    "                        if decoded_top_100_item_ids[i] not in decoded_items and not check_if_movie_is_in_the_future(pred_times.item(), decoded_top_100_item_ids[i]):\n",
    "                                relevant_decoded_items.append(decoded_top_100_item_ids[i])\n",
    "                                relevant_scores.append(top_100_item_scores[i])\n",
    "                                relevant_titles.append(decoded_titles[i])\n",
    "                \n",
    "                # take 10 items and scores\n",
    "                relevant_decoded_items = relevant_decoded_items[:10]\n",
    "                release_dates_of_relevant_items = list(map(get_movie_release_date, relevant_decoded_items))\n",
    "                relevant_titles = relevant_titles[:10]\n",
    "                relevant_scores = relevant_scores[:10]\n",
    "                rating_time = dt_object.strftime(\"%d/%m/%Y %H:%M:%S\")\n",
    "                # get release times of relevant relevant_decoded_items from movies_df\n",
    "\n",
    "\n",
    "                # print the top 10 items and their scores\n",
    "                top_100_predicted_titles = map_movie_ids_to_titles(decoded_top_100_item_ids, movie_id_to_title)\n",
    "                current_map = {\n",
    "                        \"true_title\": true_title,\n",
    "                        \"items_in_sequence_titles\": items_in_sequence_titles,\n",
    "                        \"top_10_predicted_titles\": relevant_titles,\n",
    "                        \"top_10_item_scores\": relevant_scores,\n",
    "                        \"release_dates_of_top_10\": release_dates_of_relevant_items,\n",
    "                        \"rating_time\": rating_time\n",
    "                }\n",
    "                results.append(current_map)\n",
    "        except:\n",
    "                continue\n",
    "  "
   ]
  }
 ],
 "metadata": {
  "kernelspec": {
   "display_name": ".venv",
   "language": "python",
   "name": "python3"
  },
  "language_info": {
   "codemirror_mode": {
    "name": "ipython",
    "version": 3
   },
   "file_extension": ".py",
   "mimetype": "text/x-python",
   "name": "python",
   "nbconvert_exporter": "python",
   "pygments_lexer": "ipython3",
   "version": "3.9.7"
  },
  "orig_nbformat": 4,
  "vscode": {
   "interpreter": {
    "hash": "4949604dacae39bdd2618bc76fb269ae5c6ee85cf584bc2addf7917737d48aad"
   }
  }
 },
 "nbformat": 4,
 "nbformat_minor": 2
}
