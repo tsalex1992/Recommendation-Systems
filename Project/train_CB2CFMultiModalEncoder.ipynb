{
 "cells": [
  {
   "cell_type": "code",
   "execution_count": 6,
   "metadata": {},
   "outputs": [],
   "source": [
    "import torch\n",
    "from tqdm import tqdm\n",
    "from CB2CFMultiModalEncoder import CB2CFMultiModalEncoder\n",
    "import matplotlib.pyplot as plt\n"
   ]
  },
  {
   "cell_type": "code",
   "execution_count": 7,
   "metadata": {},
   "outputs": [],
   "source": [
    "from enum import Enum\n",
    "\n",
    "\n",
    "class MODE(Enum):\n",
    "    BPR1 = 1\n",
    "    BPR2 = 2\n",
    "\n",
    "SELECTED_MODE = MODE.BPR2\n",
    "\n",
    "dataset_name = \"cb2cf_train_dataset_with_bpr1.pt\" if SELECTED_MODE == MODE.BPR1 else \"cb2cf_train_dataset.pt\"\n",
    "model_file_name = \"cb2cf_multi_modal_encoder_model_with_bpr1.pt\" if SELECTED_MODE == MODE.BPR1 else \"cb2cf_multi_modal_encoder_model.pt\""
   ]
  },
  {
   "cell_type": "code",
   "execution_count": 8,
   "metadata": {},
   "outputs": [],
   "source": [
    "# load cb2cf_train_dataset with torch\n",
    "training_data = torch.load(dataset_name)\n",
    "\n",
    "train_size = int(0.9 * len(training_data))\n",
    "val_size = len(training_data) - train_size\n",
    "train_dataset, val_dataset = torch.utils.data.random_split(training_data, [train_size, val_size])\n"
   ]
  },
  {
   "cell_type": "code",
   "execution_count": 9,
   "metadata": {},
   "outputs": [],
   "source": [
    "# Create CB2CFTransformer model\n",
    "number_of_genres = train_dataset[0][\"genres\"].shape[0]\n",
    "number_of_actors = train_dataset[0][\"actors\"].shape[0]\n",
    "number_of_directors = train_dataset[0][\"directors\"].shape[0]\n",
    "number_of_languages = train_dataset[0][\"language\"].shape[0]\n",
    "item_embedding_dim = train_dataset[0][\"embeddings\"].shape[0]\n",
    "\n",
    "\n",
    "model = CB2CFMultiModalEncoder(\n",
    "    number_of_genres=number_of_genres,\n",
    "    number_of_actors=number_of_actors,\n",
    "    number_of_directors=number_of_directors,\n",
    "    number_of_languages=number_of_languages,\n",
    "    item_embedding_dim=item_embedding_dim,\n",
    "    dropout=0.25,\n",
    ")\n"
   ]
  },
  {
   "cell_type": "code",
   "execution_count": 10,
   "metadata": {},
   "outputs": [
    {
     "name": "stdout",
     "output_type": "stream",
     "text": [
      "Using device: cuda:0\n"
     ]
    }
   ],
   "source": [
    "criterion = torch.nn.MSELoss()\n",
    "learning_rate =  1e-3\n",
    "optimizer = torch.optim.AdamW(model.parameters(), lr=learning_rate)\n",
    "\n",
    "\n",
    "device = torch.device(\"cuda:0\" if torch.cuda.is_available() else \"cpu\")\n",
    "model.to(device)\n",
    "print(\"Using device:\", device)\n"
   ]
  },
  {
   "cell_type": "code",
   "execution_count": 11,
   "metadata": {},
   "outputs": [
    {
     "name": "stderr",
     "output_type": "stream",
     "text": [
      "100%|██████████| 251/251 [00:12<00:00, 20.05it/s]\n",
      "100%|██████████| 28/28 [00:01<00:00, 26.13it/s]\n"
     ]
    },
    {
     "name": "stdout",
     "output_type": "stream",
     "text": [
      "Saved model with best validation loss of 0.1343\n",
      "Epoch 0: train loss = 0.2156, val loss = 0.1343\n"
     ]
    },
    {
     "name": "stderr",
     "output_type": "stream",
     "text": [
      "100%|██████████| 251/251 [00:12<00:00, 20.32it/s]\n",
      "100%|██████████| 28/28 [00:01<00:00, 26.21it/s]\n"
     ]
    },
    {
     "name": "stdout",
     "output_type": "stream",
     "text": [
      "Saved model with best validation loss of 0.1210\n",
      "Epoch 1: train loss = 0.1533, val loss = 0.1210\n"
     ]
    },
    {
     "name": "stderr",
     "output_type": "stream",
     "text": [
      "100%|██████████| 251/251 [00:12<00:00, 20.53it/s]\n",
      "100%|██████████| 28/28 [00:01<00:00, 25.97it/s]\n"
     ]
    },
    {
     "name": "stdout",
     "output_type": "stream",
     "text": [
      "Saved model with best validation loss of 0.1171\n",
      "Epoch 2: train loss = 0.1346, val loss = 0.1171\n"
     ]
    },
    {
     "name": "stderr",
     "output_type": "stream",
     "text": [
      "100%|██████████| 251/251 [00:12<00:00, 20.43it/s]\n",
      "100%|██████████| 28/28 [00:01<00:00, 26.46it/s]\n"
     ]
    },
    {
     "name": "stdout",
     "output_type": "stream",
     "text": [
      "Saved model with best validation loss of 0.1144\n",
      "Epoch 3: train loss = 0.1228, val loss = 0.1144\n"
     ]
    },
    {
     "name": "stderr",
     "output_type": "stream",
     "text": [
      "100%|██████████| 251/251 [00:12<00:00, 20.19it/s]\n",
      "100%|██████████| 28/28 [00:01<00:00, 25.87it/s]\n"
     ]
    },
    {
     "name": "stdout",
     "output_type": "stream",
     "text": [
      "Saved model with best validation loss of 0.1129\n",
      "Epoch 4: train loss = 0.1169, val loss = 0.1129\n"
     ]
    },
    {
     "name": "stderr",
     "output_type": "stream",
     "text": [
      "100%|██████████| 251/251 [00:12<00:00, 20.10it/s]\n",
      "100%|██████████| 28/28 [00:01<00:00, 26.16it/s]\n"
     ]
    },
    {
     "name": "stdout",
     "output_type": "stream",
     "text": [
      "Epoch 5: train loss = 0.1091, val loss = 0.1141\n"
     ]
    },
    {
     "name": "stderr",
     "output_type": "stream",
     "text": [
      "100%|██████████| 251/251 [00:12<00:00, 20.36it/s]\n",
      "100%|██████████| 28/28 [00:01<00:00, 26.16it/s]\n"
     ]
    },
    {
     "name": "stdout",
     "output_type": "stream",
     "text": [
      "Epoch 6: train loss = 0.1050, val loss = 0.1135\n"
     ]
    },
    {
     "name": "stderr",
     "output_type": "stream",
     "text": [
      "100%|██████████| 251/251 [00:12<00:00, 20.33it/s]\n",
      "100%|██████████| 28/28 [00:01<00:00, 26.08it/s]\n"
     ]
    },
    {
     "name": "stdout",
     "output_type": "stream",
     "text": [
      "Epoch 7: train loss = 0.1036, val loss = 0.1152\n"
     ]
    },
    {
     "name": "stderr",
     "output_type": "stream",
     "text": [
      "100%|██████████| 251/251 [00:12<00:00, 20.49it/s]\n",
      "100%|██████████| 28/28 [00:01<00:00, 26.05it/s]\n"
     ]
    },
    {
     "name": "stdout",
     "output_type": "stream",
     "text": [
      "Saved model with best validation loss of 0.1124\n",
      "Epoch 8: train loss = 0.0997, val loss = 0.1124\n"
     ]
    },
    {
     "name": "stderr",
     "output_type": "stream",
     "text": [
      "100%|██████████| 251/251 [00:12<00:00, 19.85it/s]\n",
      "100%|██████████| 28/28 [00:01<00:00, 26.04it/s]\n"
     ]
    },
    {
     "name": "stdout",
     "output_type": "stream",
     "text": [
      "Epoch 9: train loss = 0.0954, val loss = 0.1150\n"
     ]
    },
    {
     "name": "stderr",
     "output_type": "stream",
     "text": [
      "100%|██████████| 251/251 [00:12<00:00, 19.99it/s]\n",
      "100%|██████████| 28/28 [00:01<00:00, 25.96it/s]\n"
     ]
    },
    {
     "name": "stdout",
     "output_type": "stream",
     "text": [
      "Saved model with best validation loss of 0.1117\n",
      "Epoch 10: train loss = 0.0921, val loss = 0.1117\n"
     ]
    },
    {
     "name": "stderr",
     "output_type": "stream",
     "text": [
      "100%|██████████| 251/251 [00:12<00:00, 20.61it/s]\n",
      "100%|██████████| 28/28 [00:01<00:00, 27.10it/s]\n"
     ]
    },
    {
     "name": "stdout",
     "output_type": "stream",
     "text": [
      "Epoch 11: train loss = 0.0908, val loss = 0.1127\n"
     ]
    },
    {
     "name": "stderr",
     "output_type": "stream",
     "text": [
      "100%|██████████| 251/251 [00:11<00:00, 21.00it/s]\n",
      "100%|██████████| 28/28 [00:01<00:00, 27.66it/s]\n"
     ]
    },
    {
     "name": "stdout",
     "output_type": "stream",
     "text": [
      "Epoch 12: train loss = 0.0896, val loss = 0.1144\n"
     ]
    },
    {
     "name": "stderr",
     "output_type": "stream",
     "text": [
      "100%|██████████| 251/251 [00:11<00:00, 21.20it/s]\n",
      "100%|██████████| 28/28 [00:01<00:00, 27.38it/s]\n"
     ]
    },
    {
     "name": "stdout",
     "output_type": "stream",
     "text": [
      "Epoch 13: train loss = 0.0884, val loss = 0.1136\n"
     ]
    },
    {
     "name": "stderr",
     "output_type": "stream",
     "text": [
      "100%|██████████| 251/251 [00:11<00:00, 21.28it/s]\n",
      "100%|██████████| 28/28 [00:01<00:00, 27.81it/s]"
     ]
    },
    {
     "name": "stdout",
     "output_type": "stream",
     "text": [
      "Epoch 14: train loss = 0.0863, val loss = 0.1161\n"
     ]
    },
    {
     "name": "stderr",
     "output_type": "stream",
     "text": [
      "\n"
     ]
    }
   ],
   "source": [
    "# Create train and validation dataloaders\n",
    "train_dataloader = torch.utils.data.DataLoader(train_dataset, batch_size=32, shuffle=True)\n",
    "val_dataloader = torch.utils.data.DataLoader(val_dataset, batch_size=32, shuffle=False)\n",
    "\n",
    "# Train the model\n",
    "num_epochs = 15\n",
    "train_loss_history = []\n",
    "val_loss_history = []\n",
    "should_early_stop = False\n",
    "best_val_loss = float(\"inf\")\n",
    "\n",
    "for epoch in range(num_epochs):\n",
    "    # Training\n",
    "    model.train()\n",
    "    train_loss = 0\n",
    "    for batch in tqdm(train_dataloader):\n",
    "        optimizer.zero_grad()\n",
    "        output = model(\n",
    "            genres=batch[\"genres\"].to(device),\n",
    "            actors=batch[\"actors\"].to(device),\n",
    "            directors=batch[\"directors\"].to(device),\n",
    "            unix_release_time=batch[\"unix_release_time\"].to(device),\n",
    "            description=batch[\"description\"],\n",
    "            language=batch[\"language\"].to(device),\n",
    "        )\n",
    "        loss = criterion(output, batch[\"embeddings\"].to(device))\n",
    "        loss.backward()\n",
    "        optimizer.step()\n",
    "        train_loss += loss.item()\n",
    "    train_loss /= len(train_dataloader)\n",
    "    train_loss_history.append(train_loss)\n",
    "\n",
    "    # Validation\n",
    "    model.eval()\n",
    "    val_loss = 0\n",
    "    with torch.no_grad():\n",
    "        for batch in tqdm(val_dataloader):\n",
    "            # genres, actors, directors, unix_release_time, description, language\n",
    "            output = model(\n",
    "                genres=batch[\"genres\"].to(device),\n",
    "                actors=batch[\"actors\"].to(device),\n",
    "                directors=batch[\"directors\"].to(device),\n",
    "                unix_release_time=batch[\"unix_release_time\"].to(device),\n",
    "                description=batch[\"description\"],\n",
    "                language=batch[\"language\"].to(device),\n",
    "            )\n",
    "            loss = criterion(output, batch[\"embeddings\"].to(device))\n",
    "            val_loss += loss.item()\n",
    "    val_loss /= len(val_dataloader)\n",
    "    val_loss_history.append(val_loss)\n",
    "    if val_loss < best_val_loss:\n",
    "        torch.save(model, model_file_name)\n",
    "        best_val_loss = min(best_val_loss, val_loss)\n",
    "        print(f\"Saved model with best validation loss of {best_val_loss:.4f}\")\n",
    "\n",
    "    if len(val_loss_history) > 4:\n",
    "        if val_loss_history[-1] > val_loss_history[-2] > val_loss_history[-3] > val_loss_history[-4]:\n",
    "            print(\"Early stopping\")\n",
    "            should_early_stop = True\n",
    "            break\n",
    "    print(f\"Epoch {epoch}: train loss = {train_loss:.4f}, val loss = {val_loss:.4f}\")\n"
   ]
  },
  {
   "cell_type": "code",
   "execution_count": 12,
   "metadata": {},
   "outputs": [
    {
     "data": {
      "image/png": "[encoded data removed]",
      "text/plain": [
       "<Figure size 640x480 with 1 Axes>"
      ]
     },
     "metadata": {},
     "output_type": "display_data"
    }
   ],
   "source": [
    "# Plot the loss curves for epochs\n",
    "\n",
    "\n",
    "plt.plot(train_loss_history, label=\"train\")\n",
    "plt.plot(val_loss_history, label=\"val\")\n",
    "plt.xlabel(\"Epoch\")\n",
    "plt.ylabel(\"Loss\")\n",
    "plt.legend()\n",
    "plt.show()\n",
    "\n",
    "# torch.save(model.state_dict(), \"cb2cf_multi_modal_encoder_model.pt\")\n"
   ]
  }
 ],
 "metadata": {
  "kernelspec": {
   "display_name": ".venv",
   "language": "python",
   "name": "python3"
  },
  "language_info": {
   "codemirror_mode": {
    "name": "ipython",
    "version": 3
   },
   "file_extension": ".py",
   "mimetype": "text/x-python",
   "name": "python",
   "nbconvert_exporter": "python",
   "pygments_lexer": "ipython3",
   "version": "3.9.7"
  },
  "orig_nbformat": 4,
  "vscode": {
   "interpreter": {
    "hash": "4949604dacae39bdd2618bc76fb269ae5c6ee85cf584bc2addf7917737d48aad"
   }
  }
 },
 "nbformat": 4,
 "nbformat_minor": 2
}
