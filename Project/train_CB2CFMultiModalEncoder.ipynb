{
 "cells": [
  {
   "cell_type": "code",
   "execution_count": 8,
   "metadata": {},
   "outputs": [],
   "source": [
    "import torch\n",
    "from tqdm import tqdm\n",
    "from CB2CFMultiModalEncoder import CB2CFMultiModalEncoder\n",
    "import matplotlib.pyplot as plt\n"
   ]
  },
  {
   "cell_type": "code",
   "execution_count": 9,
   "metadata": {},
   "outputs": [],
   "source": [
    "# load cb2cf_train_dataset with torch\n",
    "training_data = torch.load(\"cb2cf_train_dataset.pt\")\n",
    "\n",
    "train_size = int(0.9 * len(training_data))\n",
    "val_size = len(training_data) - train_size\n",
    "train_dataset, val_dataset = torch.utils.data.random_split(training_data, [train_size, val_size])\n"
   ]
  },
  {
   "cell_type": "code",
   "execution_count": 10,
   "metadata": {},
   "outputs": [],
   "source": [
    "# Create CB2CFTransformer model\n",
    "number_of_genres = train_dataset[0][\"genres\"].shape[0]\n",
    "number_of_actors = train_dataset[0][\"actors\"].shape[0]\n",
    "number_of_directors = train_dataset[0][\"directors\"].shape[0]\n",
    "number_of_languages = train_dataset[0][\"language\"].shape[0]\n",
    "item_embedding_dim = train_dataset[0][\"embeddings\"].shape[0]\n",
    "\n",
    "\n",
    "model = CB2CFMultiModalEncoder(\n",
    "    number_of_genres=number_of_genres,\n",
    "    number_of_actors=number_of_actors,\n",
    "    number_of_directors=number_of_directors,\n",
    "    number_of_languages=number_of_languages,\n",
    "    item_embedding_dim=item_embedding_dim,\n",
    "    dropout=0.2,\n",
    ")\n"
   ]
  },
  {
   "cell_type": "code",
   "execution_count": 11,
   "metadata": {},
   "outputs": [
    {
     "name": "stdout",
     "output_type": "stream",
     "text": [
      "Using device: cuda:0\n"
     ]
    }
   ],
   "source": [
    "criterion = torch.nn.MSELoss()\n",
    "learning_rate =  1e-3\n",
    "optimizer = torch.optim.AdamW(model.parameters(), lr=learning_rate)\n",
    "\n",
    "\n",
    "device = torch.device(\"cuda:0\" if torch.cuda.is_available() else \"cpu\")\n",
    "model.to(device)\n",
    "print(\"Using device:\", device)\n"
   ]
  },
  {
   "cell_type": "code",
   "execution_count": 12,
   "metadata": {},
   "outputs": [
    {
     "name": "stderr",
     "output_type": "stream",
     "text": [
      "100%|██████████| 251/251 [00:12<00:00, 19.77it/s]\n",
      "100%|██████████| 28/28 [00:01<00:00, 24.95it/s]\n"
     ]
    },
    {
     "name": "stdout",
     "output_type": "stream",
     "text": [
      "Epoch 0: train loss = 0.5279, val loss = 0.3671\n"
     ]
    },
    {
     "name": "stderr",
     "output_type": "stream",
     "text": [
      "100%|██████████| 251/251 [00:12<00:00, 20.00it/s]\n",
      "100%|██████████| 28/28 [00:01<00:00, 25.02it/s]\n"
     ]
    },
    {
     "name": "stdout",
     "output_type": "stream",
     "text": [
      "Epoch 1: train loss = 0.4007, val loss = 0.3528\n"
     ]
    },
    {
     "name": "stderr",
     "output_type": "stream",
     "text": [
      "100%|██████████| 251/251 [00:12<00:00, 19.98it/s]\n",
      "100%|██████████| 28/28 [00:01<00:00, 25.35it/s]\n"
     ]
    },
    {
     "name": "stdout",
     "output_type": "stream",
     "text": [
      "Epoch 2: train loss = 0.3865, val loss = 0.3496\n"
     ]
    },
    {
     "name": "stderr",
     "output_type": "stream",
     "text": [
      "100%|██████████| 251/251 [00:12<00:00, 19.97it/s]\n",
      "100%|██████████| 28/28 [00:01<00:00, 25.04it/s]\n"
     ]
    },
    {
     "name": "stdout",
     "output_type": "stream",
     "text": [
      "Epoch 3: train loss = 0.3768, val loss = 0.3464\n"
     ]
    },
    {
     "name": "stderr",
     "output_type": "stream",
     "text": [
      "100%|██████████| 251/251 [00:12<00:00, 19.98it/s]\n",
      "100%|██████████| 28/28 [00:01<00:00, 24.88it/s]\n"
     ]
    },
    {
     "name": "stdout",
     "output_type": "stream",
     "text": [
      "Epoch 4: train loss = 0.3721, val loss = 0.3437\n"
     ]
    },
    {
     "name": "stderr",
     "output_type": "stream",
     "text": [
      "100%|██████████| 251/251 [00:12<00:00, 20.10it/s]\n",
      "100%|██████████| 28/28 [00:01<00:00, 25.20it/s]\n"
     ]
    },
    {
     "name": "stdout",
     "output_type": "stream",
     "text": [
      "Epoch 5: train loss = 0.3652, val loss = 0.3427\n"
     ]
    },
    {
     "name": "stderr",
     "output_type": "stream",
     "text": [
      "100%|██████████| 251/251 [00:12<00:00, 19.72it/s]\n",
      "100%|██████████| 28/28 [00:01<00:00, 25.14it/s]\n"
     ]
    },
    {
     "name": "stdout",
     "output_type": "stream",
     "text": [
      "Epoch 6: train loss = 0.3618, val loss = 0.3403\n"
     ]
    },
    {
     "name": "stderr",
     "output_type": "stream",
     "text": [
      "100%|██████████| 251/251 [00:12<00:00, 19.95it/s]\n",
      "100%|██████████| 28/28 [00:01<00:00, 24.94it/s]\n"
     ]
    },
    {
     "name": "stdout",
     "output_type": "stream",
     "text": [
      "Epoch 7: train loss = 0.3584, val loss = 0.3391\n"
     ]
    },
    {
     "name": "stderr",
     "output_type": "stream",
     "text": [
      "100%|██████████| 251/251 [00:12<00:00, 19.96it/s]\n",
      "100%|██████████| 28/28 [00:01<00:00, 25.12it/s]\n"
     ]
    },
    {
     "name": "stdout",
     "output_type": "stream",
     "text": [
      "Epoch 8: train loss = 0.3548, val loss = 0.3379\n"
     ]
    },
    {
     "name": "stderr",
     "output_type": "stream",
     "text": [
      "100%|██████████| 251/251 [00:12<00:00, 20.08it/s]\n",
      "100%|██████████| 28/28 [00:01<00:00, 25.14it/s]\n"
     ]
    },
    {
     "name": "stdout",
     "output_type": "stream",
     "text": [
      "Epoch 9: train loss = 0.3528, val loss = 0.3376\n"
     ]
    },
    {
     "name": "stderr",
     "output_type": "stream",
     "text": [
      "100%|██████████| 251/251 [00:12<00:00, 19.81it/s]\n",
      "100%|██████████| 28/28 [00:01<00:00, 25.15it/s]\n"
     ]
    },
    {
     "name": "stdout",
     "output_type": "stream",
     "text": [
      "Epoch 10: train loss = 0.3491, val loss = 0.3368\n"
     ]
    },
    {
     "name": "stderr",
     "output_type": "stream",
     "text": [
      "100%|██████████| 251/251 [00:12<00:00, 20.16it/s]\n",
      "100%|██████████| 28/28 [00:01<00:00, 25.15it/s]\n"
     ]
    },
    {
     "name": "stdout",
     "output_type": "stream",
     "text": [
      "Epoch 11: train loss = 0.3466, val loss = 0.3371\n"
     ]
    },
    {
     "name": "stderr",
     "output_type": "stream",
     "text": [
      "100%|██████████| 251/251 [00:12<00:00, 20.01it/s]\n",
      "100%|██████████| 28/28 [00:01<00:00, 25.13it/s]\n"
     ]
    },
    {
     "name": "stdout",
     "output_type": "stream",
     "text": [
      "Epoch 12: train loss = 0.3451, val loss = 0.3395\n"
     ]
    },
    {
     "name": "stderr",
     "output_type": "stream",
     "text": [
      "100%|██████████| 251/251 [00:12<00:00, 19.95it/s]\n",
      "100%|██████████| 28/28 [00:01<00:00, 25.01it/s]\n"
     ]
    },
    {
     "name": "stdout",
     "output_type": "stream",
     "text": [
      "Epoch 13: train loss = 0.3446, val loss = 0.3373\n"
     ]
    },
    {
     "name": "stderr",
     "output_type": "stream",
     "text": [
      "100%|██████████| 251/251 [00:11<00:00, 21.01it/s]\n",
      "100%|██████████| 28/28 [00:01<00:00, 26.62it/s]"
     ]
    },
    {
     "name": "stdout",
     "output_type": "stream",
     "text": [
      "Epoch 14: train loss = 0.3426, val loss = 0.3363\n"
     ]
    },
    {
     "name": "stderr",
     "output_type": "stream",
     "text": [
      "\n"
     ]
    }
   ],
   "source": [
    "# Create train and validation dataloaders\n",
    "train_dataloader = torch.utils.data.DataLoader(train_dataset, batch_size=32, shuffle=True)\n",
    "val_dataloader = torch.utils.data.DataLoader(val_dataset, batch_size=32, shuffle=False)\n",
    "\n",
    "# Train the model\n",
    "num_epochs = 15\n",
    "train_loss_history = []\n",
    "val_loss_history = []\n",
    "should_early_stop = False\n",
    "\n",
    "for epoch in range(num_epochs):\n",
    "    # Training\n",
    "    model.train()\n",
    "    train_loss = 0\n",
    "    for batch in tqdm(train_dataloader):\n",
    "        optimizer.zero_grad()\n",
    "        output = model(\n",
    "            genres=batch[\"genres\"].to(device),\n",
    "            actors=batch[\"actors\"].to(device),\n",
    "            directors=batch[\"directors\"].to(device),\n",
    "            unix_release_time=batch[\"unix_release_time\"].to(device),\n",
    "            description=batch[\"description\"],\n",
    "            language=batch[\"language\"].to(device),\n",
    "        )\n",
    "        loss = criterion(output, batch[\"embeddings\"].to(device))\n",
    "        loss.backward()\n",
    "        optimizer.step()\n",
    "        train_loss += loss.item()\n",
    "    train_loss /= len(train_dataloader)\n",
    "    train_loss_history.append(train_loss)\n",
    "\n",
    "    # Validation\n",
    "    model.eval()\n",
    "    val_loss = 0\n",
    "    with torch.no_grad():\n",
    "        for batch in tqdm(val_dataloader):\n",
    "            # genres, actors, directors, unix_release_time, description, language\n",
    "            output = model(\n",
    "                genres=batch[\"genres\"].to(device),\n",
    "                actors=batch[\"actors\"].to(device),\n",
    "                directors=batch[\"directors\"].to(device),\n",
    "                unix_release_time=batch[\"unix_release_time\"].to(device),\n",
    "                description=batch[\"description\"],\n",
    "                language=batch[\"language\"].to(device),\n",
    "            )\n",
    "            loss = criterion(output, batch[\"embeddings\"].to(device))\n",
    "            val_loss += loss.item()\n",
    "    val_loss /= len(val_dataloader)\n",
    "    val_loss_history.append(val_loss)\n",
    "\n",
    "    if len(val_loss_history) > 4:\n",
    "        if val_loss_history[-1] > val_loss_history[-2] > val_loss_history[-3] > val_loss_history[-4]:\n",
    "            print(\"Early stopping\")\n",
    "            should_early_stop = True\n",
    "            break\n",
    "    print(f\"Epoch {epoch}: train loss = {train_loss:.4f}, val loss = {val_loss:.4f}\")\n"
   ]
  },
  {
   "cell_type": "code",
   "execution_count": 15,
   "metadata": {},
   "outputs": [
    {
     "data": {
      "image/png": "[encoded data removed]",
      "text/plain": [
       "<Figure size 640x480 with 1 Axes>"
      ]
     },
     "metadata": {},
     "output_type": "display_data"
    }
   ],
   "source": [
    "# Plot the loss curves for epochs\n",
    "\n",
    "\n",
    "plt.plot(train_loss_history, label=\"train\")\n",
    "plt.plot(val_loss_history, label=\"val\")\n",
    "plt.xlabel(\"Epoch\")\n",
    "plt.ylabel(\"Loss\")\n",
    "plt.legend()\n",
    "plt.show()\n",
    "\n",
    "# Save the model\n",
    "# torch.save(model.state_dict(), \"cb2cf_multi_modal_encoder_model.pt\")\n"
   ]
  },
  {
   "cell_type": "code",
   "execution_count": 14,
   "metadata": {},
   "outputs": [],
   "source": [
    "# Save the model to pt file\n",
    "torch.save(model, \"cb2cf_multi_modal_encoder_model.pt\")"
   ]
  }
 ],
 "metadata": {
  "kernelspec": {
   "display_name": ".venv",
   "language": "python",
   "name": "python3"
  },
  "language_info": {
   "codemirror_mode": {
    "name": "ipython",
    "version": 3
   },
   "file_extension": ".py",
   "mimetype": "text/x-python",
   "name": "python",
   "nbconvert_exporter": "python",
   "pygments_lexer": "ipython3",
   "version": "3.9.7"
  },
  "orig_nbformat": 4,
  "vscode": {
   "interpreter": {
    "hash": "4949604dacae39bdd2618bc76fb269ae5c6ee85cf584bc2addf7917737d48aad"
   }
  }
 },
 "nbformat": 4,
 "nbformat_minor": 2
}
