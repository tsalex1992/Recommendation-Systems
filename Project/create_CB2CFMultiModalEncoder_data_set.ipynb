{
 "cells": [
  {
   "cell_type": "code",
   "execution_count": 3,
   "metadata": {},
   "outputs": [
    {
     "data": {
      "text/html": [
       "<div>\n",
       "<style scoped>\n",
       "    .dataframe tbody tr th:only-of-type {\n",
       "        vertical-align: middle;\n",
       "    }\n",
       "\n",
       "    .dataframe tbody tr th {\n",
       "        vertical-align: top;\n",
       "    }\n",
       "\n",
       "    .dataframe thead th {\n",
       "        text-align: right;\n",
       "    }\n",
       "</style>\n",
       "<table border=\"1\" class=\"dataframe\">\n",
       "  <thead>\n",
       "    <tr style=\"text-align: right;\">\n",
       "      <th></th>\n",
       "      <th>movieId</th>\n",
       "      <th>0</th>\n",
       "    </tr>\n",
       "  </thead>\n",
       "  <tbody>\n",
       "    <tr>\n",
       "      <th>0</th>\n",
       "      <td>5000</td>\n",
       "      <td>5000</td>\n",
       "    </tr>\n",
       "    <tr>\n",
       "      <th>1</th>\n",
       "      <td>7881</td>\n",
       "      <td>7881</td>\n",
       "    </tr>\n",
       "    <tr>\n",
       "      <th>2</th>\n",
       "      <td>3931</td>\n",
       "      <td>3931</td>\n",
       "    </tr>\n",
       "    <tr>\n",
       "      <th>3</th>\n",
       "      <td>6223</td>\n",
       "      <td>6223</td>\n",
       "    </tr>\n",
       "    <tr>\n",
       "      <th>4</th>\n",
       "      <td>4256</td>\n",
       "      <td>4256</td>\n",
       "    </tr>\n",
       "  </tbody>\n",
       "</table>\n",
       "</div>"
      ],
      "text/plain": [
       "   movieId     0\n",
       "0     5000  5000\n",
       "1     7881  7881\n",
       "2     3931  3931\n",
       "3     6223  6223\n",
       "4     4256  4256"
      ]
     },
     "execution_count": 3,
     "metadata": {},
     "output_type": "execute_result"
    }
   ],
   "source": [
    "# load train_movies.pkl\n",
    "import pandas as pd\n",
    "\n",
    "train_items_df= pd.read_pickle(r\"train_movies.pkl\").to_frame()\n",
    "\n",
    "train_items_df= train_items_df.reset_index().rename(columns= {'index': 'movieId'})\n",
    "\n",
    "train_items_df.head()\n",
    "# print amount of movies\n"
   ]
  },
  {
   "cell_type": "code",
   "execution_count": 4,
   "metadata": {},
   "outputs": [
    {
     "name": "stdout",
     "output_type": "stream",
     "text": [
      "(174056, 25)\n"
     ]
    }
   ],
   "source": [
    "# load BPR2_item_embeddings.pkl\n",
    "\n",
    "item_embeddings= pd.read_pickle(r\"BPR2_item_embeddings.pkl\")\n",
    "\n",
    "# print shape of item_embeddings\n",
    "\n",
    "print(item_embeddings.shape)"
   ]
  },
  {
   "cell_type": "code",
   "execution_count": 5,
   "metadata": {},
   "outputs": [
    {
     "data": {
      "text/html": [
       "<div>\n",
       "<style scoped>\n",
       "    .dataframe tbody tr th:only-of-type {\n",
       "        vertical-align: middle;\n",
       "    }\n",
       "\n",
       "    .dataframe tbody tr th {\n",
       "        vertical-align: top;\n",
       "    }\n",
       "\n",
       "    .dataframe thead th {\n",
       "        text-align: right;\n",
       "    }\n",
       "</style>\n",
       "<table border=\"1\" class=\"dataframe\">\n",
       "  <thead>\n",
       "    <tr style=\"text-align: right;\">\n",
       "      <th></th>\n",
       "      <th>id</th>\n",
       "      <th>imdb_id</th>\n",
       "      <th>original_title</th>\n",
       "      <th>overview</th>\n",
       "      <th>release_date</th>\n",
       "      <th>runtime</th>\n",
       "      <th>title</th>\n",
       "      <th>movieId</th>\n",
       "      <th>imdbId</th>\n",
       "      <th>tmdbId</th>\n",
       "      <th>...</th>\n",
       "      <th>tl</th>\n",
       "      <th>tr</th>\n",
       "      <th>uk</th>\n",
       "      <th>ur</th>\n",
       "      <th>uz</th>\n",
       "      <th>vi</th>\n",
       "      <th>wo</th>\n",
       "      <th>xx</th>\n",
       "      <th>zh</th>\n",
       "      <th>zu</th>\n",
       "    </tr>\n",
       "  </thead>\n",
       "  <tbody>\n",
       "    <tr>\n",
       "      <th>0</th>\n",
       "      <td>862.0</td>\n",
       "      <td>tt0114709</td>\n",
       "      <td>Toy Story</td>\n",
       "      <td>Led by Woody, Andy's toys live happily in his ...</td>\n",
       "      <td>815011200.0</td>\n",
       "      <td>81.0</td>\n",
       "      <td>Toy Story</td>\n",
       "      <td>1.0</td>\n",
       "      <td>114709.0</td>\n",
       "      <td>862.0</td>\n",
       "      <td>...</td>\n",
       "      <td>0.0</td>\n",
       "      <td>0.0</td>\n",
       "      <td>0.0</td>\n",
       "      <td>0.0</td>\n",
       "      <td>0.0</td>\n",
       "      <td>0.0</td>\n",
       "      <td>0.0</td>\n",
       "      <td>0.0</td>\n",
       "      <td>0.0</td>\n",
       "      <td>0.0</td>\n",
       "    </tr>\n",
       "    <tr>\n",
       "      <th>1</th>\n",
       "      <td>8844.0</td>\n",
       "      <td>tt0113497</td>\n",
       "      <td>Jumanji</td>\n",
       "      <td>When siblings Judy and Peter discover an encha...</td>\n",
       "      <td>818985600.0</td>\n",
       "      <td>104.0</td>\n",
       "      <td>Jumanji</td>\n",
       "      <td>2.0</td>\n",
       "      <td>113497.0</td>\n",
       "      <td>8844.0</td>\n",
       "      <td>...</td>\n",
       "      <td>0.0</td>\n",
       "      <td>0.0</td>\n",
       "      <td>0.0</td>\n",
       "      <td>0.0</td>\n",
       "      <td>0.0</td>\n",
       "      <td>0.0</td>\n",
       "      <td>0.0</td>\n",
       "      <td>0.0</td>\n",
       "      <td>0.0</td>\n",
       "      <td>0.0</td>\n",
       "    </tr>\n",
       "    <tr>\n",
       "      <th>2</th>\n",
       "      <td>15602.0</td>\n",
       "      <td>tt0113228</td>\n",
       "      <td>Grumpier Old Men</td>\n",
       "      <td>A family wedding reignites the ancient feud be...</td>\n",
       "      <td>819590400.0</td>\n",
       "      <td>101.0</td>\n",
       "      <td>Grumpier Old Men</td>\n",
       "      <td>3.0</td>\n",
       "      <td>113228.0</td>\n",
       "      <td>15602.0</td>\n",
       "      <td>...</td>\n",
       "      <td>0.0</td>\n",
       "      <td>0.0</td>\n",
       "      <td>0.0</td>\n",
       "      <td>0.0</td>\n",
       "      <td>0.0</td>\n",
       "      <td>0.0</td>\n",
       "      <td>0.0</td>\n",
       "      <td>0.0</td>\n",
       "      <td>0.0</td>\n",
       "      <td>0.0</td>\n",
       "    </tr>\n",
       "    <tr>\n",
       "      <th>3</th>\n",
       "      <td>31357.0</td>\n",
       "      <td>tt0114885</td>\n",
       "      <td>Waiting to Exhale</td>\n",
       "      <td>Cheated on, mistreated and stepped on, the wom...</td>\n",
       "      <td>819590400.0</td>\n",
       "      <td>127.0</td>\n",
       "      <td>Waiting to Exhale</td>\n",
       "      <td>4.0</td>\n",
       "      <td>114885.0</td>\n",
       "      <td>31357.0</td>\n",
       "      <td>...</td>\n",
       "      <td>0.0</td>\n",
       "      <td>0.0</td>\n",
       "      <td>0.0</td>\n",
       "      <td>0.0</td>\n",
       "      <td>0.0</td>\n",
       "      <td>0.0</td>\n",
       "      <td>0.0</td>\n",
       "      <td>0.0</td>\n",
       "      <td>0.0</td>\n",
       "      <td>0.0</td>\n",
       "    </tr>\n",
       "    <tr>\n",
       "      <th>4</th>\n",
       "      <td>11862.0</td>\n",
       "      <td>tt0113041</td>\n",
       "      <td>Father of the Bride Part II</td>\n",
       "      <td>Just when George Banks has recovered from his ...</td>\n",
       "      <td>792374400.0</td>\n",
       "      <td>106.0</td>\n",
       "      <td>Father of the Bride Part II</td>\n",
       "      <td>5.0</td>\n",
       "      <td>113041.0</td>\n",
       "      <td>11862.0</td>\n",
       "      <td>...</td>\n",
       "      <td>0.0</td>\n",
       "      <td>0.0</td>\n",
       "      <td>0.0</td>\n",
       "      <td>0.0</td>\n",
       "      <td>0.0</td>\n",
       "      <td>0.0</td>\n",
       "      <td>0.0</td>\n",
       "      <td>0.0</td>\n",
       "      <td>0.0</td>\n",
       "      <td>0.0</td>\n",
       "    </tr>\n",
       "  </tbody>\n",
       "</table>\n",
       "<p>5 rows × 4907 columns</p>\n",
       "</div>"
      ],
      "text/plain": [
       "        id    imdb_id               original_title  \\\n",
       "0    862.0  tt0114709                    Toy Story   \n",
       "1   8844.0  tt0113497                      Jumanji   \n",
       "2  15602.0  tt0113228             Grumpier Old Men   \n",
       "3  31357.0  tt0114885            Waiting to Exhale   \n",
       "4  11862.0  tt0113041  Father of the Bride Part II   \n",
       "\n",
       "                                            overview  release_date  runtime  \\\n",
       "0  Led by Woody, Andy's toys live happily in his ...   815011200.0     81.0   \n",
       "1  When siblings Judy and Peter discover an encha...   818985600.0    104.0   \n",
       "2  A family wedding reignites the ancient feud be...   819590400.0    101.0   \n",
       "3  Cheated on, mistreated and stepped on, the wom...   819590400.0    127.0   \n",
       "4  Just when George Banks has recovered from his ...   792374400.0    106.0   \n",
       "\n",
       "                         title  movieId    imdbId   tmdbId  ...   tl   tr  \\\n",
       "0                    Toy Story      1.0  114709.0    862.0  ...  0.0  0.0   \n",
       "1                      Jumanji      2.0  113497.0   8844.0  ...  0.0  0.0   \n",
       "2             Grumpier Old Men      3.0  113228.0  15602.0  ...  0.0  0.0   \n",
       "3            Waiting to Exhale      4.0  114885.0  31357.0  ...  0.0  0.0   \n",
       "4  Father of the Bride Part II      5.0  113041.0  11862.0  ...  0.0  0.0   \n",
       "\n",
       "    uk   ur   uz   vi   wo   xx   zh   zu  \n",
       "0  0.0  0.0  0.0  0.0  0.0  0.0  0.0  0.0  \n",
       "1  0.0  0.0  0.0  0.0  0.0  0.0  0.0  0.0  \n",
       "2  0.0  0.0  0.0  0.0  0.0  0.0  0.0  0.0  \n",
       "3  0.0  0.0  0.0  0.0  0.0  0.0  0.0  0.0  \n",
       "4  0.0  0.0  0.0  0.0  0.0  0.0  0.0  0.0  \n",
       "\n",
       "[5 rows x 4907 columns]"
      ]
     },
     "execution_count": 5,
     "metadata": {},
     "output_type": "execute_result"
    }
   ],
   "source": [
    "# load movies_df.pkl to an object\n",
    "\n",
    "movies_df= pd.read_pickle(r\"movies_df.pkl\", compression= 'gzip')\n",
    "# print top\n",
    "\n",
    "movies_df.head()"
   ]
  },
  {
   "cell_type": "code",
   "execution_count": 6,
   "metadata": {},
   "outputs": [
    {
     "name": "stdout",
     "output_type": "stream",
     "text": [
      "(8911, 4907)\n",
      "(8911, 25)\n"
     ]
    }
   ],
   "source": [
    "\n",
    "# remove rows with the same id\n",
    "\n",
    "movies_df= movies_df.drop_duplicates(subset= 'id')\n",
    "\n",
    "# remove duplicates in train_items_df on movieId\n",
    "\n",
    "train_items_df= train_items_df.drop_duplicates(subset= 'movieId')\n",
    "\n",
    "# take only rows where id is in train_items_df movieId\n",
    "movies_df= movies_df[movies_df['movieId'].isin(train_items_df['movieId'])]\n",
    "\n",
    "# print amount of movies\n",
    "\n",
    "print(movies_df.shape)\n",
    "movie_ids = movies_df['movieId'].values\n",
    "\n",
    "\n",
    "# convert movie_ids to int\n",
    "\n",
    "movie_ids= movie_ids.astype(int)\n",
    "# take item embeddings only on indices of movie_ids\n",
    "\n",
    "item_embeddings= item_embeddings[movie_ids]\n",
    "\n",
    "# print shape of item_embeddings\n",
    "\n",
    "print(item_embeddings.shape)\n"
   ]
  },
  {
   "cell_type": "code",
   "execution_count": 7,
   "metadata": {},
   "outputs": [
    {
     "data": {
      "text/plain": [
       "Index(['id', 'imdb_id', 'original_title', 'overview', 'release_date',\n",
       "       'runtime', 'title', 'movieId', 'imdbId', 'tmdbId',\n",
       "       ...\n",
       "       'tl', 'tr', 'uk', 'ur', 'uz', 'vi', 'wo', 'xx', 'zh', 'zu'],\n",
       "      dtype='object', length=4907)"
      ]
     },
     "execution_count": 7,
     "metadata": {},
     "output_type": "execute_result"
    }
   ],
   "source": [
    "# print top\n",
    "\n",
    "movies_df.head()\n",
    "\n",
    "# print column names\n",
    "\n",
    "movies_df.columns"
   ]
  },
  {
   "cell_type": "code",
   "execution_count": 8,
   "metadata": {},
   "outputs": [
    {
     "name": "stdout",
     "output_type": "stream",
     "text": [
      "(8911,)\n",
      "(8911, 20)\n"
     ]
    }
   ],
   "source": [
    "# load columnMappings.json into an object\n",
    "\n",
    "import json\n",
    "\n",
    "with open(r\"columnMappings.json\", \"r\") as read_file:\n",
    "    columnMappings = json.load(read_file)\n",
    "\n",
    "# print keys of columnMappings\n",
    "\n",
    "\n",
    "genres = movies_df[columnMappings['genres']].values\n",
    "# # print the type of genres\n",
    "\n",
    "# print(type(genres))\n",
    "actors = movies_df[columnMappings['cast']].values\n",
    "\n",
    "directors = movies_df[columnMappings['director']].values\n",
    "\n",
    "unix_release_dates = movies_df['release_date'].values\n",
    "\n",
    "# print shape of unix_release_dates\n",
    "\n",
    "print(unix_release_dates.shape)\n",
    "\n",
    "description = movies_df['overview'].values\n",
    "\n",
    "language = movies_df[columnMappings['original_language']].values\n",
    "\n",
    "\n",
    "\n",
    "# print shape of genres\n",
    "\n",
    "print(genres.shape)\n",
    "\n"
   ]
  },
  {
   "cell_type": "code",
   "execution_count": 9,
   "metadata": {},
   "outputs": [
    {
     "data": {
      "text/plain": [
       "numpy.ndarray"
      ]
     },
     "execution_count": 9,
     "metadata": {},
     "output_type": "execute_result"
    }
   ],
   "source": [
    "type(description)"
   ]
  },
  {
   "cell_type": "code",
   "execution_count": 10,
   "metadata": {},
   "outputs": [
    {
     "name": "stderr",
     "output_type": "stream",
     "text": [
      "c:\\Users\\tsale\\OneDrive\\Desktop\\CS Masters Degree\\Recommendation Systems\\Project\\.venv\\lib\\site-packages\\tqdm\\auto.py:22: TqdmWarning: IProgress not found. Please update jupyter and ipywidgets. See https://ipywidgets.readthedocs.io/en/stable/user_install.html\n",
      "  from .autonotebook import tqdm as notebook_tqdm\n"
     ]
    },
    {
     "name": "stdout",
     "output_type": "stream",
     "text": [
      "8911\n"
     ]
    }
   ],
   "source": [
    "# Create CB2CFTransformerDataset\n",
    "\n",
    "from CB2CFMultiModalEncoderDataset import CB2CFMultiModalEncoderDataset\n",
    "\n",
    "cb2cf_train_dataset = CB2CFMultiModalEncoderDataset(\n",
    "    genres=genres,\n",
    "    actors=actors,\n",
    "    directors=directors,\n",
    "    unix_release_time=unix_release_dates,\n",
    "    description=description,\n",
    "    language=language,\n",
    "    movie_ids=movie_ids,\n",
    "    embedding=item_embeddings,\n",
    ")\n",
    "\n",
    "# print length of cb2cf_dataset\n",
    "\n",
    "print(len(cb2cf_train_dataset))"
   ]
  },
  {
   "cell_type": "code",
   "execution_count": 11,
   "metadata": {},
   "outputs": [
    {
     "name": "stdout",
     "output_type": "stream",
     "text": [
      "{'genres': tensor([0., 0., 1., 1., 0., 0., 0., 1., 0., 0., 0., 0., 0., 0., 0., 0., 0., 0.,\n",
      "        0., 0.]), 'actors': tensor([0., 0., 0.,  ..., 0., 0., 0.]), 'directors': tensor([0., 0., 0.,  ..., 0., 0., 0.]), 'unix_release_time': tensor([8.1501e+08]), 'description': \"Led by Woody, Andy's toys live happily in his room until Andy's birthday brings Buzz Lightyear onto the scene. Afraid of losing his place in Andy's heart, Woody plots against Buzz. But when circumstances separate Buzz and Woody from their owner, the duo eventually learns to put aside their differences.\", 'language': tensor([  0.,   0.,   0.,   0.,   0.,   0.,   0.,   0.,   0.,   0.,   0.,   0.,\n",
      "          0.,   0.,   0.,   0.,   0.,   1.,   0.,   0.,   0.,   0.,   0.,   0.,\n",
      "          0.,   0.,   0.,   0.,   0.,   0.,   0.,   0., 862.,   0.,   0.,   0.,\n",
      "          0.,   0.,   0.,   0.,   0.,   0.,   0.,   0.,   0.,   0.,   0.,   0.,\n",
      "          0.,   0.,   0.,   0.,   0.,   0.,   0.,   0.,   0.,   0.,   0.,   0.,\n",
      "          0.,   0.,   0.,   0.,   0.,   0.,   0.,   0.,   0.,   0.,   0.,   0.,\n",
      "          0.,   0.,   0.,   0.,   0.,   0.,   0.,   0.,   0.,   0.,   0.,   0.,\n",
      "          0.,   0.,   0.,   0.,   0.,   0.]), 'movie_ids': tensor(1, dtype=torch.int32), 'embeddings': tensor([ 0.2982,  0.2614, -0.7856,  0.9971,  3.2992, -0.8170, -0.7125, -2.0502,\n",
      "         4.0542, -0.8526,  1.3444,  0.4129,  0.2191, -1.2053, -2.0179,  0.0614,\n",
      "        -0.7421, -1.0261,  0.2459, -2.1592, -1.2286, -1.9451, -0.0160, -2.4591,\n",
      "        -1.8475])}\n",
      "{'genres': tensor([0., 1., 0., 0., 0., 0., 0., 1., 1., 0., 0., 0., 0., 0., 0., 0., 0., 0.,\n",
      "        0., 0.]), 'actors': tensor([0., 0., 0.,  ..., 0., 0., 0.]), 'directors': tensor([0., 0., 0.,  ..., 0., 0., 0.]), 'unix_release_time': tensor([8.1899e+08]), 'description': \"When siblings Judy and Peter discover an enchanted board game that opens the door to a magical world, they unwittingly invite Alan -- an adult who's been trapped inside the game for 26 years -- into their living room. Alan's only hope for freedom is to finish the game, which proves risky as all three find themselves running from giant rhinoceroses, evil monkeys and other terrifying creatures.\", 'language': tensor([0.0000e+00, 0.0000e+00, 0.0000e+00, 0.0000e+00, 0.0000e+00, 0.0000e+00,\n",
      "        0.0000e+00, 0.0000e+00, 0.0000e+00, 0.0000e+00, 0.0000e+00, 0.0000e+00,\n",
      "        0.0000e+00, 0.0000e+00, 0.0000e+00, 0.0000e+00, 0.0000e+00, 1.0000e+00,\n",
      "        0.0000e+00, 0.0000e+00, 0.0000e+00, 0.0000e+00, 0.0000e+00, 0.0000e+00,\n",
      "        0.0000e+00, 0.0000e+00, 0.0000e+00, 0.0000e+00, 0.0000e+00, 0.0000e+00,\n",
      "        0.0000e+00, 0.0000e+00, 8.8440e+03, 0.0000e+00, 0.0000e+00, 0.0000e+00,\n",
      "        0.0000e+00, 0.0000e+00, 0.0000e+00, 0.0000e+00, 0.0000e+00, 0.0000e+00,\n",
      "        0.0000e+00, 0.0000e+00, 0.0000e+00, 0.0000e+00, 0.0000e+00, 0.0000e+00,\n",
      "        0.0000e+00, 0.0000e+00, 0.0000e+00, 0.0000e+00, 0.0000e+00, 0.0000e+00,\n",
      "        0.0000e+00, 0.0000e+00, 0.0000e+00, 0.0000e+00, 0.0000e+00, 0.0000e+00,\n",
      "        0.0000e+00, 0.0000e+00, 0.0000e+00, 0.0000e+00, 0.0000e+00, 0.0000e+00,\n",
      "        0.0000e+00, 0.0000e+00, 0.0000e+00, 0.0000e+00, 0.0000e+00, 0.0000e+00,\n",
      "        0.0000e+00, 0.0000e+00, 0.0000e+00, 0.0000e+00, 0.0000e+00, 0.0000e+00,\n",
      "        0.0000e+00, 0.0000e+00, 0.0000e+00, 0.0000e+00, 0.0000e+00, 0.0000e+00,\n",
      "        0.0000e+00, 0.0000e+00, 0.0000e+00, 0.0000e+00, 0.0000e+00, 0.0000e+00]), 'movie_ids': tensor(2, dtype=torch.int32), 'embeddings': tensor([ 0.9916,  0.6846, -0.3022, -1.0310,  2.3074,  2.0076,  1.6157, -0.3786,\n",
      "         2.9420,  0.0247,  0.3387,  0.7578,  0.7919,  0.4205,  1.0931,  0.0934,\n",
      "         0.4240,  0.0122,  0.9898,  0.3314, -1.2594, -1.7323,  1.6695, -1.2239,\n",
      "        -1.7083])}\n"
     ]
    }
   ],
   "source": [
    "# Sample 2 items from cb2cf_dataset\n",
    "# output description and movie_id\n",
    "\n",
    "for i in range(2):\n",
    "    # print(cb2cf_train_dataset[i])\n",
    "    print(int(cb2cf_train_dataset[i][\"unix_release_time\"]))"
   ]
  },
  {
   "cell_type": "code",
   "execution_count": 9,
   "metadata": {},
   "outputs": [],
   "source": [
    "# save the dataset into a file with torch.save\n",
    "\n",
    "import torch\n",
    "\n",
    "torch.save(cb2cf_train_dataset, r\"cb2cf_train_dataset.pt\")"
   ]
  }
 ],
 "metadata": {
  "kernelspec": {
   "display_name": ".venv",
   "language": "python",
   "name": "python3"
  },
  "language_info": {
   "codemirror_mode": {
    "name": "ipython",
    "version": 3
   },
   "file_extension": ".py",
   "mimetype": "text/x-python",
   "name": "python",
   "nbconvert_exporter": "python",
   "pygments_lexer": "ipython3",
   "version": "3.9.7"
  },
  "orig_nbformat": 4,
  "vscode": {
   "interpreter": {
    "hash": "4949604dacae39bdd2618bc76fb269ae5c6ee85cf584bc2addf7917737d48aad"
   }
  }
 },
 "nbformat": 4,
 "nbformat_minor": 2
}
