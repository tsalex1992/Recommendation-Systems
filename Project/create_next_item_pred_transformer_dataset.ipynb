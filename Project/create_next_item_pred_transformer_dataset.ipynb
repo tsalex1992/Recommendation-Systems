{
 "cells": [
  {
   "cell_type": "code",
   "execution_count": 9,
   "metadata": {},
   "outputs": [],
   "source": [
    "import pandas as pd\n",
    "import torch\n",
    "import tqdm\n",
    "import numpy as np\n",
    "from tqdm import tqdm\n"
   ]
  },
  {
   "cell_type": "code",
   "execution_count": 10,
   "metadata": {},
   "outputs": [
    {
     "name": "stderr",
     "output_type": "stream",
     "text": [
      "100%|██████████| 8911/8911 [01:26<00:00, 102.72it/s]\n"
     ]
    }
   ],
   "source": [
    "# Load train dataset and produce train embeddings\n",
    "model_name = \"cb2cf_multi_modal_encoder_model.pt\"\n",
    "train_data = torch.load(\"cb2cf_train_dataset.pt\")\n",
    "train_dataloader = torch.utils.data.DataLoader(train_data, batch_size=1, shuffle=False, num_workers=0)\n",
    "model = torch.load(model_name)\n",
    "\n",
    "device = torch.device(\"cuda\" if torch.cuda.is_available() else \"cpu\")\n",
    "\n",
    "with torch.no_grad():\n",
    "    train_embeddings = []\n",
    "    train_titles = []\n",
    "    train_movie_ids = []\n",
    "    for data in tqdm(train_dataloader):\n",
    "        output = model(\n",
    "            genres=data[\"genres\"].to(device),\n",
    "            actors=data[\"actors\"].to(device),\n",
    "            directors=data[\"directors\"].to(device),\n",
    "            unix_release_time=data[\"unix_release_time\"].to(device),\n",
    "            description=data[\"description\"],\n",
    "            language=data[\"language\"].to(device),\n",
    "        )\n",
    "        train_embeddings.append(output.cpu().squeeze().numpy())\n",
    "        train_titles.append(data[\"title\"])\n",
    "        train_movie_ids.append(data[\"movie_ids\"])"
   ]
  },
  {
   "cell_type": "code",
   "execution_count": 11,
   "metadata": {},
   "outputs": [
    {
     "name": "stderr",
     "output_type": "stream",
     "text": [
      "100%|██████████| 991/991 [00:09<00:00, 103.40it/s]\n"
     ]
    }
   ],
   "source": [
    "test_data = torch.load(\"cb2cf_test_dataset.pt\")\n",
    "test_dataloader = torch.utils.data.DataLoader(test_data, batch_size=1, shuffle=False, num_workers=0)\n",
    "\n",
    "with torch.no_grad():\n",
    "    test_embeddings = []\n",
    "    test_titles = []\n",
    "    test_movie_ids = []\n",
    "    for i, data in enumerate(tqdm(test_dataloader)):\n",
    "        output = model(\n",
    "            genres=data[\"genres\"].to(device),\n",
    "            actors=data[\"actors\"].to(device),\n",
    "            directors=data[\"directors\"].to(device),\n",
    "            unix_release_time=data[\"unix_release_time\"].to(device),\n",
    "            description=data[\"description\"],\n",
    "            language=data[\"language\"].to(device),\n",
    "        )\n",
    "        test_embeddings.append(output.cpu().squeeze().numpy())\n",
    "        test_titles.append(data[\"title\"])\n",
    "        test_movie_ids.append(data[\"movie_ids\"])"
   ]
  },
  {
   "cell_type": "code",
   "execution_count": 12,
   "metadata": {},
   "outputs": [],
   "source": [
    "oracle_item_embeddings = pd.read_pickle(r\"BPR1_item_embeddings.pkl\")\n",
    "\n",
    "# convert train_movie ids and test movie ids to list of integers\n",
    "\n",
    "train_movie_ids = [int(movie_id) for movie_id in train_movie_ids]\n",
    "test_movie_ids = [int(movie_id) for movie_id in test_movie_ids]\n",
    "\n",
    "oracle_train_item_embeddings = oracle_item_embeddings[train_movie_ids]\n",
    "oracle_test_item_embeddings = oracle_item_embeddings[test_movie_ids]\n",
    "# all ids \n",
    "all_movie_ids = train_movie_ids + test_movie_ids\n",
    "# all titles\n",
    "all_titles = train_titles + test_titles\n",
    "# all oracle embeddings\n",
    "all_oracle_embeddings = np.concatenate((oracle_train_item_embeddings, oracle_test_item_embeddings), axis=0)"
   ]
  },
  {
   "cell_type": "code",
   "execution_count": 13,
   "metadata": {},
   "outputs": [],
   "source": [
    "# Create a dataframe with item id, title, oracle embedding, cb2cf embedding\n",
    "\n",
    "import pandas as pd\n",
    "import pickle\n",
    "\n",
    "df = pd.DataFrame()\n",
    "\n",
    "oracle_item_embeddings = pd.read_pickle(r\"BPR1_item_embeddings.pkl\")\n",
    "\n",
    "\n",
    "df[\"item_id\"] = all_movie_ids\n",
    "df[\"title\"] = all_titles\n",
    "\n",
    "df[\"oracle_embedding\"] = list(all_oracle_embeddings)\n",
    "\n",
    "df[\"cb2cf_embedding\"] = list(train_embeddings + test_embeddings)\n",
    "# print the first 5 rows of the dataframe\n",
    "\n",
    "df.head()\n",
    "\n",
    "# save the dataframe to a pickle file with highest protocol\n",
    "\n",
    "df.to_pickle(\"cb2cf_embeddings_and_oracle_embeddings.pkl\", protocol=pickle.HIGHEST_PROTOCOL)"
   ]
  },
  {
   "cell_type": "code",
   "execution_count": 14,
   "metadata": {},
   "outputs": [
    {
     "data": {
      "text/html": [
       "<div>\n",
       "<style scoped>\n",
       "    .dataframe tbody tr th:only-of-type {\n",
       "        vertical-align: middle;\n",
       "    }\n",
       "\n",
       "    .dataframe tbody tr th {\n",
       "        vertical-align: top;\n",
       "    }\n",
       "\n",
       "    .dataframe thead th {\n",
       "        text-align: right;\n",
       "    }\n",
       "</style>\n",
       "<table border=\"1\" class=\"dataframe\">\n",
       "  <thead>\n",
       "    <tr style=\"text-align: right;\">\n",
       "      <th></th>\n",
       "      <th>item_id</th>\n",
       "      <th>title</th>\n",
       "      <th>oracle_embedding</th>\n",
       "      <th>cb2cf_embedding</th>\n",
       "    </tr>\n",
       "  </thead>\n",
       "  <tbody>\n",
       "    <tr>\n",
       "      <th>0</th>\n",
       "      <td>1</td>\n",
       "      <td>[Toy Story]</td>\n",
       "      <td>[0.07483365, -0.80597216, -2.5122287, 0.172594...</td>\n",
       "      <td>[0.7114382, 0.20333348, 0.5329094, 0.94893163,...</td>\n",
       "    </tr>\n",
       "    <tr>\n",
       "      <th>1</th>\n",
       "      <td>2</td>\n",
       "      <td>[Jumanji]</td>\n",
       "      <td>[-0.7013331, -0.358848, -0.35755172, 0.3665048...</td>\n",
       "      <td>[-0.19589086, -0.75600845, -0.20841327, 0.9568...</td>\n",
       "    </tr>\n",
       "    <tr>\n",
       "      <th>2</th>\n",
       "      <td>4</td>\n",
       "      <td>[Waiting to Exhale]</td>\n",
       "      <td>[-1.4799722, 0.0777297, -0.37370113, 1.1802115...</td>\n",
       "      <td>[-0.65252167, -1.2592509, -0.67503864, 1.04062...</td>\n",
       "    </tr>\n",
       "    <tr>\n",
       "      <th>3</th>\n",
       "      <td>5</td>\n",
       "      <td>[Father of the Bride Part II]</td>\n",
       "      <td>[-1.7130021, 0.64792114, -0.45365041, 1.244741...</td>\n",
       "      <td>[-0.5138638, -1.3205254, -0.35981533, 1.049852...</td>\n",
       "    </tr>\n",
       "    <tr>\n",
       "      <th>4</th>\n",
       "      <td>6</td>\n",
       "      <td>[Heat]</td>\n",
       "      <td>[-1.9372973, 0.86165136, -0.5711593, 1.8253926...</td>\n",
       "      <td>[-1.9371253, 0.18546836, -0.46241716, 0.865678...</td>\n",
       "    </tr>\n",
       "  </tbody>\n",
       "</table>\n",
       "</div>"
      ],
      "text/plain": [
       "   item_id                          title  \\\n",
       "0        1                    [Toy Story]   \n",
       "1        2                      [Jumanji]   \n",
       "2        4            [Waiting to Exhale]   \n",
       "3        5  [Father of the Bride Part II]   \n",
       "4        6                         [Heat]   \n",
       "\n",
       "                                    oracle_embedding  \\\n",
       "0  [0.07483365, -0.80597216, -2.5122287, 0.172594...   \n",
       "1  [-0.7013331, -0.358848, -0.35755172, 0.3665048...   \n",
       "2  [-1.4799722, 0.0777297, -0.37370113, 1.1802115...   \n",
       "3  [-1.7130021, 0.64792114, -0.45365041, 1.244741...   \n",
       "4  [-1.9372973, 0.86165136, -0.5711593, 1.8253926...   \n",
       "\n",
       "                                     cb2cf_embedding  \n",
       "0  [0.7114382, 0.20333348, 0.5329094, 0.94893163,...  \n",
       "1  [-0.19589086, -0.75600845, -0.20841327, 0.9568...  \n",
       "2  [-0.65252167, -1.2592509, -0.67503864, 1.04062...  \n",
       "3  [-0.5138638, -1.3205254, -0.35981533, 1.049852...  \n",
       "4  [-1.9371253, 0.18546836, -0.46241716, 0.865678...  "
      ]
     },
     "execution_count": 14,
     "metadata": {},
     "output_type": "execute_result"
    }
   ],
   "source": [
    "# load cb2cf_embeddings_and_oracle_embeddings.pkl into a dataframe\n",
    "cb2cf_embeddings_and_oracle_embeddings_df= pd.read_pickle(r\"cb2cf_embeddings_and_oracle_embeddings.pkl\")\n",
    "\n",
    "# print the first 5 rows of the dataframe\n",
    "\n",
    "cb2cf_embeddings_and_oracle_embeddings_df.head()"
   ]
  },
  {
   "cell_type": "code",
   "execution_count": 38,
   "metadata": {},
   "outputs": [],
   "source": [
    "import numpy as np\n",
    "from sklearn.metrics.pairwise import cosine_similarity\n",
    "\n",
    "def print_most_similar_movie_titles(relevant_title, relevant_embedding, all_embeddings, all_titles, index_to_ignore=0, n=4):\n",
    "    all_titles = np.array(all_titles)\n",
    "    # remove index to ignore from all embeddings and all titles\n",
    "    all_embeddings = np.delete(all_embeddings, index_to_ignore, axis=0)\n",
    "    all_titles = np.delete(all_titles, index_to_ignore, axis=0)\n",
    "    # compute cosine similarity between relevant embedding and all embeddings\n",
    "    similarities = cosine_similarity(relevant_embedding.reshape(1, -1), all_embeddings)\n",
    "    # get the indices of the most similar embeddings\n",
    "    most_similar_indices = np.argsort(similarities[0])[-(n):]\n",
    "    # remove the first index as it is the relevant embedding itself\n",
    "    most_similar_indices = most_similar_indices\n",
    "    # convert to list of integers\n",
    "    most_similar_indices = most_similar_indices.tolist()\n",
    "    # convert all titles to numpy array\n",
    "    titles= all_titles[most_similar_indices]\n",
    "    print(f\"Most similar movies to {relevant_title} are:\\n {titles}\")\n",
    "    "
   ]
  },
  {
   "cell_type": "code",
   "execution_count": 43,
   "metadata": {},
   "outputs": [
    {
     "name": "stdout",
     "output_type": "stream",
     "text": [
      "Most similar movies from the test set using CB2CF embeddings\n",
      "Most similar movies to ['Seeing Other People'] are:\n",
      " [['Deliver Us from Eva']\n",
      " ['The Story of Us']\n",
      " ['View from the Top']\n",
      " ['Life or Something Like It']]\n",
      "Most similar movies from the test set using Oracle embeddings\n",
      "Most similar movies to ['Seeing Other People'] are:\n",
      " [['Beautiful Girls']\n",
      " ['¿Qué he hecho yo para merecer esto!']\n",
      " ['Christmas with the Kranks']\n",
      " ['Anthropoid']]\n"
     ]
    }
   ],
   "source": [
    "# pick a random index from test set\n",
    "random_index = np.random.randint(0, len(test_embeddings))\n",
    "# get the relevant title\n",
    "relevant_title = test_titles[random_index]\n",
    "# get the relevant embedding from the test set\n",
    "relevant_embedding = test_embeddings[random_index]\n",
    "# get the relevant embedding from the oracle set\n",
    "relevant_oracle_embedding = oracle_test_item_embeddings[random_index]\n",
    "\n",
    "index_to_ignore = random_index + len(train_embeddings)\n",
    "\n",
    "# get the most similar movies from the test set\n",
    "print(\"Most similar movies from the test set using CB2CF embeddings\")\n",
    "print_most_similar_movie_titles(relevant_title, relevant_embedding, train_embeddings + test_embeddings, train_titles + test_titles, index_to_ignore=index_to_ignore)\n",
    "# get the most similar movies from the oracle set\n",
    "print(\"\\n\")\n",
    "print(\"Most similar movies from the test set using Oracle embeddings\")\n",
    "print_most_similar_movie_titles(relevant_title, relevant_oracle_embedding, oracle_item_embeddings, train_titles + test_titles, index_to_ignore=random_index)\n",
    "\n",
    "\n"
   ]
  },
  {
   "cell_type": "code",
   "execution_count": null,
   "metadata": {},
   "outputs": [],
   "source": [
    "\n",
    "train_ratings_df= pd.read_pickle(r\"beforelastXRatings.pkl\",  compression= 'gzip')\n",
    "\n",
    "# print the first 5 rows of the dataframe\n",
    "\n",
    "train_ratings_df.head()"
   ]
  }
 ],
 "metadata": {
  "kernelspec": {
   "display_name": ".venv",
   "language": "python",
   "name": "python3"
  },
  "language_info": {
   "codemirror_mode": {
    "name": "ipython",
    "version": 3
   },
   "file_extension": ".py",
   "mimetype": "text/x-python",
   "name": "python",
   "nbconvert_exporter": "python",
   "pygments_lexer": "ipython3",
   "version": "3.9.7"
  },
  "orig_nbformat": 4,
  "vscode": {
   "interpreter": {
    "hash": "4949604dacae39bdd2618bc76fb269ae5c6ee85cf584bc2addf7917737d48aad"
   }
  }
 },
 "nbformat": 4,
 "nbformat_minor": 2
}
