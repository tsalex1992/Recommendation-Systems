{
  "cells": [
    {
      "cell_type": "markdown",
      "metadata": {
        "id": "_fVKl324nRzE"
      },
      "source": [
        "# Recommendations Systems\n",
        "## Assignment 2: Content Based Recommendations "
      ]
    },
    {
      "attachments": {},
      "cell_type": "markdown",
      "metadata": {
        "id": "J29wsiNnnRzJ"
      },
      "source": [
        "**By:**  \n",
        "Group #16\n",
        "\n",
        "<br><br>"
      ]
    },
    {
      "cell_type": "markdown",
      "metadata": {
        "id": "2PXWlUEnnRzK"
      },
      "source": [
        "**The goal of this assignment is to:**\n",
        "- Understand the details of content based recommender systems\n",
        "- Understand pros & cons comparing to other recommender system approaches\n",
        "- Practice recommender system training and evaluation.\n",
        "\n",
        "**Instructions:**\n",
        "- Students will form teams of two people each, and submit a single homework for each team.\n",
        "- The same score for the homework will be given to each member of the team.\n",
        "- Your solution in the form of an Jupyter notebook file (with extension ipynb).\n",
        "- Images/Graphs/Tables should be submitted inside the notebook.\n",
        "- The notebook should be runnable and properly documented. \n",
        "- Please answer all the questions and include all your code.\n",
        "- English only.\n",
        "\n",
        "**Submission:**\n",
        "- Submission of the homework will be done via Moodle by uploading a Jupyter notbook.\n",
        "- The homwork needs to be entirely in English.\n",
        "- The deadline for submission is on Moodle.\n",
        "\n",
        "**Requirements:**  \n",
        "- Python 3.6+ and up should be used.  \n",
        "- You should implement the recommender system by yourself using only basic Python libraries (such as numpy).\n"
      ]
    },
    {
      "cell_type": "markdown",
      "metadata": {
        "id": "cFIZartOnRzL"
      },
      "source": [
        "**Grading:**\n",
        "- Q1 - 10 points - Data exploration\n",
        "- Q2 - 30 points - Item similarity\n",
        "- Q3 - 40 points - Content based recommendation  \n",
        "- Q4 - 20 points - Content based vs. matrix factorization comparison\n",
        "\n",
        "`Total: 100`"
      ]
    },
    {
      "cell_type": "markdown",
      "metadata": {
        "id": "OCNE8OeKnRzL"
      },
      "source": [
        "**Prerequisites**"
      ]
    },
    {
      "cell_type": "code",
      "execution_count": null,
      "metadata": {
        "id": "UN0Z8HJNnRzM"
      },
      "outputs": [],
      "source": [
        "!pip install --quiet zipfile36\n",
        "!pip install --quiet wordcloud"
      ]
    },
    {
      "cell_type": "markdown",
      "metadata": {
        "id": "fIkl-Pb8nRzN"
      },
      "source": [
        "**Imports**"
      ]
    },
    {
      "cell_type": "code",
      "execution_count": null,
      "metadata": {
        "id": "9uEJwQ9CnRzO"
      },
      "outputs": [],
      "source": [
        "# general\n",
        "import time\n",
        "import random\n",
        "import zipfile\n",
        "import requests\n",
        "import warnings\n",
        "\n",
        "# ml\n",
        "import numpy as np\n",
        "import scipy as sp\n",
        "import pandas as pd\n",
        "\n",
        "# visual\n",
        "import seaborn as sns\n",
        "import matplotlib.pyplot as plt\n",
        "import matplotlib.ticker as tck\n",
        "from wordcloud import WordCloud, STOPWORDS\n",
        "\n",
        "# metrics - do not use these metrics directly except for validating your work\n",
        "from sklearn.metrics import mean_squared_error,ndcg_score \n",
        "\n",
        "# distance\n",
        "from scipy.spatial.distance import cosine\n",
        "from sklearn.metrics.pairwise import cosine_similarity\n",
        "\n",
        "# notebook\n",
        "from IPython.display import FileLink, display"
      ]
    },
    {
      "cell_type": "markdown",
      "metadata": {
        "id": "PhAiZn2znRzP"
      },
      "source": [
        "**Hide Warnings**"
      ]
    },
    {
      "cell_type": "code",
      "execution_count": null,
      "metadata": {
        "id": "5co1P_HHnRzP"
      },
      "outputs": [],
      "source": [
        "warnings.filterwarnings('ignore')"
      ]
    },
    {
      "cell_type": "markdown",
      "metadata": {
        "id": "BZtdWyJunRzQ"
      },
      "source": [
        "**Disable Autoscrolling**"
      ]
    },
    {
      "cell_type": "code",
      "execution_count": null,
      "metadata": {
        "id": "6kYSdh3dnRzQ",
        "outputId": "e3e018d4-cfa4-4203-acac-3b1dc8a32c5d"
      },
      "outputs": [
        {
          "data": {
            "application/javascript": "IPython.OutputArea.prototype._should_scroll = function(lines) {\n    return false;\n}\n",
            "text/plain": [
              "<IPython.core.display.Javascript object>"
            ]
          },
          "metadata": {},
          "output_type": "display_data"
        }
      ],
      "source": [
        "%%javascript\n",
        "IPython.OutputArea.prototype._should_scroll = function(lines) {\n",
        "    return false;\n",
        "}"
      ]
    },
    {
      "cell_type": "markdown",
      "metadata": {
        "id": "N6N9JnYmnRzR"
      },
      "source": [
        "**Set Random Seed**"
      ]
    },
    {
      "cell_type": "code",
      "execution_count": null,
      "metadata": {
        "id": "P3uUlBfrnRzS"
      },
      "outputs": [],
      "source": [
        "random.seed(123)"
      ]
    },
    {
      "cell_type": "markdown",
      "metadata": {
        "id": "UO0uMQ3znRzS"
      },
      "source": [
        "# Question 1: \n",
        "# Data exploration \n",
        "\n",
        "In this exercise you will use the same dataset that we used for exercise #1:  [MovieLens 100K rating dataset](https://grouplens.org/datasets/movielens/100k/)  use Fold #2\n",
        "\n",
        "Include additional exploration that is relevant for content based recommendation:\n",
        "\n",
        "Explore at least 3 features.  \n",
        "For example, explore the genres, titles, and you may also use [IMDB's API](https://developer.imdb.com/documentation/api-documentation/) to include additional features.  \n",
        " \n",
        "Use plots and discuss your insights and possible challenges related to the dataset.\n"
      ]
    },
    {
      "cell_type": "code",
      "execution_count": null,
      "metadata": {
        "id": "xtFMAEUrbLdZ"
      },
      "outputs": [],
      "source": []
    },
    {
      "cell_type": "code",
      "execution_count": null,
      "metadata": {
        "id": "Ui496wYYbLda"
      },
      "outputs": [],
      "source": []
    },
    {
      "cell_type": "code",
      "execution_count": null,
      "metadata": {
        "id": "T8yZvlxYnRzX"
      },
      "outputs": [],
      "source": []
    },
    {
      "cell_type": "markdown",
      "metadata": {
        "id": "af80TrDfnRzZ"
      },
      "source": [
        "<br><br><br><br><br><br>\n",
        "# Question 2:\n",
        "# Item Similarity\n",
        "\n",
        "The following blog posts [link1](https://medium.com/@bindhubalu/content-based-recommender-system-4db1b3de03e7), [link2](https://towardsdatascience.com/movie-recommendation-system-based-on-movielens-ef0df580cd0e), will be helpful for answering questions 2 and 3. \n",
        "\n",
        "Please provide code and explanations for your answer.  \n",
        "In case you don't have a clear answer, please provide your best hypothesis."
      ]
    },
    {
      "cell_type": "markdown",
      "metadata": {
        "id": "JAB4iwLenRzZ"
      },
      "source": [
        "### Build a movie profile vector based on the item features of your choice. \n",
        "Select at least two features from the dataset. Describe the potential contribution of each feature to a content based model.\n",
        "\n",
        "Tip: When looking on the MovieLens dataset its features vector will include `genres`, `title`, etc."
      ]
    },
    {
      "cell_type": "code",
      "execution_count": null,
      "metadata": {
        "id": "3t0M3NI2nRza"
      },
      "outputs": [],
      "source": [
        "# example\n",
        "# irrelevant_cols = []\n",
        "# movies_profile = df_items.drop(irrelevant_cols,axis=1)\n",
        "\n"
      ]
    },
    {
      "cell_type": "markdown",
      "metadata": {
        "id": "NivG7MXfnRza"
      },
      "source": [
        "### Build a function which provides the 5 most similar items to an input item (item_id). \n",
        "Please use `Cosine Similarity` metric to calculate Item to item similarity.  \n",
        "Notice: while it is a great way to debug your code, make sure not to return the actual input `item_id` in your results.\n"
      ]
    },
    {
      "cell_type": "code",
      "execution_count": null,
      "metadata": {
        "id": "MSYnSubZnRza"
      },
      "outputs": [],
      "source": [
        "def get_similar_items(..., item_id, n=5):\n",
        "    ''' \n",
        "    item_id : target item \n",
        "    n : number of similar items to return\n",
        "    \n",
        "    This function returns a dataframe\\array with ids of n most similar items to the target item and the similarity score\n",
        "    '''\n",
        "    \n",
        "    \n",
        "    return most_similar_items_id, most_similar_item_score"
      ]
    },
    {
      "cell_type": "markdown",
      "metadata": {
        "id": "d9pbwlX0nRza"
      },
      "source": [
        "### Use the above function to find the 5 most similar items for any 2 items from the dataset. \n",
        "Please discuss the results you got. Are there any issues with the quality of the results? \n",
        "\n",
        "Please add the movie's title and image to your explanation."
      ]
    },
    {
      "cell_type": "code",
      "execution_count": null,
      "metadata": {
        "id": "pe6qpkTUbLdc"
      },
      "outputs": [],
      "source": [
        "# first"
      ]
    },
    {
      "cell_type": "code",
      "execution_count": null,
      "metadata": {
        "id": "LoCcp_cNbLdc"
      },
      "outputs": [],
      "source": [
        "# second"
      ]
    },
    {
      "cell_type": "markdown",
      "metadata": {
        "id": "wkGNsu3tnRzc"
      },
      "source": [
        "<br><br><br><br><br><br>\n",
        "# Question 3:\n",
        "# Content based recommendation\n",
        "\n"
      ]
    },
    {
      "cell_type": "markdown",
      "metadata": {
        "id": "mLhQiEDjnRzc"
      },
      "source": [
        "### Build a function which recommends n=5 most relevant items to a user. "
      ]
    },
    {
      "cell_type": "code",
      "execution_count": null,
      "metadata": {
        "id": "mcoFVPornRzc"
      },
      "outputs": [],
      "source": [
        "def get_item_recommendations(..., user_id, n=5):\n",
        "    ''' \n",
        "    user_id: id of target user\n",
        "    n : number of recommended items\n",
        "    \n",
        "    This function returns a dataframe\\array with ids of n recommended items and their scores\n",
        "    '''\n",
        "\n",
        "\n",
        "    return recommended_items_ids,recommended_items_score\n",
        "    "
      ]
    },
    {
      "cell_type": "markdown",
      "metadata": {
        "id": "fXPIzuginRzd"
      },
      "source": [
        "### Test your recommender system on 2 users. Explain your results."
      ]
    },
    {
      "cell_type": "code",
      "execution_count": null,
      "metadata": {
        "id": "21u9FpfWer8u"
      },
      "outputs": [],
      "source": [
        "# TIP: try using code similar to the following for plotting your results\n",
        "# user_id = 9  \n",
        "# items, score = get_item_recommendations(users_profile,movies_profile,user_id)  \n",
        "\n",
        "# fig, axes = plt.subplots(ncols=2,figsize=(16,4))  \n",
        "# users_profile.loc[user_id].plot(kind='bar',ax=axes[0]);  \n",
        "# movies_profile.iloc[items].T.plot(kind='bar',ax=axes[1]);  \n",
        "# plt.legend(df_items.loc[df_items.index.isin(items)].movie_title);"
      ]
    },
    {
      "cell_type": "markdown",
      "metadata": {
        "id": "Spt9sBBenRzd"
      },
      "source": [
        "### Use the MRR metric to evaluate your recommender system on the test set. \n",
        "Use a cutoff value of 5."
      ]
    },
    {
      "cell_type": "code",
      "execution_count": null,
      "metadata": {
        "id": "Juqm7TmqnRzd"
      },
      "outputs": [],
      "source": []
    },
    {
      "cell_type": "markdown",
      "metadata": {
        "id": "MK1G_ZTgnRze"
      },
      "source": [
        "<br><br><br><br><br>\n",
        "# Question 4\n",
        "# Content based recommendations vs. Matrix Factorization"
      ]
    },
    {
      "cell_type": "markdown",
      "metadata": {
        "id": "MKhHmyeJnRzb"
      },
      "source": [
        "### Use MF's  item representation to find the most similar items\n",
        "Use the matrix factorization item representation you built in exercise 1 to find the most similar items for **the same 2 items** you used above. \n",
        "(Use your optimal hyperparams and resulting model)\n",
        "\n",
        "Compare the results you got using the different methods below and discuss your findings"
      ]
    },
    {
      "cell_type": "code",
      "execution_count": null,
      "metadata": {
        "id": "r9GJhHWunRzb"
      },
      "outputs": [],
      "source": [
        "# we recommend creating - class MF"
      ]
    },
    {
      "cell_type": "code",
      "execution_count": null,
      "metadata": {
        "id": "VFbSrKx4nRzb"
      },
      "outputs": [],
      "source": [
        "# find similar items to the same two items you chose\n",
        "pass"
      ]
    },
    {
      "cell_type": "markdown",
      "metadata": {
        "id": "Vs_YRzKufqxi"
      },
      "source": [
        "### Use MF implementation for item recommendations \n",
        "\n",
        "Use the matrix factorization implemention from exercise 1 to recommend 5 items to **the same 2 users** you used above. \n",
        "(Use your optimal hyperparams and resulting model)\n",
        "\n",
        "Compare the results you got using the different methods. Discuss your findings"
      ]
    },
    {
      "cell_type": "code",
      "execution_count": null,
      "metadata": {
        "id": "IJ-URjStgTEH"
      },
      "outputs": [],
      "source": []
    },
    {
      "cell_type": "markdown",
      "metadata": {
        "id": "F3aQGMnlnRze"
      },
      "source": [
        "### Compare the results of the content based recommender system to the matrix factorization recommender system\n",
        "\n",
        "- Please use the same train and test set. \n",
        "- Please use the MRR metric for the comparison (provide a comparison plot). "
      ]
    },
    {
      "cell_type": "code",
      "execution_count": null,
      "metadata": {
        "id": "KejWCWC7nRze"
      },
      "outputs": [],
      "source": []
    },
    {
      "cell_type": "markdown",
      "metadata": {
        "id": "LDLBJ29onRze"
      },
      "source": [
        "### Advantages & Disadvantages \n",
        "\n",
        "Please use the following table to discuss the advantages and disadvantages of matrix factorization vs. content based recommender systems.\n",
        "Please address the following aspects in your discussion, and feel free to add your own."
      ]
    },
    {
      "cell_type": "markdown",
      "metadata": {
        "id": "15qX_trJbLdi"
      },
      "source": [
        "<table>\n",
        "    <thead>\n",
        "        <tr>\n",
        "            <th>..</th>\n",
        "            <th style=\"text-align:center\">Content-Based</th>\n",
        "            <th style=\"text-align:center\">Matrix-Factorization</th>\n",
        "            <th style=\"text-align:left\">Notes:</th>\n",
        "        </tr>\n",
        "    </thead>\n",
        "    <tbody>\n",
        "        <tr>\n",
        "            <td>Dimensionality</td>\n",
        "            <td style=\"text-align:center\"></td>\n",
        "            <td style=\"text-align:center\"></td>\n",
        "            <td style=\"text-align:left\"></td>\n",
        "        </tr>\n",
        "        <tr>\n",
        "            <td>Similarity</td>\n",
        "            <td style=\"text-align:center\"></td>\n",
        "            <td style=\"text-align:center\"></td>\n",
        "            <td style=\"text-align:left\"></td>\n",
        "        </tr>\n",
        "        <tr>\n",
        "            <td>Accuracy</td>\n",
        "            <td style=\"text-align:center\"></td>\n",
        "            <td style=\"text-align:center\"></td>\n",
        "            <td style=\"text-align:left\"></td>\n",
        "        </tr>\n",
        "        <tr>\n",
        "            <td>Tranining Complexity</td>\n",
        "            <td style=\"text-align:center\"></td>\n",
        "            <td style=\"text-align:center\"></td>\n",
        "            <td style=\"text-align:left\"></td>\n",
        "        </tr>\n",
        "        <tr>\n",
        "            <td>Inference Complexity</td>\n",
        "            <td style=\"text-align:center\"></td>\n",
        "            <td style=\"text-align:center\"></td>\n",
        "            <td style=\"text-align:left\"></td>\n",
        "        </tr>\n",
        "        <tr>\n",
        "            <td>Explanability</td>\n",
        "            <td style=\"text-align:center\"></td>\n",
        "            <td style=\"text-align:center\"></td>\n",
        "            <td style=\"text-align:left\"></td>\n",
        "        </tr>\n",
        "        <tr>\n",
        "            <td>Scalability</td>\n",
        "            <td style=\"text-align:center\"></td>\n",
        "            <td style=\"text-align:center\"></td>\n",
        "            <td style=\"text-align:left\"></td>\n",
        "        </tr>        \n",
        "        <tr>\n",
        "            <td>New User</td>\n",
        "            <td style=\"text-align:center\"></td>\n",
        "            <td style=\"text-align:center\"></td>\n",
        "            <td style=\"text-align:left\"></td>\n",
        "        </tr>\n",
        "        <tr>\n",
        "            <td>New Item</td>\n",
        "            <td style=\"text-align:center\"></td>\n",
        "            <td style=\"text-align:center\"></td>\n",
        "            <td style=\"text-align:left\"></td>\n",
        "        </tr>\n",
        "        <tr>\n",
        "            <td>Train Time</td>\n",
        "            <td style=\"text-align:center\"></td>\n",
        "            <td style=\"text-align:center\"></td>\n",
        "            <td style=\"text-align:left\"></td>\n",
        "        </tr>\n",
        "        <tr>\n",
        "            <td>Predict Time</td>\n",
        "            <td style=\"text-align:center\"></td>\n",
        "            <td style=\"text-align:center\"></td>\n",
        "            <td style=\"text-align:left\"></td>\n",
        "        </tr>\n",
        "        <tr>\n",
        "            <td>Deterministic</td>\n",
        "            <td style=\"text-align:center\"></td>\n",
        "            <td style=\"text-align:center\"></td>\n",
        "            <td style=\"text-align:left\"></td>\n",
        "        </tr>\n",
        "    </tbody>\n",
        "</table>"
      ]
    },
    {
      "cell_type": "markdown",
      "metadata": {
        "id": "YJn44O9CnRze"
      },
      "source": [
        "<br>\n",
        "\n",
        "Good Luck :)"
      ]
    }
  ],
  "metadata": {
    "colab": {
      "provenance": []
    },
    "kernelspec": {
      "display_name": "Python 3",
      "language": "python",
      "name": "python3"
    },
    "language_info": {
      "codemirror_mode": {
        "name": "ipython",
        "version": 3
      },
      "file_extension": ".py",
      "mimetype": "text/x-python",
      "name": "python",
      "nbconvert_exporter": "python",
      "pygments_lexer": "ipython3",
      "version": "3.8.5"
    }
  },
  "nbformat": 4,
  "nbformat_minor": 0
}
